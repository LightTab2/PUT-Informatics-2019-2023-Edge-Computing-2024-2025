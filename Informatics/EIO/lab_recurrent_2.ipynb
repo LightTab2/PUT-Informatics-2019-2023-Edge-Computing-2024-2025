{
  "cells": [
    {
      "cell_type": "markdown",
      "metadata": {
        "id": "ebvqJaNU9bkH"
      },
      "source": [
        "# Elementy Inteligencji Obliczeniowej - Sieci Neuronowe\n",
        "\n",
        "\n",
        "---\n",
        "\n",
        "**Prowadzący:** REDACTED<br>\n",
        "**Kontakt:** REDACTED<br>\n",
        "**Materiały:** [Strona WWW](http://rrr.REDACTED.red)\n",
        "\n",
        "---"
      ]
    },
    {
      "cell_type": "markdown",
      "metadata": {
        "id": "i0tVMrm99g5w"
      },
      "source": [
        "## Uwaga\n",
        "\n",
        "* **Aby wykonać polecenia należy najpierw przejść do trybu 'playground'. File -> Open in Playground Mode**\n",
        "* Nowe funkcje Colab pozwalają na autouzupełnianie oraz czytanie dokumentacji"
      ]
    },
    {
      "cell_type": "markdown",
      "metadata": {
        "id": "Wlq47LA0BuBB"
      },
      "source": [
        "## Cel ćwiczeń:\n",
        "- zapoznanie się z rekurencyjnymi sieciami neuronowymi,\n",
        "- stworzenie modelu sieci z warstwami rekurencyjnymi dla zbioru danych MNIST,\n",
        "- stworzenie własnych implementacji warstwami neuronowych"
      ]
    },
    {
      "cell_type": "code",
      "execution_count": 1,
      "metadata": {
        "id": "SxLU8paIDmUe"
      },
      "outputs": [],
      "source": [
        "import tensorflow as tf\n",
        "import numpy as np"
      ]
    },
    {
      "cell_type": "code",
      "execution_count": 2,
      "metadata": {
        "id": "scL5_bHTD-M7"
      },
      "outputs": [],
      "source": [
        "from tensorflow.keras.datasets import mnist\n",
        "from tensorflow.keras.models import Sequential, Model\n",
        "from tensorflow.keras.layers import Dense, Dropout, Flatten, BatchNormalization, Conv2D, MaxPooling2D, LSTM, LSTMCell, SimpleRNNCell\n",
        "from tensorflow.keras.utils import to_categorical\n",
        "from tensorflow.keras.losses import categorical_crossentropy\n",
        "from tensorflow.keras.optimizers import Adadelta, RMSprop\n",
        "from tensorflow.python.keras import backend as K\n"
      ]
    },
    {
      "cell_type": "code",
      "execution_count": 3,
      "metadata": {
        "id": "wV_u-YBWEJ8X"
      },
      "outputs": [],
      "source": [
        "(x_train, y_train), (x_test, y_test) = mnist.load_data()\n",
        "\n",
        "\n",
        "x_train = x_train.astype('float32')  # shape: 60000, 28, 28\n",
        "x_test = x_test.astype('float32')    # shape: 10000, 28, 28\n",
        "x_train /= 255  # normalizacja wartości do przedziału [0, 1]\n",
        "x_test /= 255\n",
        "\n",
        "y_train = to_categorical(y_train, 10)  # zamiana etykiety na one-hot encoding; np. 2 -> [0, 0, 1, 0, 0, 0, 0, 0, 0, 0]\n",
        "y_test = to_categorical(y_test, 10)"
      ]
    },
    {
      "cell_type": "markdown",
      "metadata": {
        "id": "ppmDSGoyFuJ9"
      },
      "source": [
        "## Sieci rekurencyjne\n",
        "http://colah.github.io/posts/2015-08-Understanding-LSTMs/\n",
        "\n",
        "https://www.tensorflow.org/guide/keras/rnn\n",
        "\n",
        "https://www.tensorflow.org/guide/function\n",
        "\n",
        "http://karpathy.github.io/2015/05/21/rnn-effectiveness/\n",
        "\n",
        "http://www.wildml.com/2015/09/recurrent-neural-networks-tutorial-part-1-introduction-to-rnns/\n",
        "\n",
        "Przykładowy model z warstwą rekurencyjną dla danych MNIST:"
      ]
    },
    {
      "cell_type": "code",
      "execution_count": 4,
      "metadata": {
        "id": "ViqotGlHGy9t"
      },
      "outputs": [],
      "source": [
        "class RecurrentModel(Model):\n",
        "\n",
        "    def __init__(self, num_classes=10):\n",
        "        super(RecurrentModel, self).__init__(name='my_model')\n",
        "        self.num_classes = num_classes\n",
        "        # Define your layers here.\n",
        "        self.lstm_1 = LSTM(128, activation='relu')\n",
        "        self.dense_1 = Dense(num_classes, activation='softmax')\n",
        "\n",
        "    def call(self, inputs):\n",
        "        # Define your forward pass here,\n",
        "        # using layers you previously defined (in `__init__`).\n",
        "        x = self.lstm_1(inputs)\n",
        "        return self.dense_1(x)\n",
        "\n",
        "model = RecurrentModel(num_classes=10)"
      ]
    },
    {
      "cell_type": "code",
      "execution_count": 5,
      "metadata": {
        "colab": {
          "base_uri": "https://localhost:8080/"
        },
        "id": "jFs-QBFtEp0s",
        "outputId": "d9cf1ea4-546f-48a1-f7e7-9b12bf3cdd6a"
      },
      "outputs": [
        {
          "name": "stdout",
          "output_type": "stream",
          "text": [
            "Epoch 1/2\n",
            "1875/1875 [==============================] - 77s 39ms/step - loss: 0.5792 - accuracy: 0.8264\n",
            "Epoch 2/2\n",
            "1875/1875 [==============================] - 72s 38ms/step - loss: 0.1435 - accuracy: 0.9594\n"
          ]
        },
        {
          "data": {
            "text/plain": [
              "<keras.callbacks.History at 0x7f5b38d9fa90>"
            ]
          },
          "execution_count": 5,
          "metadata": {},
          "output_type": "execute_result"
        }
      ],
      "source": [
        "model.compile(optimizer=RMSprop(),\n",
        "              loss='categorical_crossentropy',\n",
        "              metrics=['accuracy'])\n",
        "\n",
        "model.fit(x_train, y_train, batch_size=32, epochs=2)"
      ]
    },
    {
      "cell_type": "markdown",
      "metadata": {
        "id": "ZgtZzVYg1361"
      },
      "source": [
        "### Zadanie 1\n",
        "Rozszerz model z powyższego przykładu o kolejną warstwę rekurencyjną przed gęstą warstwą wyjściową.\n",
        "\n",
        "Standardowe sieci neuronowe generują jeden wynik na podstawie jednego inputu, natomiast sieci rekurencyjne przetwarzają dane sekwencyjnie, w każdym kroku łącząc wynik poprzedniego przetwarzania i aktualnego wejścia. Dlatego domyślnym wejściem sieci neuronowej jest tensor 3-wymiarowy ([batch_size,sequence_size,sample_size]).\n",
        "Domyślnie warstwy rekurencyjne w Kerasie zwracają tylko wyniki przetwarzania ostatniego\n",
        "kroku (otrzymują tensor 3-wymiarowy, zwracają tensor 2-wymiarowy). Jeśli chcesz zwrócić sekwencje wyników wszystkich kroków przetwarzania dla warstwy rekurencyjnej, musisz ustawić parametr return_sequences=True.\n"
      ]
    },
    {
      "cell_type": "code",
      "execution_count": 6,
      "metadata": {
        "colab": {
          "base_uri": "https://localhost:8080/"
        },
        "id": "MSJUzxAc15uZ",
        "outputId": "059215ab-0ba7-4ba0-f97c-39755dc156e4"
      },
      "outputs": [
        {
          "name": "stdout",
          "output_type": "stream",
          "text": [
            "Epoch 1/2\n",
            "1875/1875 [==============================] - 164s 87ms/step - loss: 0.5015 - accuracy: 0.8492\n",
            "Epoch 2/2\n",
            "1875/1875 [==============================] - 162s 86ms/step - loss: 0.1391 - accuracy: 0.9636\n"
          ]
        }
      ],
      "source": [
        "class ChewstoneModel(Model):\n",
        "    def __init__(self, num_classes):\n",
        "        super().__init__(name='ChewstoneModel')\n",
        "        self.num_classes = num_classes\n",
        "        self.lstm1 = LSTM(128, activation='relu', return_sequences=True)\n",
        "        self.lstm2 = LSTM(128, activation='relu')\n",
        "        self.d1    = Dense(num_classes, activation='softmax')\n",
        "\n",
        "    def call(self, inputs):\n",
        "        x = self.lstm1(inputs)\n",
        "        x = self.lstm2(x)\n",
        "        x = self.d1(x)\n",
        "        return x\n",
        "\n",
        "m = ChewstoneModel(num_classes=10)\n",
        "m.compile(optimizer=RMSprop(), loss='categorical_crossentropy', metrics=['accuracy'])\n",
        "m_f = m.fit(x_train, y_train, batch_size=32, epochs=2)"
      ]
    },
    {
      "cell_type": "markdown",
      "metadata": {
        "id": "fYDLWjdseB4H"
      },
      "source": [
        "### Zadanie 2 \n",
        "Wykorzystując model z przykładu, napisz sieć rekurencyjną przy użyciu SimpleRNNCell.\n",
        "\n",
        "Cell implementuje tylko operacje wykonywane przez warstwę\n",
        "rekurencyjną dla jednego kroku. Warstwy rekurencyjne w każdym kroku\n",
        "łączą wynik operacji poprzedniego kroku i aktualny input.\n",
        "Wykorzystaj pętle for do wielokrotnego wywołania komórki SimpleRNNCell (liczba kroków to liczba elementów w sekwencji). Aby wywołać SimpleRNNCell dla pojedynczego wejścia i stanu należy użyć jej metody ```call``` analogicznie jak w przypadku własnych modeli (tzn. ```my_model(input)```). \n",
        "\n",
        "\n",
        "\n",
        "Wywołanie zainicjalizowanej komórki rekurencyjnej wymaga podania aktualnego inputu i **listy macierzy** (w dokumentacji jest błąd, że ma to być macierz) stanów ukrytych poprzedniego kroku (SimpleRNNCell ma jeden stan, LSTMCell w następnym zadaniu ma dwa stany).\n",
        "\n",
        "Trzeba zainicjalizować ukryty stan warstwy wartościami początkowymi (można wykorzystać rozkład normalny - tf.random.normal)."
      ]
    },
    {
      "cell_type": "code",
      "execution_count": 7,
      "metadata": {
        "colab": {
          "base_uri": "https://localhost:8080/"
        },
        "id": "6yZ8yKmbee44",
        "outputId": "c4bd1442-aca7-4cbb-929c-734e88352610"
      },
      "outputs": [
        {
          "name": "stdout",
          "output_type": "stream",
          "text": [
            "Epoch 1/2\n",
            "1875/1875 [==============================] - 16s 8ms/step - loss: 0.4937 - accuracy: 0.8450\n",
            "Epoch 2/2\n",
            "1875/1875 [==============================] - 14s 8ms/step - loss: 0.2150 - accuracy: 0.9383\n"
          ]
        }
      ],
      "source": [
        "class ChewstoneModel2(Model):\n",
        "    def __init__(self, num_classes):\n",
        "        super().__init__(name='ChewstoneModel2')\n",
        "        self.num_classes = num_classes\n",
        "        self.rnn1 = SimpleRNNCell(128, activation='relu')\n",
        "        self.d1   = Dense(num_classes, activation='softmax')\n",
        "\n",
        "    def call(self, inputs):\n",
        "        h = tf.random.normal([inputs.shape[0], self.rnn1.units])\n",
        "        for i in range(inputs.shape[1]):\n",
        "          x, h = self.rnn1(inputs[:,i,:], h)\n",
        "        x = self.d1(x)\n",
        "        return x\n",
        "\n",
        "m2 = ChewstoneModel2(num_classes=10)\n",
        "m2.compile(optimizer=RMSprop(), loss='categorical_crossentropy', metrics=['accuracy'])\n",
        "m2_f = m2.fit(x_train, y_train, batch_size=32, epochs=2)"
      ]
    },
    {
      "cell_type": "markdown",
      "metadata": {
        "id": "eyPGkC6oiEd5"
      },
      "source": [
        "### Zadanie 3\n",
        "Zamień komórkę rekurencyjną z poprzedniego zadania na LSTMCell (LSTMCell ma dwa stany ukryte)."
      ]
    },
    {
      "cell_type": "code",
      "execution_count": 8,
      "metadata": {
        "colab": {
          "base_uri": "https://localhost:8080/"
        },
        "id": "C5MPQ1UcigN5",
        "outputId": "e6559adf-27fb-4918-d63f-95c8fcfe7467"
      },
      "outputs": [
        {
          "name": "stdout",
          "output_type": "stream",
          "text": [
            "Epoch 1/2\n",
            "1875/1875 [==============================] - 65s 33ms/step - loss: 0.6234 - accuracy: 0.8109\n",
            "Epoch 2/2\n",
            "1875/1875 [==============================] - 60s 32ms/step - loss: 0.1424 - accuracy: 0.9598\n"
          ]
        }
      ],
      "source": [
        "class ChewstoneModel3(Model):\n",
        "    def __init__(self, num_classes):\n",
        "        super().__init__(name='ChewstoneModel3')\n",
        "        self.num_classes = num_classes\n",
        "        self.ltsm1 = LSTMCell(128, activation='relu')\n",
        "        self.d1    = Dense(num_classes, activation='softmax')\n",
        "\n",
        "    def call(self, inputs):\n",
        "        dims = (inputs.shape[0], self.ltsm1.units)\n",
        "        h = [tf.random.normal(dims), tf.random.normal(dims)]\n",
        "        for i in range(inputs.shape[1]):\n",
        "          x, h = self.ltsm1(inputs[:,i,:], h)\n",
        "        x = self.d1(x)\n",
        "        return x\n",
        "\n",
        "m3 = ChewstoneModel3(num_classes=10)\n",
        "m3.compile(optimizer=RMSprop(), loss='categorical_crossentropy', metrics=['accuracy'])\n",
        "m3_f = m3.fit(x_train, y_train, batch_size=32, epochs=2)"
      ]
    },
    {
      "cell_type": "markdown",
      "metadata": {
        "id": "prwjaEv2efs3"
      },
      "source": [
        "### Zadanie 4\n",
        "Wykorzystując model z poprzedniego zadania, stwórz model sieci\n",
        "neuronowej z własną implementacją prostej warstwy rekurencyjnej.\n",
        "- w call zamień self.lstm_cell_layer(x) na wywołanie własnej metody np. self.cell(x)\n",
        "- w konstruktorze modelu usuń inicjalizację komórki LSTM i zastąp ją inicjalizacją warstw potrzebnych do stworzenia własnej komórki rekurencyjnej,\n",
        "- stwórz metodę cell() wykonującą operacje warstwy rekurencyjnej,\n",
        "- prosta warstwa rekurencyjna konkatenuje poprzedni wyniki i aktualny input, a następnie przepuszcza ten połączony tensor przez warstwę gęstą (Dense)."
      ]
    },
    {
      "cell_type": "code",
      "execution_count": 9,
      "metadata": {
        "colab": {
          "base_uri": "https://localhost:8080/"
        },
        "id": "BGQr50EafxSH",
        "outputId": "1a2d1109-ffd8-4202-d1e9-9cfd32e8f62b"
      },
      "outputs": [
        {
          "name": "stdout",
          "output_type": "stream",
          "text": [
            "Epoch 1/2\n",
            "1875/1875 [==============================] - 17s 8ms/step - loss: 0.5514 - accuracy: 0.8205\n",
            "Epoch 2/2\n",
            "1875/1875 [==============================] - 15s 8ms/step - loss: 0.2372 - accuracy: 0.9315\n"
          ]
        }
      ],
      "source": [
        "class ChewstoneModel4(Model):\n",
        "    def __init__(self, num_classes):\n",
        "        super().__init__(name='ChewstoneModel4')\n",
        "        self.num_classes = num_classes\n",
        "        self.d1_r = Dense(128, activation='relu')\n",
        "        self.d2   = Dense(num_classes, activation='softmax')\n",
        "\n",
        "    def cell(self, x, h):\n",
        "        return self.d1_r(K.concatenate([x, h]))\n",
        "\n",
        "    def call(self, inputs):\n",
        "        h = tf.random.normal((inputs.shape[0], self.d1_r.units))\n",
        "        for i in range(inputs.shape[1]):\n",
        "          h = self.cell(inputs[:,i,:], h)\n",
        "        x = self.d2(h)\n",
        "        return x\n",
        "\n",
        "m4 = ChewstoneModel4(num_classes=10)\n",
        "m4.compile(optimizer=RMSprop(), loss='categorical_crossentropy', metrics=['accuracy'])\n",
        "m4_f = m4.fit(x_train, y_train, batch_size=32, epochs=2)"
      ]
    },
    {
      "cell_type": "markdown",
      "metadata": {
        "id": "_3sOaUu3b77l"
      },
      "source": [
        "### Zadanie 5\n",
        "\n",
        "Na podstawie modelu z poprzedniego zadania stwórz model z własną implementacją warstwy LSTM. Dokładny i zrozumiały opis działania warstwy LSTM znajduje się na [stronie](http://colah.github.io/posts/2015-08-Understanding-LSTMs/)."
      ]
    },
    {
      "cell_type": "code",
      "execution_count": 10,
      "metadata": {
        "colab": {
          "base_uri": "https://localhost:8080/"
        },
        "id": "Kyu4YijDcA13",
        "outputId": "ae3c910e-96ed-4718-ab27-dbdc4a23e05d"
      },
      "outputs": [
        {
          "name": "stdout",
          "output_type": "stream",
          "text": [
            "Epoch 1/2\n",
            "1875/1875 [==============================] - 47s 22ms/step - loss: 0.3459 - accuracy: 0.8900\n",
            "Epoch 2/2\n",
            "1875/1875 [==============================] - 41s 22ms/step - loss: 0.1101 - accuracy: 0.9666\n"
          ]
        }
      ],
      "source": [
        "class ChewstoneModel5(Model):\n",
        "    def __init__(self, num_classes):\n",
        "        super().__init__(name='ChewstoneModel5')\n",
        "        self.num_classes = num_classes\n",
        "        self.d1_i = Dense(128, activation='sigmoid')\n",
        "        self.d2_f = Dense(128, activation='sigmoid')\n",
        "        self.d3_o = Dense(128, activation='sigmoid')\n",
        "        self.d4_c = Dense(128, activation='tanh')\n",
        "        self.d5   = Dense(num_classes, activation='softmax')\n",
        "\n",
        "    def cell(self, x, h):\n",
        "        c_prev, h_prev = h\n",
        "        hax = K.concatenate([h_prev, x])\n",
        "        c_next = self.d1_i(hax) * self.d4_c(hax) + self.d2_f(hax) * c_prev\n",
        "        h_next = self.d3_o(hax) * K.tanh(c_next)\n",
        "        return h_next, (c_next, h_next)\n",
        "\n",
        "    def call(self, inputs):\n",
        "        shape = (inputs.shape[0], 128)\n",
        "        h = [tf.random.normal(shape), tf.random.normal(shape)]\n",
        "        for i in range(inputs.shape[1]):\n",
        "          x, h = self.cell(inputs[:,i,:], h)\n",
        "        x = self.d5(x)\n",
        "        return x\n",
        "\n",
        "m5 = ChewstoneModel5(num_classes=10)\n",
        "m5.compile(optimizer=RMSprop(), loss='categorical_crossentropy', metrics=['accuracy'])\n",
        "m5_f = m5.fit(x_train, y_train, batch_size=32, epochs=2)"
      ]
    }
  ],
  "metadata": {
    "colab": {
      "provenance": []
    },
    "kernelspec": {
      "display_name": "Python 3",
      "name": "python3"
    }
  },
  "nbformat": 4,
  "nbformat_minor": 0
}
