{
 "cells": [
  {
   "cell_type": "code",
   "execution_count": 10,
   "metadata": {},
   "outputs": [
    {
     "name": "stdout",
     "output_type": "stream",
     "text": [
      "[1] \"H0: p=0\"\n",
      "[1] \"H1: p!=0\"\n",
      "[1] \"Zbior krytyczny:( -inf,-1.64) U (1.64,inf)\"\n",
      "[1] \"Wartosc statystyki z proby:  2\"\n",
      "[1] \"TRUE, Odrzucamy H0\"\n"
     ]
    }
   ],
   "source": [
    "alpha <- 0.1\n",
    "dane1 <- c(1,11,12,10,5,14,6,3,15,8,7,15,14,9,6,1,17)\n",
    "dane2 <- c(2,4,4,2,10,1,9,9,3,4,5,10,10,2,4,3,10)\n",
    "roznice<- dane1-dane2\n",
    "n<-16\n",
    "T<-max(sum(roznice>0),sum(roznice<0))\n",
    "crl<-qnorm(alpha/2,0,1)\n",
    "crr<-qnorm(1-alpha/2,0,1)\n",
    "Z<-(2*T-n)/sqrt(n)\n",
    "\n",
    "print(paste(\"H0: p=0\"))\n",
    "print(paste(\"H1: p!=0\"))\n",
    "print(paste(\"Zbior krytyczny:( -inf,\",round(crl,2) ,\") U (\", round(crr,2),\",inf)\",sep=\"\"))\n",
    "print(paste(\"Wartosc statystyki z proby: \",round(Z,2)))\n",
    "if(Z>crr || Z<crl)\n",
    "    {\n",
    "    print(\"TRUE, Odrzucamy H0\")\n",
    "    } else {\n",
    "    print(\"FALSE, brak podstaw do odrzucenia H0\")\n",
    "    }"
   ]
  },
  {
   "cell_type": "code",
   "execution_count": 8,
   "metadata": {},
   "outputs": [
    {
     "name": "stdout",
     "output_type": "stream",
     "text": [
      "Pearson:  1Spearman:  1"
     ]
    }
   ],
   "source": [
    "X<- c(1,2,3,4,5,6,7,8)\n",
    "Y<- c(-5,-3,-1,1,3,5,7,9)\n",
    "cat(\"Pearson: \",cor(X,Y,method='pearson'))\n",
    "cat(\"Spearman: \",cor(X,Y,method='spearman'))"
   ]
  },
  {
   "cell_type": "code",
   "execution_count": null,
   "metadata": {},
   "outputs": [],
   "source": []
  },
  {
   "cell_type": "code",
   "execution_count": null,
   "metadata": {},
   "outputs": [],
   "source": []
  }
 ],
 "metadata": {
  "kernelspec": {
   "display_name": "R",
   "language": "R",
   "name": "ir"
  },
  "language_info": {
   "codemirror_mode": "r",
   "file_extension": ".r",
   "mimetype": "text/x-r-source",
   "name": "R",
   "pygments_lexer": "r",
   "version": "3.6.1"
  }
 },
 "nbformat": 4,
 "nbformat_minor": 4
}
