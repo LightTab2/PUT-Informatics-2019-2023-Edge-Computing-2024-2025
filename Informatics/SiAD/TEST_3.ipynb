{
 "cells": [
  {
   "cell_type": "code",
   "execution_count": 3,
   "metadata": {},
   "outputs": [],
   "source": [
    "dane <- c(14.9, 15.2, 19.1, 13.4, 16.6, 27, 17.6, 16.2, 14.3, 17.3, 20.1, 15.7, 18, 18.8, 19.5, 14.5,  22.2, 9, 18.2, 21.4, 16.2, 19.8, 16.9, 19.7, 14.2, 18.7, 20.9, 22.3, 23.6)\n",
    "n<-length(dane)\n",
    "sigma <- sd(dane)\n",
    "przedzial_ufnosci <- 0.99"
   ]
  },
  {
   "cell_type": "code",
   "execution_count": 4,
   "metadata": {},
   "outputs": [
    {
     "data": {
      "text/html": [
       "1.71318025257325"
      ],
      "text/latex": [
       "1.71318025257325"
      ],
      "text/markdown": [
       "1.71318025257325"
      ],
      "text/plain": [
       "[1] 1.71318"
      ]
     },
     "metadata": {},
     "output_type": "display_data"
    },
    {
     "name": "stdout",
     "output_type": "stream",
     "text": [
      "[1] \"Lewy kraniec:  16.2627\"\n",
      "[1] \"Prawy kraniec:  19.689\"\n",
      "[1] \"Szerokosc przedzialu:  3.4264\"\n"
     ]
    },
    {
     "data": {
      "text/html": [
       "16.2626818163923"
      ],
      "text/latex": [
       "16.2626818163923"
      ],
      "text/markdown": [
       "16.2626818163923"
      ],
      "text/plain": [
       "[1] 16.26268"
      ]
     },
     "metadata": {},
     "output_type": "display_data"
    },
    {
     "data": {
      "text/html": [
       "19.6890423215388"
      ],
      "text/latex": [
       "19.6890423215388"
      ],
      "text/markdown": [
       "19.6890423215388"
      ],
      "text/plain": [
       "[1] 19.68904"
      ]
     },
     "metadata": {},
     "output_type": "display_data"
    }
   ],
   "source": [
    "poziom_istotnosci <- 1 - przedzial_ufnosci\n",
    "kwantyl <- qnorm(1 - poziom_istotnosci / 2)\n",
    "delta <- kwantyl * sigma / sqrt(n)\n",
    "delta\n",
    "\n",
    "lewy <- mean(dane) - delta\n",
    "prawy <-  mean(dane) + delta\n",
    "\n",
    "print(paste(\"Lewy kraniec: \",round(lewy, 4)))\n",
    "print(paste(\"Prawy kraniec: \",round(prawy, 4)))\n",
    "print(paste(\"Szerokosc przedzialu: \",round(2*delta, 4)))\n",
    "lewy\n",
    "prawy"
   ]
  },
  {
   "cell_type": "code",
   "execution_count": 3,
   "metadata": {},
   "outputs": [],
   "source": [
    "n <- 46\n",
    "sigma <- 10\n",
    "srednia <- 3\n",
    "przedzial_ufnosci <- 0.81"
   ]
  },
  {
   "cell_type": "code",
   "execution_count": 4,
   "metadata": {},
   "outputs": [
    {
     "data": {
      "text/html": [
       "1.93234347993817"
      ],
      "text/latex": [
       "1.93234347993817"
      ],
      "text/markdown": [
       "1.93234347993817"
      ],
      "text/plain": [
       "[1] 1.932343"
      ]
     },
     "metadata": {},
     "output_type": "display_data"
    },
    {
     "name": "stdout",
     "output_type": "stream",
     "text": [
      "[1] \"Lewy kraniec:  1.07\"\n",
      "[1] \"Prawy kraniec:  4.93\"\n",
      "[1] \"Szerokosc przedzialu:  3.86\"\n"
     ]
    },
    {
     "data": {
      "text/html": [
       "1.06765652006183"
      ],
      "text/latex": [
       "1.06765652006183"
      ],
      "text/markdown": [
       "1.06765652006183"
      ],
      "text/plain": [
       "[1] 1.067657"
      ]
     },
     "metadata": {},
     "output_type": "display_data"
    },
    {
     "data": {
      "text/html": [
       "4.93234347993817"
      ],
      "text/latex": [
       "4.93234347993817"
      ],
      "text/markdown": [
       "4.93234347993817"
      ],
      "text/plain": [
       "[1] 4.932343"
      ]
     },
     "metadata": {},
     "output_type": "display_data"
    }
   ],
   "source": [
    "poziom_istotnosci <- 1 - przedzial_ufnosci\n",
    "kwantyl <- qnorm(1 - poziom_istotnosci / 2)\n",
    "delta <- kwantyl * sigma / sqrt(n)\n",
    "delta\n",
    "\n",
    "lewy <- srednia - delta\n",
    "prawy <- srednia + delta\n",
    "\n",
    "print(paste(\"Lewy kraniec: \",round(lewy, 2)))\n",
    "print(paste(\"Prawy kraniec: \",round(prawy, 2)))\n",
    "print(paste(\"Szerokosc przedzialu: \",round(2*delta, 2)))\n",
    "lewy\n",
    "prawy"
   ]
  },
  {
   "cell_type": "code",
   "execution_count": 7,
   "metadata": {},
   "outputs": [],
   "source": [
    "n <- 45\n",
    "sigma <- 7\n",
    "srednia <- 6\n",
    "przedzial_ufnosci <- 0.82"
   ]
  },
  {
   "cell_type": "code",
   "execution_count": 8,
   "metadata": {},
   "outputs": [
    {
     "data": {
      "text/html": [
       "1.39907571836963"
      ],
      "text/latex": [
       "1.39907571836963"
      ],
      "text/markdown": [
       "1.39907571836963"
      ],
      "text/plain": [
       "[1] 1.399076"
      ]
     },
     "metadata": {},
     "output_type": "display_data"
    },
    {
     "name": "stdout",
     "output_type": "stream",
     "text": [
      "[1] \"Lewy kraniec:  4.6\"\n",
      "[1] \"Prawy kraniec:  7.4\"\n",
      "[1] \"Szerokosc przedzialu:  2.8\"\n"
     ]
    },
    {
     "data": {
      "text/html": [
       "4.60092428163037"
      ],
      "text/latex": [
       "4.60092428163037"
      ],
      "text/markdown": [
       "4.60092428163037"
      ],
      "text/plain": [
       "[1] 4.600924"
      ]
     },
     "metadata": {},
     "output_type": "display_data"
    },
    {
     "data": {
      "text/html": [
       "7.39907571836963"
      ],
      "text/latex": [
       "7.39907571836963"
      ],
      "text/markdown": [
       "7.39907571836963"
      ],
      "text/plain": [
       "[1] 7.399076"
      ]
     },
     "metadata": {},
     "output_type": "display_data"
    }
   ],
   "source": [
    "poziom_istotnosci <- 1 - przedzial_ufnosci\n",
    "kwantyl <- qnorm(1 - poziom_istotnosci / 2)\n",
    "delta <- kwantyl * sigma / sqrt(n)\n",
    "delta\n",
    "\n",
    "lewy <- srednia - delta\n",
    "prawy <- srednia + delta\n",
    "\n",
    "print(paste(\"Lewy kraniec: \",round(lewy, 2)))\n",
    "print(paste(\"Prawy kraniec: \",round(prawy, 2)))\n",
    "print(paste(\"Szerokosc przedzialu: \",round(2*delta, 2)))\n",
    "lewy\n",
    "prawy"
   ]
  },
  {
   "cell_type": "code",
   "execution_count": 5,
   "metadata": {},
   "outputs": [
    {
     "data": {
      "text/plain": [
       "\n",
       "\tShapiro-Wilk normality test\n",
       "\n",
       "data:  x\n",
       "W = 0.93662, p-value = 0.5782\n"
      ]
     },
     "metadata": {},
     "output_type": "display_data"
    }
   ],
   "source": [
    "x<-c(72, 70, 68, 66, 78, 63, 65, 68)\n",
    "shapiro.test(x)"
   ]
  },
  {
   "cell_type": "code",
   "execution_count": null,
   "metadata": {},
   "outputs": [],
   "source": []
  }
 ],
 "metadata": {
  "kernelspec": {
   "display_name": "R",
   "language": "R",
   "name": "ir"
  },
  "language_info": {
   "codemirror_mode": "r",
   "file_extension": ".r",
   "mimetype": "text/x-r-source",
   "name": "R",
   "pygments_lexer": "r",
   "version": "3.6.1"
  }
 },
 "nbformat": 4,
 "nbformat_minor": 4
}
