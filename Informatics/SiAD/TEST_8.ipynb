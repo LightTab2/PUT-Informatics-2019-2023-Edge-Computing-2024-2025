{
 "cells": [
  {
   "cell_type": "code",
   "execution_count": 15,
   "metadata": {},
   "outputs": [
    {
     "data": {
      "text/html": [
       "'R2: 0.94'"
      ],
      "text/latex": [
       "'R2: 0.94'"
      ],
      "text/markdown": [
       "'R2: 0.94'"
      ],
      "text/plain": [
       "[1] \"R2: 0.94\""
      ]
     },
     "metadata": {},
     "output_type": "display_data"
    },
    {
     "data": {
      "text/html": [
       "'SSR: 340'"
      ],
      "text/latex": [
       "'SSR: 340'"
      ],
      "text/markdown": [
       "'SSR: 340'"
      ],
      "text/plain": [
       "[1] \"SSR: 340\""
      ]
     },
     "metadata": {},
     "output_type": "display_data"
    },
    {
     "data": {
      "text/html": [
       "'SSE: 20'"
      ],
      "text/latex": [
       "'SSE: 20'"
      ],
      "text/markdown": [
       "'SSE: 20'"
      ],
      "text/plain": [
       "[1] \"SSE: 20\""
      ]
     },
     "metadata": {},
     "output_type": "display_data"
    },
    {
     "data": {
      "text/html": [
       "'Wartosc krytyczna: 3.01'"
      ],
      "text/latex": [
       "'Wartosc krytyczna: 3.01'"
      ],
      "text/markdown": [
       "'Wartosc krytyczna: 3.01'"
      ],
      "text/plain": [
       "[1] \"Wartosc krytyczna: 3.01\""
      ]
     },
     "metadata": {},
     "output_type": "display_data"
    },
    {
     "data": {
      "text/html": [
       "'Wartosc statystyki: 136'"
      ],
      "text/latex": [
       "'Wartosc statystyki: 136'"
      ],
      "text/markdown": [
       "'Wartosc statystyki: 136'"
      ],
      "text/plain": [
       "[1] \"Wartosc statystyki: 136\""
      ]
     },
     "metadata": {},
     "output_type": "display_data"
    },
    {
     "name": "stdout",
     "output_type": "stream",
     "text": [
      "[1] \"odrzucamy H0 na rzecz H1\"\n"
     ]
    }
   ],
   "source": [
    "# SST = SSR + SSE\n",
    "\n",
    "#Test na istotność regresji \n",
    "n=28\n",
    "m=3 #ilość zmiennych\n",
    "R2=0.75\n",
    "SST=360\n",
    "alpha=0.05\n",
    "R2 = 1 - SSE/SST\n",
    "paste(\"R2:\",round(R2,2))\n",
    "#F(m,n-m-1)=xyz\n",
    "\n",
    "SSR=R2*SST\n",
    "SSE=SST-SSR\n",
    "\n",
    "kryt=qf(alpha,m,n-m-1,lower.tail=FALSE)\n",
    "F=(SSR/m) / (SSE/(n-m-1))\n",
    "\n",
    "#MSR=SSR/m\n",
    "#MSE=SSE/(n-m-1)\n",
    "#F=MSR/MSE\n",
    "\n",
    "paste(\"SSR:\",round(SSR,2))\n",
    "paste(\"SSE:\",round(SSE,2))\n",
    "paste(\"Wartosc krytyczna:\",round(kryt,2))\n",
    "paste(\"Wartosc statystyki:\",round(F,2))\n",
    "if(F>kryt){\n",
    "    print(\"odrzucamy H0 na rzecz H1\")\n",
    "} else {\n",
    "    print(\"NIE odrzucamy H0\")\n",
    "}"
   ]
  },
  {
   "cell_type": "code",
   "execution_count": 16,
   "metadata": {},
   "outputs": [
    {
     "data": {
      "text/html": [
       "'SST: 116.1'"
      ],
      "text/latex": [
       "'SST: 116.1'"
      ],
      "text/markdown": [
       "'SST: 116.1'"
      ],
      "text/plain": [
       "[1] \"SST: 116.1\""
      ]
     },
     "metadata": {},
     "output_type": "display_data"
    },
    {
     "data": {
      "text/html": [
       "'SSR: 109.65'"
      ],
      "text/latex": [
       "'SSR: 109.65'"
      ],
      "text/markdown": [
       "'SSR: 109.65'"
      ],
      "text/plain": [
       "[1] \"SSR: 109.65\""
      ]
     },
     "metadata": {},
     "output_type": "display_data"
    },
    {
     "data": {
      "text/html": [
       "'SSE: 6.45'"
      ],
      "text/latex": [
       "'SSE: 6.45'"
      ],
      "text/markdown": [
       "'SSE: 6.45'"
      ],
      "text/plain": [
       "[1] \"SSE: 6.45\""
      ]
     },
     "metadata": {},
     "output_type": "display_data"
    },
    {
     "data": {
      "text/html": [
       "'Wartosc krytyczna: 3.01'"
      ],
      "text/latex": [
       "'Wartosc krytyczna: 3.01'"
      ],
      "text/markdown": [
       "'Wartosc krytyczna: 3.01'"
      ],
      "text/plain": [
       "[1] \"Wartosc krytyczna: 3.01\""
      ]
     },
     "metadata": {},
     "output_type": "display_data"
    },
    {
     "data": {
      "text/html": [
       "'Wartosc statystyki: 136'"
      ],
      "text/latex": [
       "'Wartosc statystyki: 136'"
      ],
      "text/markdown": [
       "'Wartosc statystyki: 136'"
      ],
      "text/plain": [
       "[1] \"Wartosc statystyki: 136\""
      ]
     },
     "metadata": {},
     "output_type": "display_data"
    },
    {
     "name": "stdout",
     "output_type": "stream",
     "text": [
      "[1] \"odrzucamy H0 na rzecz H1\"\n"
     ]
    }
   ],
   "source": [
    "#Test na istotność regresji wielorakiej\n",
    "\n",
    "#Test na istotność regresji \n",
    "n=28\n",
    "m=3 #ilość zmiennych\n",
    "R2=0.75\n",
    "SST=360\n",
    "alpha=0.05\n",
    "R2 = 1 - SSE/SST\n",
    "\n",
    "SST=sy2*(n-1)\n",
    "SSR=SST*R2\n",
    "SSE=SST-SSR\n",
    "\n",
    "kryt=qf(alpha,m,n-m-1,lower.tail=FALSE)\n",
    "F=(SSR/m) / (SSE/(n-m-1))\n",
    "\n",
    "paste(\"SST:\",round(SST,2))\n",
    "paste(\"SSR:\",round(SSR,2))\n",
    "paste(\"SSE:\",round(SSE,2))\n",
    "paste(\"Wartosc krytyczna:\",round(kryt,2))\n",
    "paste(\"Wartosc statystyki:\",round(F,2))\n",
    "if(F>kryt){\n",
    "    print(\"odrzucamy H0 na rzecz H1\")\n",
    "} else {\n",
    "    print(\"NIE odrzucamy H0\")\n",
    "}"
   ]
  },
  {
   "cell_type": "code",
   "execution_count": null,
   "metadata": {},
   "outputs": [],
   "source": []
  }
 ],
 "metadata": {
  "kernelspec": {
   "display_name": "R",
   "language": "R",
   "name": "ir"
  },
  "language_info": {
   "codemirror_mode": "r",
   "file_extension": ".r",
   "mimetype": "text/x-r-source",
   "name": "R",
   "pygments_lexer": "r",
   "version": "3.6.1"
  }
 },
 "nbformat": 4,
 "nbformat_minor": 4
}
