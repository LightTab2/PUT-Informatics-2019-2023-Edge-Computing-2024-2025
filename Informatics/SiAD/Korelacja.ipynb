{
 "cells": [
  {
   "cell_type": "code",
   "execution_count": 19,
   "metadata": {},
   "outputs": [
    {
     "data": {
      "text/html": [
       "<strong>Kowariancja:</strong> 0.004"
      ],
      "text/latex": [
       "\\textbf{Kowariancja:} 0.004"
      ],
      "text/markdown": [
       "**Kowariancja:** 0.004"
      ],
      "text/plain": [
       "Kowariancja \n",
       "      0.004 "
      ]
     },
     "metadata": {},
     "output_type": "display_data"
    },
    {
     "data": {
      "text/html": [
       "<strong>Korelacja:</strong> 0.093"
      ],
      "text/latex": [
       "\\textbf{Korelacja:} 0.093"
      ],
      "text/markdown": [
       "**Korelacja:** 0.093"
      ],
      "text/plain": [
       "Korelacja \n",
       "    0.093 "
      ]
     },
     "metadata": {},
     "output_type": "display_data"
    },
    {
     "data": {
      "text/plain": [
       "\n",
       "Call:\n",
       "lm(formula = x ~ y, data = regresja)\n",
       "\n",
       "Residuals:\n",
       "     Min       1Q   Median       3Q      Max \n",
       "-0.51302 -0.36350 -0.02485  0.35929  0.46596 \n",
       "\n",
       "Coefficients:\n",
       "            Estimate Std. Error t value Pr(>|t|)\n",
       "(Intercept)   0.4088     0.2585   1.582    0.131\n",
       "y             0.3413     0.8583   0.398    0.696\n",
       "\n",
       "Residual standard error: 0.3816 on 18 degrees of freedom\n",
       "Multiple R-squared:  0.008706,\tAdjusted R-squared:  -0.04637 \n",
       "F-statistic: 0.1581 on 1 and 18 DF,  p-value: 0.6956\n"
      ]
     },
     "metadata": {},
     "output_type": "display_data"
    }
   ],
   "source": [
    "Dane1 = c(0.47,0.064,0.917,0.904,0.992,0.077,0.131,0.998,0.018,0.819,0.922,0.155,0.499,0.843,0.07,0.814,0.02,0.602,0.304,0.498)\n",
    "Dane2 = c(0.302,0.331,0.199,0.157,0.404,0.381,0.309,0.361,0.358,0.32,0.251,0.302,0.287,0.286,0.037,0.403,0.202,0.114,0.251,0.43)\n",
    "kowariancja <- cov(Dane1, Dane2)\n",
    "names(kowariancja) <- \"Kowariancja\"\n",
    "round(kowariancja, 3)\n",
    "korelacja <-cor(Dane1, Dane2)\n",
    "names(korelacja) <- \"Korelacja\"\n",
    "round(korelacja, 3)\n",
    "regresja <- data.frame('x' = Dane1, 'y' = Dane2)\n",
    "model <- lm(x~y, regresja)\n",
    "summary(model)"
   ]
  },
  {
   "cell_type": "code",
   "execution_count": 20,
   "metadata": {},
   "outputs": [
    {
     "data": {
      "text/plain": [
       "[1] Test Z"
      ]
     },
     "metadata": {},
     "output_type": "display_data"
    },
    {
     "data": {
      "text/html": [
       "<strong>Statystyka Z:</strong> 0.419"
      ],
      "text/latex": [
       "\\textbf{Statystyka Z:} 0.419"
      ],
      "text/markdown": [
       "**Statystyka Z:** 0.419"
      ],
      "text/plain": [
       "Statystyka Z \n",
       "       0.419 "
      ]
     },
     "metadata": {},
     "output_type": "display_data"
    },
    {
     "data": {
      "text/html": [
       "<strong>p-value dwustronnego:</strong> 1.325"
      ],
      "text/latex": [
       "\\textbf{p-value dwustronnego:} 1.325"
      ],
      "text/markdown": [
       "**p-value dwustronnego:** 1.325"
      ],
      "text/plain": [
       "p-value dwustronnego \n",
       "               1.325 "
      ]
     },
     "metadata": {},
     "output_type": "display_data"
    },
    {
     "name": "stdout",
     "output_type": "stream",
     "text": [
      "[1] Test dwustronny: Obszar krytyczny ( -1.96 ; 1.96 )\n",
      "[1] Test dwustronny: Brak podstaw do odrzucenia H0\n"
     ]
    },
    {
     "data": {
      "text/plain": [
       "[1] Test T"
      ]
     },
     "metadata": {},
     "output_type": "display_data"
    },
    {
     "data": {
      "text/html": [
       "<strong>Statystyka T:</strong> 0.398"
      ],
      "text/latex": [
       "\\textbf{Statystyka T:} 0.398"
      ],
      "text/markdown": [
       "**Statystyka T:** 0.398"
      ],
      "text/plain": [
       "Statystyka T \n",
       "       0.398 "
      ]
     },
     "metadata": {},
     "output_type": "display_data"
    },
    {
     "data": {
      "text/html": [
       "<strong>p-value dwustronnego:</strong> 1.304"
      ],
      "text/latex": [
       "\\textbf{p-value dwustronnego:} 1.304"
      ],
      "text/markdown": [
       "**p-value dwustronnego:** 1.304"
      ],
      "text/plain": [
       "p-value dwustronnego \n",
       "               1.304 "
      ]
     },
     "metadata": {},
     "output_type": "display_data"
    },
    {
     "name": "stdout",
     "output_type": "stream",
     "text": [
      "[1] Test dwustronny: Obszar krytyczny ( -2.101 ; 2.101 )\n",
      "[1] Test dwustronny: Brak podstaw do odrzucenia H0\n"
     ]
    }
   ],
   "source": [
    "#Dane1 = rnorm(20, runif(1, -20, 20), runif(1, 0.1, 4))\n",
    "#Dane2 = rnorm(20, runif(1, -20, 20), runif(1, 0.1, 4))\n",
    "alfa <- 0.05\n",
    "\n",
    "n1 <- length(Dane1)\n",
    "n2 <- length(Dane2)\n",
    "if (n1 != n2)\n",
    "    noquotes(\"Błąd w danych. Różne rozmiary\")\n",
    "df <- n1-2\n",
    "r <- cor(Dane1, Dane2)\n",
    "Z <- r/sqrt(1-r^2)*sqrt(n1)\n",
    "\n",
    "noquote(\"Test Z\")\n",
    "\n",
    "names(Z) <- \"Statystyka Z\"\n",
    "round(Z, 3)\n",
    "\n",
    "#ZpVal <- pnorm(Z)\n",
    "#names(ZpVal) <- \"p-value jednostronnego\"\n",
    "#round(ZpVal, 2)\n",
    "\n",
    "ZpVal2 <- 2*pnorm(Z)\n",
    "names(ZpVal2) <- \"p-value dwustronnego\"\n",
    "round(ZpVal2, 3)\n",
    "\n",
    "#Zkryt<-qnorm(1-alfa)\n",
    "Zkryt_dwustronne<-qnorm(1-alfa/2)\n",
    "\n",
    "#print(paste(\"Test prawostronny: Obszar krytyczny (\", round(Zkryt,2), \"; inf )\"), quote = FALSE)\n",
    "#if (Z >= Zkryt)\n",
    "#{\n",
    "#    print(\"Test prawostronny: Odrzucamy H0 na rzecz H1\", quote = FALSE)\n",
    "#} else\n",
    "#{\n",
    "#    print(\"Test prawostronny: Brak podstaw do odrzucenia H0\", quote = FALSE)\n",
    "#}\n",
    "\n",
    "#print(paste(\"Test lewostronny: Obszar krytyczny ( -inf ;\", round(-Zkryt,2), \")\"), quote = FALSE)\n",
    "#if (Z <= -Zkryt)\n",
    "#{\n",
    "#    print(\"Test lewostronny: Odrzucamy H0 na rzecz H1\", quote = FALSE)\n",
    "#} else\n",
    "#{\n",
    "#    print(\"Test lewostronny: Brak podstaw do odrzucenia H0\", quote = FALSE)\n",
    "#}\n",
    "\n",
    "print(paste(\"Test dwustronny: Obszar krytyczny (\", round(-Zkryt_dwustronne,3), \";\", round(Zkryt_dwustronne,3), \")\"), quote = FALSE)\n",
    "if (Z <= -Zkryt_dwustronne || Z >= Zkryt_dwustronne){\n",
    "    print(\"Test dwustronny: Odrzucamy H0 na rzecz H1\", quote = FALSE)\n",
    "} else\n",
    "{\n",
    "    print(\"Test dwustronny: Brak podstaw do odrzucenia H0\", quote = FALSE)\n",
    "}\n",
    "\n",
    "noquote(\"Test T\")\n",
    "\n",
    "T <- r/sqrt(1-r^2)*sqrt(df)\n",
    "names(T) <- \"Statystyka T\"\n",
    "round(T, 3)\n",
    "\n",
    "#TpVal <- pt(T, df)\n",
    "#names(TpVal) <- \"p-value jednostronnego\"\n",
    "#round(TpVal, 2)\n",
    "\n",
    "TpVal2 <- 2*pt(T, df)\n",
    "names(TpVal2) <- \"p-value dwustronnego\"\n",
    "round(TpVal2, 3)\n",
    "\n",
    "#Tkryt<-qt(1-alfa, df)\n",
    "Tkryt_dwustronne<-qt(1-alfa/2, df)\n",
    "\n",
    "#print(paste(\"Test prawostronny: Obszar krytyczny (\", round(Tkryt,2), \"; inf )\"), quote = FALSE)\n",
    "#if (T >= Tkryt)\n",
    "#{\n",
    "#    print(\"Test prawostronny: Odrzucamy H0 na rzecz H1\", quote = FALSE)\n",
    "#} else\n",
    "#{\n",
    "#    print(\"Test prawostronny: Brak podstaw do odrzucenia H0\", quote = FALSE)\n",
    "#}\n",
    "\n",
    "#print(paste(\"Test lewostronny: Obszar krytyczny ( -inf ;\", round(-Tkryt,2), \")\"), quote = FALSE)\n",
    "#if (T <= -Tkryt)\n",
    "#{\n",
    "#    print(\"Test lewostronny: Odrzucamy H0 na rzecz H1\", quote = FALSE)\n",
    "#} else\n",
    "#{\n",
    "#    print(\"Test lewostronny: Brak podstaw do odrzucenia H0\", quote = FALSE)\n",
    "#}\n",
    "\n",
    "print(paste(\"Test dwustronny: Obszar krytyczny (\", round(-Tkryt_dwustronne,3), \";\", round(Tkryt_dwustronne,3), \")\"), quote = FALSE)\n",
    "if (T <= -Tkryt_dwustronne || T >= Tkryt_dwustronne){\n",
    "    print(\"Test dwustronny: Odrzucamy H0 na rzecz H1\", quote = FALSE)\n",
    "} else\n",
    "{\n",
    "    print(\"Test dwustronny: Brak podstaw do odrzucenia H0\", quote = FALSE)\n",
    "}\n"
   ]
  },
  {
   "cell_type": "code",
   "execution_count": 21,
   "metadata": {},
   "outputs": [
    {
     "data": {
      "text/html": [
       "<span style=white-space:pre-wrap>'Kowariancja:  0.004'</span>"
      ],
      "text/latex": [
       "'Kowariancja:  0.004'"
      ],
      "text/markdown": [
       "<span style=white-space:pre-wrap>'Kowariancja:  0.004'</span>"
      ],
      "text/plain": [
       "[1] \"Kowariancja:  0.004\""
      ]
     },
     "metadata": {},
     "output_type": "display_data"
    },
    {
     "data": {
      "text/html": [
       "<span style=white-space:pre-wrap>'Korelacja:  0.093'</span>"
      ],
      "text/latex": [
       "'Korelacja:  0.093'"
      ],
      "text/markdown": [
       "<span style=white-space:pre-wrap>'Korelacja:  0.093'</span>"
      ],
      "text/plain": [
       "[1] \"Korelacja:  0.093\""
      ]
     },
     "metadata": {},
     "output_type": "display_data"
    },
    {
     "data": {
      "text/html": [
       "<span style=white-space:pre-wrap>'Wspólczynnik kierunkowy a:  0.026'</span>"
      ],
      "text/latex": [
       "'Wspólczynnik kierunkowy a:  0.026'"
      ],
      "text/markdown": [
       "<span style=white-space:pre-wrap>'Wspólczynnik kierunkowy a:  0.026'</span>"
      ],
      "text/plain": [
       "[1] \"Wspólczynnik kierunkowy a:  0.026\""
      ]
     },
     "metadata": {},
     "output_type": "display_data"
    },
    {
     "data": {
      "text/html": [
       "<span style=white-space:pre-wrap>'Wyraz wolny b:  0.271'</span>"
      ],
      "text/latex": [
       "'Wyraz wolny b:  0.271'"
      ],
      "text/markdown": [
       "<span style=white-space:pre-wrap>'Wyraz wolny b:  0.271'</span>"
      ],
      "text/plain": [
       "[1] \"Wyraz wolny b:  0.271\""
      ]
     },
     "metadata": {},
     "output_type": "display_data"
    },
    {
     "data": {
      "text/html": [
       "'Wartosc krytyczna 2.101'"
      ],
      "text/latex": [
       "'Wartosc krytyczna 2.101'"
      ],
      "text/markdown": [
       "'Wartosc krytyczna 2.101'"
      ],
      "text/plain": [
       "[1] \"Wartosc krytyczna 2.101\""
      ]
     },
     "metadata": {},
     "output_type": "display_data"
    },
    {
     "data": {
      "text/html": [
       "'Statystyka testowa 0.398'"
      ],
      "text/latex": [
       "'Statystyka testowa 0.398'"
      ],
      "text/markdown": [
       "'Statystyka testowa 0.398'"
      ],
      "text/plain": [
       "[1] \"Statystyka testowa 0.398\""
      ]
     },
     "metadata": {},
     "output_type": "display_data"
    },
    {
     "name": "stdout",
     "output_type": "stream",
     "text": [
      "[1] \"Wynik statystyczny NIE jest istotny\"\n"
     ]
    }
   ],
   "source": [
    "X <- Dane1\n",
    "Y <- Dane2\n",
    "\n",
    "alpha=0.05\n",
    "n=length(X)\n",
    "\n",
    "x_sr=mean(X)\n",
    "y_sr=mean(Y)\n",
    "cov1=cov(X,Y)\n",
    "cor1=cor(X,Y)\n",
    "a=cov1/(var(X))\n",
    "b=y_sr-a*x_sr\n",
    "\n",
    "kryt=qt(1-alpha/2, n-2)\n",
    "t=(cor1/sqrt(1-cor1^2))*sqrt(n-2)\n",
    "\n",
    "paste(\"Kowariancja: \",round(cov1,3))\n",
    "paste(\"Korelacja: \",round(cor1,3))\n",
    "paste(\"Współczynnik kierunkowy a: \",round(a,3))\n",
    "paste(\"Wyraz wolny b: \",round(b,3))\n",
    "paste(\"Wartość krytyczna\",round(kryt,3))\n",
    "paste(\"Statystyka testowa\",round(t,3))\n",
    "if(abs(t)>kryt) {\n",
    "    print(\"Wynik statystyczny jest istotny, odrzuć H0\")\n",
    "} else {\n",
    "    print(\"Wynik statystyczny NIE jest istotny\")\n",
    "}"
   ]
  },
  {
   "cell_type": "code",
   "execution_count": null,
   "metadata": {},
   "outputs": [],
   "source": []
  },
  {
   "cell_type": "code",
   "execution_count": null,
   "metadata": {},
   "outputs": [],
   "source": []
  }
 ],
 "metadata": {
  "kernelspec": {
   "display_name": "R",
   "language": "R",
   "name": "ir"
  },
  "language_info": {
   "codemirror_mode": "r",
   "file_extension": ".r",
   "mimetype": "text/x-r-source",
   "name": "R",
   "pygments_lexer": "r",
   "version": "3.6.1"
  }
 },
 "nbformat": 4,
 "nbformat_minor": 4
}
