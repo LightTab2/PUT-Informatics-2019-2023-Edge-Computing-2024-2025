{
 "cells": [
  {
   "cell_type": "code",
   "execution_count": 1,
   "metadata": {
    "scrolled": false
   },
   "outputs": [],
   "source": [
    "#Niech zmienna X ~ N(oczekiwana, odchylenie), a Z ~(0,1)\n",
    "#P(|X+dodacWAbs| <= mniejszeRowOd) = P(a <= X <= b) = P(c <= Z <= d) = e\n",
    "oczekiwana = 5\n",
    "odchylenie = 8\n",
    "dodacWAbs = 1\n",
    "mniejszeRowOd = 8\n",
    "suma = TRUE #daj false jak średnia\n",
    "n = 16\n",
    "#drugie E(Y)=f D(Y)=g P(Y>wieksze)=P(Z>h)=i\n",
    "oczekiwana2 = -1\n",
    "odchylenie2 = 2\n",
    "wieksze = -22"
   ]
  },
  {
   "cell_type": "code",
   "execution_count": 2,
   "metadata": {
    "scrolled": true
   },
   "outputs": [
    {
     "data": {
      "text/html": [
       "-9"
      ],
      "text/latex": [
       "-9"
      ],
      "text/markdown": [
       "-9"
      ],
      "text/plain": [
       "[1] -9"
      ]
     },
     "metadata": {},
     "output_type": "display_data"
    },
    {
     "data": {
      "text/html": [
       "7"
      ],
      "text/latex": [
       "7"
      ],
      "text/markdown": [
       "7"
      ],
      "text/plain": [
       "[1] 7"
      ]
     },
     "metadata": {},
     "output_type": "display_data"
    },
    {
     "data": {
      "text/html": [
       "-1.75"
      ],
      "text/latex": [
       "-1.75"
      ],
      "text/markdown": [
       "-1.75"
      ],
      "text/plain": [
       "[1] -1.75"
      ]
     },
     "metadata": {},
     "output_type": "display_data"
    },
    {
     "data": {
      "text/html": [
       "0.25"
      ],
      "text/latex": [
       "0.25"
      ],
      "text/markdown": [
       "0.25"
      ],
      "text/plain": [
       "[1] 0.25"
      ]
     },
     "metadata": {},
     "output_type": "display_data"
    },
    {
     "data": {
      "text/html": [
       "0.56"
      ],
      "text/latex": [
       "0.56"
      ],
      "text/markdown": [
       "0.56"
      ],
      "text/plain": [
       "[1] 0.56"
      ]
     },
     "metadata": {},
     "output_type": "display_data"
    },
    {
     "data": {
      "text/html": [
       "-16"
      ],
      "text/latex": [
       "-16"
      ],
      "text/markdown": [
       "-16"
      ],
      "text/plain": [
       "[1] -16"
      ]
     },
     "metadata": {},
     "output_type": "display_data"
    },
    {
     "data": {
      "text/html": [
       "8"
      ],
      "text/latex": [
       "8"
      ],
      "text/markdown": [
       "8"
      ],
      "text/plain": [
       "[1] 8"
      ]
     },
     "metadata": {},
     "output_type": "display_data"
    },
    {
     "data": {
      "text/html": [
       "-0.75"
      ],
      "text/latex": [
       "-0.75"
      ],
      "text/markdown": [
       "-0.75"
      ],
      "text/plain": [
       "[1] -0.75"
      ]
     },
     "metadata": {},
     "output_type": "display_data"
    },
    {
     "data": {
      "text/html": [
       "0.77"
      ],
      "text/latex": [
       "0.77"
      ],
      "text/markdown": [
       "0.77"
      ],
      "text/plain": [
       "[1] 0.77"
      ]
     },
     "metadata": {},
     "output_type": "display_data"
    }
   ],
   "source": [
    "a = -mniejszeRowOd - dodacWAbs\n",
    "b = mniejszeRowOd - dodacWAbs\n",
    "c = qnorm(pnorm(a, oczekiwana, odchylenie))\n",
    "d = qnorm(pnorm(b, oczekiwana, odchylenie))\n",
    "e = pnorm(d) - pnorm(c)\n",
    "#e = 1 - e\n",
    "f = n * oczekiwana2\n",
    "g = sqrt(n) * odchylenie2\n",
    "if (!suma)\n",
    "{\n",
    "    f = oczekiwana2\n",
    "    g = odchylenie2/sqrt(n)\n",
    "}\n",
    "h = qnorm(pnorm(wieksze, f, g))\n",
    "i = pnorm(-h)\n",
    "#i = pnorm(h)\n",
    "\n",
    "round(a,2)\n",
    "round(b,2)\n",
    "round(c,2)\n",
    "round(d,2)\n",
    "round(e,2)\n",
    "round(f,2)\n",
    "round(g,2)\n",
    "round(h,2)\n",
    "round(i,2)\n",
    "#drugie E(Y)=f D(Y)=g P(Y>wieksze)=P(Z>h)=i\n",
    "oczekiwana2 = -1\n",
    "odchylenie2 = 2\n",
    "wieksze = -22"
   ]
  },
  {
   "cell_type": "code",
   "execution_count": 3,
   "metadata": {
    "scrolled": true
   },
   "outputs": [
    {
     "data": {
      "text/html": [
       "-1.75"
      ],
      "text/latex": [
       "-1.75"
      ],
      "text/markdown": [
       "-1.75"
      ],
      "text/plain": [
       "[1] -1.75"
      ]
     },
     "metadata": {},
     "output_type": "display_data"
    },
    {
     "data": {
      "text/html": [
       "TRUE"
      ],
      "text/latex": [
       "TRUE"
      ],
      "text/markdown": [
       "TRUE"
      ],
      "text/plain": [
       "[1] TRUE"
      ]
     },
     "metadata": {},
     "output_type": "display_data"
    },
    {
     "data": {
      "text/html": [
       "0.25"
      ],
      "text/latex": [
       "0.25"
      ],
      "text/markdown": [
       "0.25"
      ],
      "text/plain": [
       "[1] 0.25"
      ]
     },
     "metadata": {},
     "output_type": "display_data"
    },
    {
     "data": {
      "text/html": [
       "TRUE"
      ],
      "text/latex": [
       "TRUE"
      ],
      "text/markdown": [
       "TRUE"
      ],
      "text/plain": [
       "[1] TRUE"
      ]
     },
     "metadata": {},
     "output_type": "display_data"
    },
    {
     "data": {
      "text/html": [
       "0.56"
      ],
      "text/latex": [
       "0.56"
      ],
      "text/markdown": [
       "0.56"
      ],
      "text/plain": [
       "[1] 0.56"
      ]
     },
     "metadata": {},
     "output_type": "display_data"
    },
    {
     "data": {
      "text/html": [
       "TRUE"
      ],
      "text/latex": [
       "TRUE"
      ],
      "text/markdown": [
       "TRUE"
      ],
      "text/plain": [
       "[1] TRUE"
      ]
     },
     "metadata": {},
     "output_type": "display_data"
    },
    {
     "data": {
      "text/html": [
       "-0.75"
      ],
      "text/latex": [
       "-0.75"
      ],
      "text/markdown": [
       "-0.75"
      ],
      "text/plain": [
       "[1] -0.75"
      ]
     },
     "metadata": {},
     "output_type": "display_data"
    },
    {
     "data": {
      "text/html": [
       "TRUE"
      ],
      "text/latex": [
       "TRUE"
      ],
      "text/markdown": [
       "TRUE"
      ],
      "text/plain": [
       "[1] TRUE"
      ]
     },
     "metadata": {},
     "output_type": "display_data"
    },
    {
     "data": {
      "text/html": [
       "0.77"
      ],
      "text/latex": [
       "0.77"
      ],
      "text/markdown": [
       "0.77"
      ],
      "text/plain": [
       "[1] 0.77"
      ]
     },
     "metadata": {},
     "output_type": "display_data"
    },
    {
     "data": {
      "text/html": [
       "TRUE"
      ],
      "text/latex": [
       "TRUE"
      ],
      "text/markdown": [
       "TRUE"
      ],
      "text/plain": [
       "[1] TRUE"
      ]
     },
     "metadata": {},
     "output_type": "display_data"
    }
   ],
   "source": [
    "c_spr = (a - oczekiwana)/odchylenie\n",
    "d_spr = (b - oczekiwana)/odchylenie\n",
    "round(c_spr,2)\n",
    "round(c,2) == round(c_spr,2)\n",
    "round(d_spr,2)\n",
    "round(d,2) == round(d_spr,2)\n",
    "e_spr = pnorm(b, oczekiwana, odchylenie) - pnorm(a, oczekiwana, odchylenie)\n",
    "round(e_spr,2)\n",
    "round(e,2) == round(e_spr,2)\n",
    "h_spr = qnorm(pnorm(wieksze, f, odchylenie2))\n",
    "if (suma) { \n",
    "    h_spr = h_spr/sqrt(n)\n",
    "} else\n",
    "{ \n",
    "    h_spr = h_spr*sqrt(n)\n",
    "}\n",
    "round(h_spr,2)\n",
    "round(h,2) == round(h_spr,2)\n",
    "i_spr = (wieksze - f)/odchylenie2\n",
    "if (suma) \n",
    "{\n",
    "    i_spr = i_spr/sqrt(n)\n",
    "} else \n",
    "{\n",
    "    i_spr = i_spr*sqrt(n)\n",
    "}\n",
    "i_spr = pnorm(-i_spr)\n",
    "round(i_spr,2)\n",
    "round(i,2) == round(i_spr,2)"
   ]
  }
 ],
 "metadata": {
  "kernelspec": {
   "display_name": "R",
   "language": "R",
   "name": "ir"
  },
  "language_info": {
   "codemirror_mode": "r",
   "file_extension": ".r",
   "mimetype": "text/x-r-source",
   "name": "R",
   "pygments_lexer": "r",
   "version": "3.6.1"
  }
 },
 "nbformat": 4,
 "nbformat_minor": 2
}
