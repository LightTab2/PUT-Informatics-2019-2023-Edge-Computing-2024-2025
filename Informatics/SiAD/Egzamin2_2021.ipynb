{
 "cells": [
  {
   "cell_type": "code",
   "execution_count": 12,
   "metadata": {},
   "outputs": [],
   "source": [
    "#TESTY DLA JEDNEJ POPULACJI"
   ]
  },
  {
   "cell_type": "code",
   "execution_count": 20,
   "metadata": {},
   "outputs": [
    {
     "data": {
      "text/html": [
       "'Wartosc statystyki: 3.458'"
      ],
      "text/latex": [
       "'Wartosc statystyki: 3.458'"
      ],
      "text/markdown": [
       "'Wartosc statystyki: 3.458'"
      ],
      "text/plain": [
       "[1] \"Wartosc statystyki: 3.458\""
      ]
     },
     "metadata": {},
     "output_type": "display_data"
    },
    {
     "data": {
      "text/html": [
       "'One tailed criterion: 2.326'"
      ],
      "text/latex": [
       "'One tailed criterion: 2.326'"
      ],
      "text/markdown": [
       "'One tailed criterion: 2.326'"
      ],
      "text/plain": [
       "[1] \"One tailed criterion: 2.326\""
      ]
     },
     "metadata": {},
     "output_type": "display_data"
    },
    {
     "data": {
      "text/html": [
       "'Two tiled criterion: 2.576'"
      ],
      "text/latex": [
       "'Two tiled criterion: 2.576'"
      ],
      "text/markdown": [
       "'Two tiled criterion: 2.576'"
      ],
      "text/plain": [
       "[1] \"Two tiled criterion: 2.576\""
      ]
     },
     "metadata": {},
     "output_type": "display_data"
    }
   ],
   "source": [
    "#TEST Z\n",
    "n <- 38\n",
    "mu <- 7.56 #srednia wartosc w probie\n",
    "mu_0 <- 6.953 #srednia wartosc populacji\n",
    "sigma <- 1.082 #odchylenie standardowe populacji\n",
    "alpha <- 0.01 #poziom istotnosci\n",
    "\n",
    "Z <- (mu - mu_0) / sigma * sqrt(n)\n",
    "    paste(\"Wartosc statystyki:\",round(Z,3))\n",
    "    paste(\"One tailed criterion:\",round(-qnorm(alpha),3))\n",
    "    paste(\"Two tiled criterion:\",round(-qnorm(alpha / 2),3))"
   ]
  },
  {
   "cell_type": "code",
   "execution_count": 21,
   "metadata": {},
   "outputs": [
    {
     "data": {
      "text/html": [
       "'Wartosc statystyki: 2.244'"
      ],
      "text/latex": [
       "'Wartosc statystyki: 2.244'"
      ],
      "text/markdown": [
       "'Wartosc statystyki: 2.244'"
      ],
      "text/plain": [
       "[1] \"Wartosc statystyki: 2.244\""
      ]
     },
     "metadata": {},
     "output_type": "display_data"
    },
    {
     "data": {
      "text/html": [
       "'One tailed criterion: 2.602'"
      ],
      "text/latex": [
       "'One tailed criterion: 2.602'"
      ],
      "text/markdown": [
       "'One tailed criterion: 2.602'"
      ],
      "text/plain": [
       "[1] \"One tailed criterion: 2.602\""
      ]
     },
     "metadata": {},
     "output_type": "display_data"
    },
    {
     "data": {
      "text/html": [
       "'Two tiled criterion: 2.947'"
      ],
      "text/latex": [
       "'Two tiled criterion: 2.947'"
      ],
      "text/markdown": [
       "'Two tiled criterion: 2.947'"
      ],
      "text/plain": [
       "[1] \"Two tiled criterion: 2.947\""
      ]
     },
     "metadata": {},
     "output_type": "display_data"
    }
   ],
   "source": [
    "#TEST T\n",
    "n <- 16\n",
    "mu <- 7.56 #srednia wartosc w probie\n",
    "mu_0 <- 6.953 #srednia wartosc populacji\n",
    "sigma <- 1.082 #odchylenie standardowe proby\n",
    "alpha <- 0.01 #poziom istotnosci\n",
    "\n",
    "T <- (mu - mu_0) / sigma * sqrt(n)\n",
    "    paste(\"Wartosc statystyki:\",round(T,3))\n",
    "    paste(\"One tailed criterion:\",round(-qt(alpha,n-1),3))\n",
    "    paste(\"Two tiled criterion:\",round(-qt(alpha/2,n-1),3))\n",
    "\n",
    "#Czy powinnismy odrzucić H0 na rzecz H1?\n",
    "#T>t_alpha #test prawostronny;\n",
    "#T<t_alpha #test lewostronny;\n",
    "#T<t_alpha_L || T>t_alpha_P #test obustronny;\n",
    "\n",
    "#H0: mu==mu_0\n",
    "#H1  mu>mu_o / mu<mu_o / mu!=mu_o\n",
    "#Jesli TRUE odrzucamy H0"
   ]
  },
  {
   "cell_type": "code",
   "execution_count": 22,
   "metadata": {},
   "outputs": [
    {
     "data": {
      "text/html": [
       "'Wartosc statystyki 1.686'"
      ],
      "text/latex": [
       "'Wartosc statystyki 1.686'"
      ],
      "text/markdown": [
       "'Wartosc statystyki 1.686'"
      ],
      "text/plain": [
       "[1] \"Wartosc statystyki 1.686\""
      ]
     },
     "metadata": {},
     "output_type": "display_data"
    },
    {
     "data": {
      "text/html": [
       "'One tailed criterion: 1.645'"
      ],
      "text/latex": [
       "'One tailed criterion: 1.645'"
      ],
      "text/markdown": [
       "'One tailed criterion: 1.645'"
      ],
      "text/plain": [
       "[1] \"One tailed criterion: 1.645\""
      ]
     },
     "metadata": {},
     "output_type": "display_data"
    },
    {
     "data": {
      "text/html": [
       "'Two tiled criterion: 1.96'"
      ],
      "text/latex": [
       "'Two tiled criterion: 1.96'"
      ],
      "text/markdown": [
       "'Two tiled criterion: 1.96'"
      ],
      "text/plain": [
       "[1] \"Two tiled criterion: 1.96\""
      ]
     },
     "metadata": {},
     "output_type": "display_data"
    }
   ],
   "source": [
    "#TEST FRAKCJI\n",
    "n<-150\n",
    "p<-12/n #srednia wartosc w probie\n",
    "p0<-0.05 #srednia wartosc populacji\n",
    "alpha<-0.05\n",
    "\n",
    "Z <- (p - p0) / sqrt((p0 * (1-p0)) / n)\n",
    "    paste(\"Wartosc statystyki\",round(Z,3))\n",
    "    paste(\"One tailed criterion:\",round(-qnorm(alpha),3))\n",
    "    paste(\"Two tiled criterion:\",round(-qnorm(alpha / 2),3))"
   ]
  },
  {
   "cell_type": "code",
   "execution_count": 29,
   "metadata": {},
   "outputs": [],
   "source": [
    "#TESTY DLA DWÓCH ZBIOROWOŚCI\n",
    "\n",
    "\n",
    "\n",
    "\n",
    "\n",
    "\n",
    "\n",
    "\n",
    "\n",
    "\n",
    "\n",
    "\n",
    "\n",
    "\n",
    "\n",
    "\n",
    "\n",
    "#---------------------------"
   ]
  },
  {
   "cell_type": "code",
   "execution_count": 24,
   "metadata": {},
   "outputs": [
    {
     "data": {
      "text/html": [
       "'Wartosc statystyki 2.159'"
      ],
      "text/latex": [
       "'Wartosc statystyki 2.159'"
      ],
      "text/markdown": [
       "'Wartosc statystyki 2.159'"
      ],
      "text/plain": [
       "[1] \"Wartosc statystyki 2.159\""
      ]
     },
     "metadata": {},
     "output_type": "display_data"
    },
    {
     "data": {
      "text/html": [
       "'Two tiled criterion: 1.645'"
      ],
      "text/latex": [
       "'Two tiled criterion: 1.645'"
      ],
      "text/markdown": [
       "'Two tiled criterion: 1.645'"
      ],
      "text/plain": [
       "[1] \"Two tiled criterion: 1.645\""
      ]
     },
     "metadata": {},
     "output_type": "display_data"
    },
    {
     "data": {
      "text/html": [
       "'p_value: 0.015'"
      ],
      "text/latex": [
       "'p\\_value: 0.015'"
      ],
      "text/markdown": [
       "'p_value: 0.015'"
      ],
      "text/plain": [
       "[1] \"p_value: 0.015\""
      ]
     },
     "metadata": {},
     "output_type": "display_data"
    },
    {
     "data": {
      "text/html": [
       "TRUE"
      ],
      "text/latex": [
       "TRUE"
      ],
      "text/markdown": [
       "TRUE"
      ],
      "text/plain": [
       "[1] TRUE"
      ]
     },
     "metadata": {},
     "output_type": "display_data"
    }
   ],
   "source": [
    "A<-c(32,30,34,25,24,32,29,32,12,41,34,31,32,11,24,32,27,25,30,29,30,41,36,4,34,14,30,22,39,23,18,29,8,11,22)\n",
    "B<-c(27,36,20,22,20,25,17,28,22,11,13,33,17,26,25,24,15,15,27,23,24,8,14,35,30,13,13,28,24,30,20)\n",
    "#Test Z dla dwóch populacji / jednakowa wariancja\n",
    "n1 <- length(A)\n",
    "n2 <- length(B)\n",
    "alpha <- 0.05\n",
    "mu1 <- mean(A) #srednia 1\n",
    "mu2 <- mean(B) #srednia 2\n",
    "var1 <- var(A) #wariancja dla proby 1\n",
    "var2 <- var(B) #wariancja dla proby 2\n",
    "s1 <- sqrt(var1) #odchylenie stand dla proby 1\n",
    "s2 <- sqrt(var2) #odchylenie stand dla proby 2\n",
    "#--------------------------------------------------------------\n",
    "Z <- (abs(mu1-mu2)) / sqrt((var1/n1) + (var2/n2))\n",
    "Z_alpha <- -qnorm(alpha)\n",
    "p_value <- 1-pnorm(Z)\n",
    "\n",
    "paste(\"Wartosc statystyki\",round(Z,3))\n",
    "paste(\"Two tiled criterion:\",round(Z_alpha,3))\n",
    "paste(\"p_value:\",round(p_value,3))\n",
    "\n",
    "Z>Z_alpha\n",
    "#Jesli TRUE - są podstawy do odrzucenia H0"
   ]
  },
  {
   "cell_type": "code",
   "execution_count": 25,
   "metadata": {},
   "outputs": [
    {
     "data": {
      "text/html": [
       "'Wartosc statystyki: 1.872'"
      ],
      "text/latex": [
       "'Wartosc statystyki: 1.872'"
      ],
      "text/markdown": [
       "'Wartosc statystyki: 1.872'"
      ],
      "text/plain": [
       "[1] \"Wartosc statystyki: 1.872\""
      ]
     },
     "metadata": {},
     "output_type": "display_data"
    },
    {
     "data": {
      "text/html": [
       "'Two tiled criterion: 2.145'"
      ],
      "text/latex": [
       "'Two tiled criterion: 2.145'"
      ],
      "text/markdown": [
       "'Two tiled criterion: 2.145'"
      ],
      "text/plain": [
       "[1] \"Two tiled criterion: 2.145\""
      ]
     },
     "metadata": {},
     "output_type": "display_data"
    },
    {
     "data": {
      "text/html": [
       "FALSE"
      ],
      "text/latex": [
       "FALSE"
      ],
      "text/markdown": [
       "FALSE"
      ],
      "text/plain": [
       "[1] FALSE"
      ]
     },
     "metadata": {},
     "output_type": "display_data"
    }
   ],
   "source": [
    "A<-c(149.2,105.6,142,109.3,127.1,120.3,116.4,112.1)\n",
    "B<-c(103.3,115.6,97.3,96.6,94,125.5,100.2,134.4)\n",
    "#TEST T dla dwóch populacji / jednakowa wariancja\n",
    "n1 <- length(A)\n",
    "n2 <- length(B)\n",
    "alpha <- 0.05\n",
    "mu1 <- mean(A) #srednia 1\n",
    "mu2 <- mean(B) #srednia 2\n",
    "s1 <- sqrt(var(A)) #odchylenie stand dla proby 1\n",
    "s2 <- sqrt(var(B)) #odchylenie stand dla proby 2\n",
    "#-------------------------------------------------------\n",
    "degrees_of_freedom <- n1+n2-2\n",
    "sp_squared <- ((n1-1)*s1^2 + (n2-1)*s2^2) / degrees_of_freedom\n",
    "T <- (abs(mu1-mu2)) / sqrt(sp_squared*((1/n1)+(1/n2)))\n",
    "T_alpha <- -qt(alpha/2,degrees_of_freedom)\n",
    "\n",
    "paste(\"Wartosc statystyki:\",round(T,3))\n",
    "paste(\"Two tiled criterion:\",round(T_alpha,3))\n",
    "\n",
    "T>T_alpha\n",
    "#Jesli TRUE - są podstawy do odrzucenia H0\n",
    "#H0:mu1=mu2 H1:mu1!=mu2"
   ]
  },
  {
   "cell_type": "code",
   "execution_count": 26,
   "metadata": {},
   "outputs": [
    {
     "data": {
      "text/html": [
       "'Wartosc statystyki: -1.8'"
      ],
      "text/latex": [
       "'Wartosc statystyki: -1.8'"
      ],
      "text/markdown": [
       "'Wartosc statystyki: -1.8'"
      ],
      "text/plain": [
       "[1] \"Wartosc statystyki: -1.8\""
      ]
     },
     "metadata": {},
     "output_type": "display_data"
    },
    {
     "data": {
      "text/html": [
       "'One tailed criterion: 1.895'"
      ],
      "text/latex": [
       "'One tailed criterion: 1.895'"
      ],
      "text/markdown": [
       "'One tailed criterion: 1.895'"
      ],
      "text/plain": [
       "[1] \"One tailed criterion: 1.895\""
      ]
     },
     "metadata": {},
     "output_type": "display_data"
    },
    {
     "data": {
      "text/html": [
       "'Two tiled criterion: 2.365'"
      ],
      "text/latex": [
       "'Two tiled criterion: 2.365'"
      ],
      "text/markdown": [
       "'Two tiled criterion: 2.365'"
      ],
      "text/plain": [
       "[1] \"Two tiled criterion: 2.365\""
      ]
     },
     "metadata": {},
     "output_type": "display_data"
    }
   ],
   "source": [
    "A<-c(109.3 , 127.1, 149.2, 142, 116.4, 105.6, 112.1, 120.3)\n",
    "B<-c(125.5, 115.6, 100.2, 103.3, 97.3, 94, 96.6, 134.4)\n",
    "#TEST T dla dwóch prob SPAROWANYCH / jednakowa wariancja i populacja / np. wynik pacienta przed i po\n",
    "n <- length(A)\n",
    "alpha <- 0.05\n",
    "mu1 <- mean(A) #srednia 1\n",
    "mu2 <- mean(B) #srednia 2\n",
    "mu_d_0 <- 0\n",
    "s1 <- sqrt(var(A)) #odchylenie stand dla proby 1\n",
    "s2 <- sqrt(var(B)) #odchylenie stand dla proby 2\n",
    "sd_d<-sd(B-A)\n",
    "#--------------------------------------------------------------\n",
    "degrees_of_freedom <- n-1\n",
    "mu_d<-mu2-mu1\n",
    "\n",
    "T <- (mu_d - mu_d_0) / (sd_d/sqrt(n))\n",
    "    paste(\"Wartosc statystyki:\",round(T,3))\n",
    "    paste(\"One tailed criterion:\",round(-qt(alpha,degrees_of_freedom),3))\n",
    "    paste(\"Two tiled criterion:\",round(-qt(alpha/2,degrees_of_freedom),3))\n",
    "\n",
    "#H0: mu==mu_0\n",
    "#H1  mu>mu_o / mu<mu_o / mu!=mu_o\n",
    "#Jesli TRUE - są podstawy do odrzucenia H0 odp:1"
   ]
  },
  {
   "cell_type": "code",
   "execution_count": 27,
   "metadata": {},
   "outputs": [
    {
     "data": {
      "text/html": [
       "'Wartosc statystyki: 3.243'"
      ],
      "text/latex": [
       "'Wartosc statystyki: 3.243'"
      ],
      "text/markdown": [
       "'Wartosc statystyki: 3.243'"
      ],
      "text/plain": [
       "[1] \"Wartosc statystyki: 3.243\""
      ]
     },
     "metadata": {},
     "output_type": "display_data"
    },
    {
     "data": {
      "text/html": [
       "'Two tiled criterion: 8.98'"
      ],
      "text/latex": [
       "'Two tiled criterion: 8.98'"
      ],
      "text/markdown": [
       "'Two tiled criterion: 8.98'"
      ],
      "text/plain": [
       "[1] \"Two tiled criterion: 8.98\""
      ]
     },
     "metadata": {},
     "output_type": "display_data"
    },
    {
     "data": {
      "text/html": [
       "'p_value: 0.135'"
      ],
      "text/latex": [
       "'p\\_value: 0.135'"
      ],
      "text/markdown": [
       "'p_value: 0.135'"
      ],
      "text/plain": [
       "[1] \"p_value: 0.135\""
      ]
     },
     "metadata": {},
     "output_type": "display_data"
    },
    {
     "data": {
      "text/html": [
       "FALSE"
      ],
      "text/latex": [
       "FALSE"
      ],
      "text/markdown": [
       "FALSE"
      ],
      "text/plain": [
       "[1] FALSE"
      ]
     },
     "metadata": {},
     "output_type": "display_data"
    }
   ],
   "source": [
    "A<-c(76.42,16.25,6.3,14.09,-140.58,33.82,-16.58,-3.82,24.2)\n",
    "B<-c(-8.62,39.96,7.79,-27.52,-57.2,0.17)\n",
    "#Test F na równość dwóch wariancji w dwóch populacjach\n",
    "n1 <- length(A)\n",
    "n2 <- length(B)\n",
    "alpha <- 0.05\n",
    "sigma1 <- sqrt(var(A)) #odchylenie stand dla proby 1\n",
    "sigma2 <- sqrt(var(B)) #odchylenie stand dla proby 2\n",
    "#-------------------------------------------------------\n",
    "df1 <- n1-1\n",
    "df2 <- n2-2\n",
    "F <- sigma1^2/sigma2^2\n",
    "F_alpha <- qf(1-alpha/2,df1,df2)\n",
    "p_value <- 1-pf(F,df1,df2)\n",
    "\n",
    "paste(\"Wartosc statystyki:\",round(F,3))\n",
    "paste(\"Two tiled criterion:\",round(F_alpha,3))\n",
    "paste(\"p_value:\",round(p_value,3))\n",
    "\n",
    "F>F_alpha\n",
    "#Jesli TRUE - są podstawy do odrzucenia H0\n",
    "#H0: sigm1^2=sigm2^2  H1: sigm1^2!=sigm2^2"
   ]
  },
  {
   "cell_type": "code",
   "execution_count": 28,
   "metadata": {},
   "outputs": [],
   "source": [
    "#KORELACJA I REGRESJA\n",
    "#korelacja Pearsona\n",
    "\n",
    "\n",
    "\n",
    "\n",
    "\n",
    "\n",
    "\n",
    "\n",
    "\n",
    "\n",
    "\n",
    "\n",
    "\n",
    "\n",
    "\n",
    "\n",
    "#---------------------------"
   ]
  },
  {
   "cell_type": "code",
   "execution_count": 32,
   "metadata": {},
   "outputs": [
    {
     "name": "stdout",
     "output_type": "stream",
     "text": [
      "[1] \"Test T\"\n"
     ]
    },
    {
     "data": {
      "text/html": [
       "<span style=white-space:pre-wrap>'Kowariancja:  -0.035'</span>"
      ],
      "text/latex": [
       "'Kowariancja:  -0.035'"
      ],
      "text/markdown": [
       "<span style=white-space:pre-wrap>'Kowariancja:  -0.035'</span>"
      ],
      "text/plain": [
       "[1] \"Kowariancja:  -0.035\""
      ]
     },
     "metadata": {},
     "output_type": "display_data"
    },
    {
     "data": {
      "text/html": [
       "<span style=white-space:pre-wrap>'Korelacja r:  -0.563'</span>"
      ],
      "text/latex": [
       "'Korelacja r:  -0.563'"
      ],
      "text/markdown": [
       "<span style=white-space:pre-wrap>'Korelacja r:  -0.563'</span>"
      ],
      "text/plain": [
       "[1] \"Korelacja r:  -0.563\""
      ]
     },
     "metadata": {},
     "output_type": "display_data"
    },
    {
     "data": {
      "text/html": [
       "<span style=white-space:pre-wrap>'Współczynnik kierunkowy a:  -0.333'</span>"
      ],
      "text/latex": [
       "'Współczynnik kierunkowy a:  -0.333'"
      ],
      "text/markdown": [
       "<span style=white-space:pre-wrap>'Współczynnik kierunkowy a:  -0.333'</span>"
      ],
      "text/plain": [
       "[1] \"Współczynnik kierunkowy a:  -0.333\""
      ]
     },
     "metadata": {},
     "output_type": "display_data"
    },
    {
     "data": {
      "text/html": [
       "<span style=white-space:pre-wrap>'Wyraz wolny b:  0.18'</span>"
      ],
      "text/latex": [
       "'Wyraz wolny b:  0.18'"
      ],
      "text/markdown": [
       "<span style=white-space:pre-wrap>'Wyraz wolny b:  0.18'</span>"
      ],
      "text/plain": [
       "[1] \"Wyraz wolny b:  0.18\""
      ]
     },
     "metadata": {},
     "output_type": "display_data"
    },
    {
     "data": {
      "text/html": [
       "'Wartość krytyczna 2.262'"
      ],
      "text/latex": [
       "'Wartość krytyczna 2.262'"
      ],
      "text/markdown": [
       "'Wartość krytyczna 2.262'"
      ],
      "text/plain": [
       "[1] \"Wartość krytyczna 2.262\""
      ]
     },
     "metadata": {},
     "output_type": "display_data"
    },
    {
     "data": {
      "text/html": [
       "'Statystyka testowa -2.043'"
      ],
      "text/latex": [
       "'Statystyka testowa -2.043'"
      ],
      "text/markdown": [
       "'Statystyka testowa -2.043'"
      ],
      "text/plain": [
       "[1] \"Statystyka testowa -2.043\""
      ]
     },
     "metadata": {},
     "output_type": "display_data"
    },
    {
     "name": "stdout",
     "output_type": "stream",
     "text": [
      "[1] \"Wynik statystyczny NIE jest istotny\"\n"
     ]
    }
   ],
   "source": [
    "X <- c(0.014,0.298,0.384,0.148,0.498,0.814,0.076,0.858,0.591,0.162,0.885)\n",
    "Y <- c(0.049,0.106,−0.086,0.142,−0.16,0.02,0.374,0.163,−0.106,0.205,−0.301)\n",
    "#TEST na istotność korelacji Pearsona\n",
    "\n",
    "alpha=0.05\n",
    "n=length(X)\n",
    "\n",
    "x_sr=mean(X)\n",
    "y_sr=mean(Y)\n",
    "cov1=cov(X,Y)\n",
    "cor1=cor(X,Y)\n",
    "a=cov1/var(X)\n",
    "b=y_sr-a*x_sr\n",
    "\n",
    "#prod=(X-x_sr)*(Y-y_sr)\n",
    "#cov1=sum(prod/n)\n",
    "\n",
    "kryt_t=qt(1-alpha/2,n-2)\n",
    "kryt_z=qnorm(1-alpha/2)\n",
    "\n",
    "z=(cor1/sqrt(1-cor1^2))*sqrt(n)\n",
    "t=(cor1/sqrt(1-cor1^2))*sqrt(n-2)\n",
    "r=((cov1/var(X))*sd(X))/sd(Y)\n",
    "\n",
    "#test T lub Z\n",
    "if(n<30) {\n",
    "    print(\"Test T\")\n",
    "    test=t\n",
    "    kryt=kryt_t\n",
    "} else {\n",
    "    print(\"Test Z\")\n",
    "    test=z\n",
    "    kryt=kryt_z\n",
    "}\n",
    "\n",
    "\n",
    "paste(\"Kowariancja: \",round(cov1,3))\n",
    "paste(\"Korelacja r: \",round(cor1,3))\n",
    "\n",
    "paste(\"Współczynnik kierunkowy a: \",round(a,3))\n",
    "paste(\"Wyraz wolny b: \",round(b,3))\n",
    "paste(\"Wartość krytyczna\",round(kryt,3))\n",
    "paste(\"Statystyka testowa\",round(test,3))\n",
    "if(abs(test)>kryt) {\n",
    "    print(\"Wynik statystyczny jest istotny, odrzuć H0\")\n",
    "} else {\n",
    "    print(\"Wynik statystyczny NIE jest istotny\")\n",
    "}"
   ]
  },
  {
   "cell_type": "code",
   "execution_count": 41,
   "metadata": {},
   "outputs": [
    {
     "data": {
      "text/html": [
       "'R2: 0.59'"
      ],
      "text/latex": [
       "'R2: 0.59'"
      ],
      "text/markdown": [
       "'R2: 0.59'"
      ],
      "text/plain": [
       "[1] \"R2: 0.59\""
      ]
     },
     "metadata": {},
     "output_type": "display_data"
    },
    {
     "data": {
      "text/html": [
       "'SSR: 251.93'"
      ],
      "text/latex": [
       "'SSR: 251.93'"
      ],
      "text/markdown": [
       "'SSR: 251.93'"
      ],
      "text/plain": [
       "[1] \"SSR: 251.93\""
      ]
     },
     "metadata": {},
     "output_type": "display_data"
    },
    {
     "data": {
      "text/html": [
       "'SSE: 175.07'"
      ],
      "text/latex": [
       "'SSE: 175.07'"
      ],
      "text/markdown": [
       "'SSE: 175.07'"
      ],
      "text/plain": [
       "[1] \"SSE: 175.07\""
      ]
     },
     "metadata": {},
     "output_type": "display_data"
    },
    {
     "data": {
      "text/html": [
       "'Wartosc krytyczna: 2.685'"
      ],
      "text/latex": [
       "'Wartosc krytyczna: 2.685'"
      ],
      "text/markdown": [
       "'Wartosc krytyczna: 2.685'"
      ],
      "text/plain": [
       "[1] \"Wartosc krytyczna: 2.685\""
      ]
     },
     "metadata": {},
     "output_type": "display_data"
    },
    {
     "data": {
      "text/html": [
       "'Wartosc statystyki: 6.044'"
      ],
      "text/latex": [
       "'Wartosc statystyki: 6.044'"
      ],
      "text/markdown": [
       "'Wartosc statystyki: 6.044'"
      ],
      "text/plain": [
       "[1] \"Wartosc statystyki: 6.044\""
      ]
     },
     "metadata": {},
     "output_type": "display_data"
    },
    {
     "name": "stdout",
     "output_type": "stream",
     "text": [
      "[1] \"odrzucamy H0 na rzecz H1\"\n"
     ]
    }
   ],
   "source": [
    "# R^2 = SSR/SST = 1 - SSE/SST\n",
    "# SST = SSR + SSE\n",
    "\n",
    "#Test na istotność regresji wielorakiej\n",
    "alpha=0.05\n",
    "n=27\n",
    "m=5 #ilość zmiennych\n",
    "\n",
    "R2=0.59\n",
    "SST=427\n",
    "#SSR=1\n",
    "#SST=1\n",
    "#a=-2\n",
    "#b=1\n",
    "#sy2=4.1\n",
    "\n",
    "#SST=sy2*(n-1)\n",
    "#SST=SSR+SSE\n",
    "SSR=R2*SST\n",
    "SSE=SST-SSR\n",
    "#R2=SSR/SST\n",
    "#r=sqrt(R2)*sign(a)\n",
    "\n",
    "kryt=qf(alpha,m,n-m-1,lower.tail=FALSE)\n",
    "F=(SSR/m) / (SSE/(n-m-1))\n",
    "\n",
    "paste(\"R2:\",round(R2,2))\n",
    "#paste(\"r:\",round(r,2))\n",
    "paste(\"SSR:\",round(SSR,3))\n",
    "paste(\"SSE:\",round(SSE,3))\n",
    "paste(\"Wartosc krytyczna:\",round(kryt,3))\n",
    "paste(\"Wartosc statystyki:\",round(F,3))\n",
    "if(F>kryt){\n",
    "    print(\"odrzucamy H0 na rzecz H1\")\n",
    "} else {\n",
    "    print(\"NIE odrzucamy H0\")\n",
    "}"
   ]
  },
  {
   "cell_type": "code",
   "execution_count": 36,
   "metadata": {},
   "outputs": [],
   "source": [
    "#TESTY JAKOŚCIOWE\n",
    "\n",
    "\n",
    "\n",
    "\n",
    "\n",
    "\n",
    "\n",
    "\n",
    "\n",
    "\n",
    "\n",
    "\n",
    "\n",
    "\n",
    "\n",
    "\n",
    "\n",
    "#---------------------------"
   ]
  },
  {
   "cell_type": "code",
   "execution_count": 78,
   "metadata": {},
   "outputs": [
    {
     "data": {
      "text/html": [
       "'Wartość oczekiwane: '"
      ],
      "text/latex": [
       "'Wartość oczekiwane: '"
      ],
      "text/markdown": [
       "'Wartość oczekiwane: '"
      ],
      "text/plain": [
       "[1] \"Wartość oczekiwane: \""
      ]
     },
     "metadata": {},
     "output_type": "display_data"
    },
    {
     "data": {
      "text/html": [
       "<style>\n",
       ".list-inline {list-style: none; margin:0; padding: 0}\n",
       ".list-inline>li {display: inline-block}\n",
       ".list-inline>li:not(:last-child)::after {content: \"\\00b7\"; padding: 0 .5ex}\n",
       "</style>\n",
       "<ol class=list-inline><li>5</li><li>5</li><li>5</li><li>5</li><li>5</li><li>5</li></ol>\n"
      ],
      "text/latex": [
       "\\begin{enumerate*}\n",
       "\\item 5\n",
       "\\item 5\n",
       "\\item 5\n",
       "\\item 5\n",
       "\\item 5\n",
       "\\item 5\n",
       "\\end{enumerate*}\n"
      ],
      "text/markdown": [
       "1. 5\n",
       "2. 5\n",
       "3. 5\n",
       "4. 5\n",
       "5. 5\n",
       "6. 5\n",
       "\n",
       "\n"
      ],
      "text/plain": [
       "[1] 5 5 5 5 5 5"
      ]
     },
     "metadata": {},
     "output_type": "display_data"
    },
    {
     "data": {
      "text/html": [
       "<span style=white-space:pre-wrap>'Zbiór krytyczny:  15.086'</span>"
      ],
      "text/latex": [
       "'Zbiór krytyczny:  15.086'"
      ],
      "text/markdown": [
       "<span style=white-space:pre-wrap>'Zbiór krytyczny:  15.086'</span>"
      ],
      "text/plain": [
       "[1] \"Zbiór krytyczny:  15.086\""
      ]
     },
     "metadata": {},
     "output_type": "display_data"
    },
    {
     "data": {
      "text/html": [
       "<span style=white-space:pre-wrap>'Statystyka:  4'</span>"
      ],
      "text/latex": [
       "'Statystyka:  4'"
      ],
      "text/markdown": [
       "<span style=white-space:pre-wrap>'Statystyka:  4'</span>"
      ],
      "text/plain": [
       "[1] \"Statystyka:  4\""
      ]
     },
     "metadata": {},
     "output_type": "display_data"
    },
    {
     "data": {
      "text/plain": [
       "[1] Brak podstaw do odrzucenia H0"
      ]
     },
     "metadata": {},
     "output_type": "display_data"
    }
   ],
   "source": [
    "#TEST chi2 dla jednej zmiennej\n",
    "Pop1 <- c(4,6,3,6,8,3) #obserwowane\n",
    "Pop2 <- c(5,5,5,5,5,5) #oczekiwane\n",
    "\n",
    "paste(\"Wartość oczekiwane: \")\n",
    "Pop2\n",
    "alpha <- 0.01\n",
    "df <- length(Pop1) - 1\n",
    "\n",
    "chi2=sum((Pop1-Pop2)^2/Pop2)\n",
    "kryt=qchisq(1-alpha, df)\n",
    "\n",
    "paste(\"Zbiór krytyczny: \", round(kryt,3))\n",
    "paste(\"Statystyka: \", round(chi2,3))\n",
    "\n",
    "if (chi2 > kryt) {\n",
    "    noquote(\"Odrzucamy H0 na rzecz H1\")\n",
    "}else{\n",
    "    noquote(\"Brak podstaw do odrzucenia H0\")\n",
    "}\n",
    "#H0:p_i = p_i0, i = 1, 2, 3, 4\n",
    "#H1:istnieje p_i != p_i0"
   ]
  },
  {
   "cell_type": "code",
   "execution_count": 79,
   "metadata": {},
   "outputs": [
    {
     "data": {
      "text/html": [
       "<table class=\"dataframe\">\n",
       "<caption>A matrix: 2 × 2 of type dbl</caption>\n",
       "<tbody>\n",
       "\t<tr><td>28</td><td>11</td></tr>\n",
       "\t<tr><td>49</td><td>43</td></tr>\n",
       "</tbody>\n",
       "</table>\n"
      ],
      "text/latex": [
       "A matrix: 2 × 2 of type dbl\n",
       "\\begin{tabular}{ll}\n",
       "\t 28 & 11\\\\\n",
       "\t 49 & 43\\\\\n",
       "\\end{tabular}\n"
      ],
      "text/markdown": [
       "\n",
       "A matrix: 2 × 2 of type dbl\n",
       "\n",
       "| 28 | 11 |\n",
       "| 49 | 43 |\n",
       "\n"
      ],
      "text/plain": [
       "     [,1] [,2]\n",
       "[1,] 28   11  \n",
       "[2,] 49   43  "
      ]
     },
     "metadata": {},
     "output_type": "display_data"
    },
    {
     "data": {
      "text/html": [
       "<table class=\"dataframe\">\n",
       "<caption>A matrix: 2 × 2 of type dbl</caption>\n",
       "<tbody>\n",
       "\t<tr><td>22.924</td><td>16.076</td></tr>\n",
       "\t<tr><td>54.076</td><td>37.924</td></tr>\n",
       "</tbody>\n",
       "</table>\n"
      ],
      "text/latex": [
       "A matrix: 2 × 2 of type dbl\n",
       "\\begin{tabular}{ll}\n",
       "\t 22.924 & 16.076\\\\\n",
       "\t 54.076 & 37.924\\\\\n",
       "\\end{tabular}\n"
      ],
      "text/markdown": [
       "\n",
       "A matrix: 2 × 2 of type dbl\n",
       "\n",
       "| 22.924 | 16.076 |\n",
       "| 54.076 | 37.924 |\n",
       "\n"
      ],
      "text/plain": [
       "     [,1]   [,2]  \n",
       "[1,] 22.924 16.076\n",
       "[2,] 54.076 37.924"
      ]
     },
     "metadata": {},
     "output_type": "display_data"
    },
    {
     "data": {
      "text/html": [
       "'Zbiór krytyczny: (6.635, inf)'"
      ],
      "text/latex": [
       "'Zbiór krytyczny: (6.635, inf)'"
      ],
      "text/markdown": [
       "'Zbiór krytyczny: (6.635, inf)'"
      ],
      "text/plain": [
       "[1] \"Zbiór krytyczny: (6.635, inf)\""
      ]
     },
     "metadata": {},
     "output_type": "display_data"
    },
    {
     "data": {
      "text/html": [
       "<span style=white-space:pre-wrap>'Statystyka:  3.883'</span>"
      ],
      "text/latex": [
       "'Statystyka:  3.883'"
      ],
      "text/markdown": [
       "<span style=white-space:pre-wrap>'Statystyka:  3.883'</span>"
      ],
      "text/plain": [
       "[1] \"Statystyka:  3.883\""
      ]
     },
     "metadata": {},
     "output_type": "display_data"
    },
    {
     "data": {
      "text/plain": [
       "[1] Brak podstaw do odrzucenia H0"
      ]
     },
     "metadata": {},
     "output_type": "display_data"
    }
   ],
   "source": [
    "#TEST chi2 więcej zmiennych\n",
    "alpha <- 0.01\n",
    "dane <- matrix(c(28,49,11,43), nrow = 2)\n",
    "\n",
    "rsum <- rowSums(dane) \n",
    "csum <- colSums(dane) \n",
    "E <- outer(rsum, csum)/sum(rsum)\n",
    "df <- (length(rsum) - 1) * (length(csum) - 1)\n",
    "\n",
    "dane #SPRAWDŹ CZY DOBRZE WPISAŁEŚ\n",
    "round(E,3)\n",
    "\n",
    "chi2=sum((dane-E)^2/E)\n",
    "kryt=qchisq(1-alpha, df)\n",
    "\n",
    "paste(\"Zbiór krytyczny: (\", round(kryt,3),\", inf)\",sep=\"\")\n",
    "paste(\"Statystyka: \", round(chi2,3))\n",
    "\n",
    "if (chi2 > kryt){\n",
    "    noquote(\"Odrzucamy H0 na rzecz H1\")\n",
    "}else {\n",
    "    noquote(\"Brak podstaw do odrzucenia H0\")\n",
    "}\n",
    "#H0:Brak zaleznosci\n",
    "#H1:Istnieje zaleznosc"
   ]
  },
  {
   "cell_type": "code",
   "execution_count": 108,
   "metadata": {},
   "outputs": [
    {
     "data": {
      "text/html": [
       "<span style=white-space:pre-wrap>'Wartosc statystyki: -0.535     -0.535'</span>"
      ],
      "text/latex": [
       "'Wartosc statystyki: -0.535     -0.535'"
      ],
      "text/markdown": [
       "<span style=white-space:pre-wrap>'Wartosc statystyki: -0.535     -0.535'</span>"
      ],
      "text/plain": [
       "[1] \"Wartosc statystyki: -0.535     -0.535\""
      ]
     },
     "metadata": {},
     "output_type": "display_data"
    },
    {
     "data": {
      "text/html": [
       "'One tailed criterion: 1.645'"
      ],
      "text/latex": [
       "'One tailed criterion: 1.645'"
      ],
      "text/markdown": [
       "'One tailed criterion: 1.645'"
      ],
      "text/plain": [
       "[1] \"One tailed criterion: 1.645\""
      ]
     },
     "metadata": {},
     "output_type": "display_data"
    },
    {
     "data": {
      "text/html": [
       "'Two tiled criterion: 1.96'"
      ],
      "text/latex": [
       "'Two tiled criterion: 1.96'"
      ],
      "text/markdown": [
       "'Two tiled criterion: 1.96'"
      ],
      "text/plain": [
       "[1] \"Two tiled criterion: 1.96\""
      ]
     },
     "metadata": {},
     "output_type": "display_data"
    }
   ],
   "source": [
    "#Test znaków\n",
    "alg1<-c(2,1,2,10,12,2,9,11,6,11,4,6,4,8,10,5)\n",
    "alg2<-c(10,8,11,1,8,6,5,11,6,3,5,10,6,10,4,3)\n",
    "alpha=0.05\n",
    "p=0.5\n",
    "\n",
    "roznice=alg1-alg2\n",
    "n=sum(roznice!=0)\n",
    "T=min(sum(roznice>0),sum(roznice<0))\n",
    "\n",
    "Z=(2*T-n)/sqrt(n)\n",
    "Z3=(T-n*p)/sqrt(n*p*(1-p))\n",
    "\n",
    "paste(\"Wartosc statystyki:\",round(Z,3),\"   \",round(Z3,3))\n",
    "paste(\"One tailed criterion:\",round(-qnorm(alpha),3))\n",
    "paste(\"Two tiled criterion:\",round(-qnorm(alpha/2),3))"
   ]
  },
  {
   "cell_type": "code",
   "execution_count": 97,
   "metadata": {},
   "outputs": [
    {
     "data": {
      "text/plain": [
       "\n",
       "\tSpearman's rank correlation rho\n",
       "\n",
       "data:  X and Y\n",
       "S = 342, p-value = 0.08155\n",
       "alternative hypothesis: true rho is not equal to 0\n",
       "sample estimates:\n",
       "       rho \n",
       "-0.5545455 \n"
      ]
     },
     "metadata": {},
     "output_type": "display_data"
    },
    {
     "data": {
      "text/html": [
       "<span style=white-space:pre-wrap>'rs=  0.929'</span>"
      ],
      "text/latex": [
       "'rs=  0.929'"
      ],
      "text/markdown": [
       "<span style=white-space:pre-wrap>'rs=  0.929'</span>"
      ],
      "text/plain": [
       "[1] \"rs=  0.929\""
      ]
     },
     "metadata": {},
     "output_type": "display_data"
    },
    {
     "data": {
      "text/html": [
       "<span style=white-space:pre-wrap>'rp=  0.698'</span>"
      ],
      "text/latex": [
       "'rp=  0.698'"
      ],
      "text/markdown": [
       "<span style=white-space:pre-wrap>'rp=  0.698'</span>"
      ],
      "text/plain": [
       "[1] \"rp=  0.698\""
      ]
     },
     "metadata": {},
     "output_type": "display_data"
    }
   ],
   "source": [
    "X <- c(0.014,0.298,0.384,0.148,0.498,0.814,0.076,0.858,0.591,0.162,0.885)\n",
    "Y <- c(0.049,0.106,−0.086,0.142,−0.16,0.02,0.374,0.163,−0.106,0.205,−0.301)\n",
    "#Korelacja Spearmana\n",
    "corr =  cor.test(X, Y, method = 'spearman')\n",
    "corr\n",
    "\n",
    "\n",
    "X<-c(1,2,3,4,5,26,7,18)\n",
    "Y<-c(-5,-3,-1,1,3,5,7,9)\n",
    "\n",
    "paste(\"rs= \",round(cor(X,Y,method='spearman'),3))\n",
    "paste(\"rp= \",round(cor(X,Y,method='pearson'),3))"
   ]
  },
  {
   "cell_type": "code",
   "execution_count": null,
   "metadata": {},
   "outputs": [],
   "source": []
  }
 ],
 "metadata": {
  "kernelspec": {
   "display_name": "R",
   "language": "R",
   "name": "ir"
  },
  "language_info": {
   "codemirror_mode": "r",
   "file_extension": ".r",
   "mimetype": "text/x-r-source",
   "name": "R",
   "pygments_lexer": "r",
   "version": "3.6.1"
  }
 },
 "nbformat": 4,
 "nbformat_minor": 4
}
