{
 "cells": [
  {
   "cell_type": "code",
   "execution_count": 1,
   "metadata": {},
   "outputs": [
    {
     "data": {
      "text/plain": [
       "   Min. 1st Qu.  Median    Mean 3rd Qu.    Max. \n",
       "   9.00   15.70   18.00   17.98   19.80   27.00 "
      ]
     },
     "metadata": {},
     "output_type": "display_data"
    },
    {
     "name": "stdout",
     "output_type": "stream",
     "text": [
      "[1] \"moda: 16.2\"\n",
      "[1] \"wariancja populacji: 12.386\"\n",
      "[1] \"skosnosc: 0.094\"\n",
      "[1] \"kurtoza: 3.646\"\n",
      "[1] \"odstep miedzykwartylowy:  4.1\"\n"
     ]
    }
   ],
   "source": [
    "#informacje o danych\n",
    "dane <- c(14.9, 15.2, 19.1, 13.4, 16.6, 27, 17.6, 16.2, 14.3, 17.3, 20.1, 15.7, 18, 18.8, 19.5, 14.5,  22.2, 9, 18.2, 21.4, 16.2, 19.8, 16.9, 19.7, 14.2, 18.7, 20.9, 22.3, 23.6)\n",
    "summary(dane)\n",
    "moment_centralny <- function(dane, rzad){\n",
    "    mean((dane - mean(dane)) ^ rzad)\n",
    "}\n",
    "getmode <- function(dane){ \n",
    "    uniqv <- unique(dane)\n",
    "    uniqv[which.max(tabulate(match(dane,uniqv)))]\n",
    "}\n",
    "print(paste(\"moda:\",getmode(dane)))\n",
    "print(paste(\"wariancja populacji:\",round(moment_centralny(dane,2),3)))\n",
    "print(paste(\"skośność:\",round(moment_centralny(dane,3) / (sqrt(moment_centralny(dane,2))^3),3)))\n",
    "print(paste(\"kurtoza:\",round(moment_centralny(dane,4) / (sqrt(moment_centralny(dane,2))^4),3)))\n",
    "print(paste(\"odstep międzykwartylowy: \", summary(dane)[5]-summary(dane)[2]))"
   ]
  },
  {
   "cell_type": "code",
   "execution_count": 2,
   "metadata": {},
   "outputs": [
    {
     "data": {
      "text/html": [
       "0.0390092562832393"
      ],
      "text/latex": [
       "0.0390092562832393"
      ],
      "text/markdown": [
       "0.0390092562832393"
      ],
      "text/plain": [
       "[1] 0.03900926"
      ]
     },
     "metadata": {},
     "output_type": "display_data"
    },
    {
     "data": {
      "text/html": [
       "0.306584344324154"
      ],
      "text/latex": [
       "0.306584344324154"
      ],
      "text/markdown": [
       "0.306584344324154"
      ],
      "text/plain": [
       "[1] 0.3065843"
      ]
     },
     "metadata": {},
     "output_type": "display_data"
    },
    {
     "data": {
      "text/html": [
       "3.86904787830433"
      ],
      "text/latex": [
       "3.86904787830433"
      ],
      "text/markdown": [
       "3.86904787830433"
      ],
      "text/plain": [
       "[1] 3.869048"
      ]
     },
     "metadata": {},
     "output_type": "display_data"
    },
    {
     "data": {
      "text/html": [
       "0.230361989229139"
      ],
      "text/latex": [
       "0.230361989229139"
      ],
      "text/markdown": [
       "0.230361989229139"
      ],
      "text/plain": [
       "[1] 0.230362"
      ]
     },
     "metadata": {},
     "output_type": "display_data"
    }
   ],
   "source": [
    "#ROZKŁAD NORMALNY\n",
    "EX <- 5\n",
    "sigma <- 9\n",
    "x <- 0.45 #dany punkt\n",
    "\n",
    "dnorm(x, EX, sigma) #gestosc w punkcie X\n",
    "pnorm(x, EX, sigma) #dystrybuanta w punkcie X\n",
    "qnorm(x, EX, sigma) #funkcja kwantylowa (odwrotnia dystrybuanta) w punkcie X\n",
    "\n",
    "#ROZKŁAD T-STUDENTA\n",
    "degree_of_freedom <- 10 #stopnie swobody\n",
    "t <- 1 #dany punkt\n",
    "\n",
    "dt(t, degree_of_freedom) #gestosc w punkcie X"
   ]
  },
  {
   "cell_type": "code",
   "execution_count": 2,
   "metadata": {},
   "outputs": [
    {
     "data": {
      "text/html": [
       "'left ending: 1.708'"
      ],
      "text/latex": [
       "'left ending: 1.708'"
      ],
      "text/markdown": [
       "'left ending: 1.708'"
      ],
      "text/plain": [
       "[1] \"left ending: 1.708\""
      ]
     },
     "metadata": {},
     "output_type": "display_data"
    },
    {
     "data": {
      "text/html": [
       "'right ending: 4.292'"
      ],
      "text/latex": [
       "'right ending: 4.292'"
      ],
      "text/markdown": [
       "'right ending: 4.292'"
      ],
      "text/plain": [
       "[1] \"right ending: 4.292\""
      ]
     },
     "metadata": {},
     "output_type": "display_data"
    }
   ],
   "source": [
    "#Przedział ufności dla estymatora średniej\n",
    "EX <- 3 #srednia proby\n",
    "sigma <- 5\n",
    "alpha <- 1-0.98 #alpha = 1 - przedzial_ufnosci\n",
    "n <- 81\n",
    "\n",
    "paste(\"left ending:\",round(EX - qnorm(1 - alpha / 2) * (sigma / sqrt(n)),3))\n",
    "paste(\"right ending:\",round(EX + qnorm(1 - alpha / 2) * (sigma / sqrt(n)),3))"
   ]
  },
  {
   "cell_type": "code",
   "execution_count": 42,
   "metadata": {},
   "outputs": [
    {
     "data": {
      "text/html": [
       "'Wartosc statystyki 4.105'"
      ],
      "text/latex": [
       "'Wartosc statystyki 4.105'"
      ],
      "text/markdown": [
       "'Wartosc statystyki 4.105'"
      ],
      "text/plain": [
       "[1] \"Wartosc statystyki 4.105\""
      ]
     },
     "metadata": {},
     "output_type": "display_data"
    },
    {
     "data": {
      "text/html": [
       "'One tailed criterion: 2.326'"
      ],
      "text/latex": [
       "'One tailed criterion: 2.326'"
      ],
      "text/markdown": [
       "'One tailed criterion: 2.326'"
      ],
      "text/plain": [
       "[1] \"One tailed criterion: 2.326\""
      ]
     },
     "metadata": {},
     "output_type": "display_data"
    },
    {
     "data": {
      "text/html": [
       "'Two tiled criterion: 2.576'"
      ],
      "text/latex": [
       "'Two tiled criterion: 2.576'"
      ],
      "text/markdown": [
       "'Two tiled criterion: 2.576'"
      ],
      "text/plain": [
       "[1] \"Two tiled criterion: 2.576\""
      ]
     },
     "metadata": {},
     "output_type": "display_data"
    }
   ],
   "source": [
    "#TEST Z\n",
    "n <- 49\n",
    "mu <- 7.3 #srednia wartosc w probie\n",
    "mu_0 <- 6.18 #srednia wartosc populacji\n",
    "sigma <- 1.91 #odchylenie standardowe populacji\n",
    "alpha <- 0.01 #poziom istotnosci\n",
    "\n",
    "Z <- (mu - mu_0) / sigma * sqrt(n)\n",
    "    paste(\"Wartosc statystyki\",round(Z,3))\n",
    "    paste(\"One tailed criterion:\",round(-qnorm(alpha),3))\n",
    "    paste(\"Two tiled criterion:\",round(-qnorm(alpha / 2),3))"
   ]
  },
  {
   "cell_type": "code",
   "execution_count": 1,
   "metadata": {},
   "outputs": [
    {
     "data": {
      "text/html": [
       "'Wartosc statystyki 3.556'"
      ],
      "text/latex": [
       "'Wartosc statystyki 3.556'"
      ],
      "text/markdown": [
       "'Wartosc statystyki 3.556'"
      ],
      "text/plain": [
       "[1] \"Wartosc statystyki 3.556\""
      ]
     },
     "metadata": {},
     "output_type": "display_data"
    },
    {
     "data": {
      "text/html": [
       "'One tailed criterion: 2.054'"
      ],
      "text/latex": [
       "'One tailed criterion: 2.054'"
      ],
      "text/markdown": [
       "'One tailed criterion: 2.054'"
      ],
      "text/plain": [
       "[1] \"One tailed criterion: 2.054\""
      ]
     },
     "metadata": {},
     "output_type": "display_data"
    },
    {
     "data": {
      "text/html": [
       "'Two tiled criterion: 2.326'"
      ],
      "text/latex": [
       "'Two tiled criterion: 2.326'"
      ],
      "text/markdown": [
       "'Two tiled criterion: 2.326'"
      ],
      "text/plain": [
       "[1] \"Two tiled criterion: 2.326\""
      ]
     },
     "metadata": {},
     "output_type": "display_data"
    }
   ],
   "source": [
    "#TEST FRAKCJI\n",
    "n<-81\n",
    "p<-29/n #srednia wartosc w probie\n",
    "p0<-0.2 #srednia wartosc populacji\n",
    "alpha<-0.02\n",
    "\n",
    "Z <- (p - p0) / sqrt((p0 * (1-p0)) / n)\n",
    "    paste(\"Wartosc statystyki\",round(Z,3))\n",
    "    paste(\"One tailed criterion:\",round(-qnorm(alpha),3))\n",
    "    paste(\"Two tiled criterion:\",round(-qnorm(alpha / 2),3))"
   ]
  },
  {
   "cell_type": "code",
   "execution_count": 46,
   "metadata": {},
   "outputs": [
    {
     "name": "stdout",
     "output_type": "stream",
     "text": [
      "Wartosc oczekiwana dla sumy:\t\t 64 \t dla sredniej: 0.8 \n",
      "Odchylenie standardowe dla sumy:\t 3.578 \t dla sredniej: 0.045"
     ]
    }
   ],
   "source": [
    "#Obliczenia dla sumy n zmiennych o rozkładzie dwupunktowym\n",
    "n <- 80\n",
    "p <- 0.8\n",
    "\n",
    "cat(\"Wartosc oczekiwana dla sumy:\\t\\t\",round(n*p,3),\"\\t dla sredniej:\",round(p,3),\"\\n\")\n",
    "cat(\"Odchylenie standardowe dla sumy:\\t\",round(sqrt(n*p*(1-p)),3),\"\\t dla sredniej:\",round(sqrt(p*(1-p)/n),3))"
   ]
  },
  {
   "cell_type": "code",
   "execution_count": 34,
   "metadata": {},
   "outputs": [
    {
     "name": "stdout",
     "output_type": "stream",
     "text": [
      "[1] \"Wartosc oczekiwana dla sumy i sredniej: 10\"\n",
      "[1] \"Odchylenie standardowe sumy: 15.81 dla sredniej: 1.58\"\n"
     ]
    }
   ],
   "source": [
    "#Obliczenia dla sumy n zmiennych o rozkładzie NORMALNYM\n",
    "n <- 10\n",
    "EX <- 1\n",
    "sigma <- 5\n",
    "print(paste(\"Wartosc oczekiwana dla sumy i sredniej:\",round(EX*n,3)))\n",
    "print(paste(\"Odchylenie standardowe sumy:\",round(sqrt(n)*sigma,3),\"dla sredniej:\",round(sigma/sqrt(n),3)))"
   ]
  },
  {
   "cell_type": "code",
   "execution_count": 48,
   "metadata": {},
   "outputs": [
    {
     "name": "stdout",
     "output_type": "stream",
     "text": [
      "[1] \"a: -3\"\n",
      "[1] \"b: 1\"\n",
      "[1] \"c: -Inf\"\n",
      "[1] \"d: 4.444\"\n",
      "[1] \"e: 1\"\n",
      "P(X < g) = 0.5 \n",
      "P(X > g) = 0.5\n",
      "P(X < g) = P(Z < h) ---> h = 0"
     ]
    }
   ],
   "source": [
    "#Normalizacja X~N(EX,sigma) && Z~N(0,1)\n",
    "EX <- 0.8\n",
    "sigma <- 0.045\n",
    "p <- 1\n",
    "q <- 2\n",
    "\n",
    "g <- 0.8\n",
    "#---------------------------------------------------\n",
    "#P(|X+p| <= q) = P(a <= X <= b) = P(c <= Z <= d) = e\n",
    "print(paste(\"a:\",-p-q))\n",
    "print(paste(\"b:\",-p+q))\n",
    "print(paste(\"c:\",round(qnorm(pnorm(-p-q, EX, sigma)),3)))\n",
    "print(paste(\"d:\",round(qnorm(pnorm(-p+q, EX, sigma)),3)))\n",
    "print(paste(\"e:\",round(pnorm(-p+q, EX, sigma)-pnorm(-p-q, EX, sigma),3)))\n",
    "#---------------------------------------------------\n",
    "#P(X < g) && P(X > g)\n",
    "tmp=round(pnorm(g,EX,sigma),2)\n",
    "cat(\"P(X < g) =\",tmp,\"\\nP(X > g) =\",1-tmp)\n",
    "#P(Z > h)\n",
    "cat(\"\\nP(X < g) = P(Z < h) ---> h =\",round(qnorm(pnorm(g,EX,sigma)),3))"
   ]
  },
  {
   "cell_type": "code",
   "execution_count": null,
   "metadata": {},
   "outputs": [],
   "source": []
  }
 ],
 "metadata": {
  "kernelspec": {
   "display_name": "R",
   "language": "R",
   "name": "ir"
  },
  "language_info": {
   "codemirror_mode": "r",
   "file_extension": ".r",
   "mimetype": "text/x-r-source",
   "name": "R",
   "pygments_lexer": "r",
   "version": "3.6.1"
  }
 },
 "nbformat": 4,
 "nbformat_minor": 4
}
