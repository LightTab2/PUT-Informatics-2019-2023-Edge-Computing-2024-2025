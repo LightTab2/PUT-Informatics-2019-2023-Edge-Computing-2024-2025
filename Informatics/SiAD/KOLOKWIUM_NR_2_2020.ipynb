{
 "cells": [
  {
   "cell_type": "markdown",
   "metadata": {},
   "source": [
    "## SiAD przydatne wzory\n",
    "# Kolokwium Numer 2"
   ]
  },
  {
   "cell_type": "markdown",
   "metadata": {},
   "source": [
    "# Test  dla 2 zbiorowości dla grup niezależnych (niesparowany). Duża próba (N>=30)."
   ]
  },
  {
   "cell_type": "code",
   "execution_count": 74,
   "metadata": {},
   "outputs": [
    {
     "data": {
      "text/html": [
       "-3"
      ],
      "text/latex": [
       "-3"
      ],
      "text/markdown": [
       "-3"
      ],
      "text/plain": [
       "[1] -3"
      ]
     },
     "metadata": {},
     "output_type": "display_data"
    },
    {
     "data": {
      "text/html": [
       "1.64485362695147"
      ],
      "text/latex": [
       "1.64485362695147"
      ],
      "text/markdown": [
       "1.64485362695147"
      ],
      "text/plain": [
       "[1] 1.644854"
      ]
     },
     "metadata": {},
     "output_type": "display_data"
    }
   ],
   "source": [
    "#H_0 u_po=u_przed\n",
    "#H_1 u_po<u_przed\n",
    "\n",
    "alpha<-0.05\n",
    "#Próba po\n",
    "x1 <- 62\n",
    "odch_1 <- 15\n",
    "n1<- 45\n",
    "\n",
    "#Proba przed\n",
    "x2<- 71\n",
    "odch_2 <- 12\n",
    "n2<- 36\n",
    "\n",
    "#Statystyka testowa\n",
    "Z<- (x1-x2)/sqrt(odch_1^2/n1 + odch_2^2/n2)\n",
    "Z\n",
    "\n",
    "#Zbiór krytyczna (jeśli lewostronny test należy dodać minus i odkładamy na lewo)\n",
    "Z_kr <- qnorm(1-alpha)\n",
    "Z_kr\n",
    "\n",
    "#Zbiór krytyczny jeśli test jest obustonny\n",
    "#Z_kr2 <- qnorm(1-alpha/2)\n",
    "#Z_kr2\n"
   ]
  },
  {
   "cell_type": "markdown",
   "metadata": {},
   "source": [
    "# Test na istotność wariancji (potrzebny do testu niesparowanego dla małej próby)\n",
    "\n",
    "Aby wykonać test niesparowany T dla małej próby (n<30) wariancje muszą być równe, a więc nie chcemy odrzucać H_0!"
   ]
  },
  {
   "cell_type": "code",
   "execution_count": 11,
   "metadata": {},
   "outputs": [
    {
     "data": {
      "text/html": [
       "1.16911764705882"
      ],
      "text/latex": [
       "1.16911764705882"
      ],
      "text/markdown": [
       "1.16911764705882"
      ],
      "text/plain": [
       "[1] 1.169118"
      ]
     },
     "metadata": {},
     "output_type": "display_data"
    },
    {
     "data": {
      "text/html": [
       "3.79795248232043"
      ],
      "text/latex": [
       "3.79795248232043"
      ],
      "text/markdown": [
       "3.79795248232043"
      ],
      "text/plain": [
       "[1] 3.797952"
      ]
     },
     "metadata": {},
     "output_type": "display_data"
    }
   ],
   "source": [
    "# H_0 var1 = var2\n",
    "# H_1 var1 != var2\n",
    "\n",
    "alpha <- 0.05\n",
    "\n",
    "n1<-10\n",
    "n2<-15\n",
    "#Wariancje\n",
    "var1<-159\n",
    "var2<-136\n",
    "#Statystyka F ma rodkład fishera/snedecora (dzielimy większą przez mniejszą)\n",
    "F<- var1/var2\n",
    "F\n",
    "\n",
    "#Zbiór krytyczny (stopnie swobody pierwszy wyższy drugi niższy)\n",
    "zb_kr <- qf(1-alpha/2,n2-1,n1-1)\n",
    "zb_kr\n",
    "\n",
    "\n"
   ]
  },
  {
   "cell_type": "markdown",
   "metadata": {},
   "source": [
    "# Test  dla 2 zbiorowości dla grup niezależnych (niesparowany). Mała próba (N<30)."
   ]
  },
  {
   "cell_type": "code",
   "execution_count": 73,
   "metadata": {},
   "outputs": [
    {
     "data": {
      "text/html": [
       "150"
      ],
      "text/latex": [
       "150"
      ],
      "text/markdown": [
       "150"
      ],
      "text/plain": [
       "[1] 150"
      ]
     },
     "metadata": {},
     "output_type": "display_data"
    },
    {
     "data": {
      "text/html": [
       "-1"
      ],
      "text/latex": [
       "-1"
      ],
      "text/markdown": [
       "-1"
      ],
      "text/plain": [
       "[1] -1"
      ]
     },
     "metadata": {},
     "output_type": "display_data"
    },
    {
     "data": {
      "text/html": [
       "1.71387152774705"
      ],
      "text/latex": [
       "1.71387152774705"
      ],
      "text/markdown": [
       "1.71387152774705"
      ],
      "text/plain": [
       "[1] 1.713872"
      ]
     },
     "metadata": {},
     "output_type": "display_data"
    }
   ],
   "source": [
    "# H_0 u_po=u_przed\n",
    "# H_1 u_po < u_przed\n",
    "\n",
    "alpha<-0.05\n",
    "\n",
    "var1 <-136\n",
    "var2 <- 159\n",
    "\n",
    "s1<- 71\n",
    "s2<- 66\n",
    "n1<-10\n",
    "n2<-15\n",
    "#Wariancja Łączna S^2\n",
    "S_total <- (var1*(n1-1) + var2*(n2-1))/(n1+n2-2)\n",
    "S_total\n",
    "\n",
    "\n",
    "#Statystyka testowa\n",
    "T<- (s2-s1)/sqrt(S_total*(1/n1 + 1/n2))\n",
    "T\n",
    "\n",
    "#Zbiór krytyczny (jeśli lewostronny to dodajemy minus)\n",
    "T_kr <- qt(1-alpha,n1+n2-2)\n",
    "T_kr\n",
    "\n",
    "#Zbiór krytyczny jeśli testy jest obustronny\n",
    "#T_kr2 <- qt(1-alpha/2,n1+n2-2)\n",
    "#T_kr2"
   ]
  },
  {
   "cell_type": "markdown",
   "metadata": {},
   "source": [
    "# Test sparowany dla 2 zbiorowości"
   ]
  },
  {
   "cell_type": "code",
   "execution_count": 72,
   "metadata": {},
   "outputs": [
    {
     "data": {
      "text/html": [
       "1.6"
      ],
      "text/latex": [
       "1.6"
      ],
      "text/markdown": [
       "1.6"
      ],
      "text/plain": [
       "[1] 1.6"
      ]
     },
     "metadata": {},
     "output_type": "display_data"
    },
    {
     "data": {
      "text/html": [
       "1.64485362695147"
      ],
      "text/latex": [
       "1.64485362695147"
      ],
      "text/markdown": [
       "1.64485362695147"
      ],
      "text/plain": [
       "[1] 1.644854"
      ]
     },
     "metadata": {},
     "output_type": "display_data"
    }
   ],
   "source": [
    "# H_0 u_rożnica = u_po-u_przed=0\n",
    "# H_1 u_różnica > 0\n",
    "\n",
    "alpha<- 0.05\n",
    "\n",
    "s_z_roznic <- 0.18\n",
    "var_z_roznic <- 0.81\n",
    "n <- 64\n",
    "\n",
    "odch_stadnardowe_roznic <- sqrt(var_z_roznic)\n",
    "#statystyka testowa\n",
    "T<- s_z_roznic / odch_stadnardowe_roznic * sqrt(n)\n",
    "T\n",
    "\n",
    "#Zbiór krytyczny krytyczny (duża próba z rokzładu normalnego n>=30)\n",
    "zb<- qnorm(1-alpha)\n",
    "zb\n",
    "#dla obustronnego\n",
    "#zb1<- qnorm(1-alpha/2)\n",
    "#zb1\n",
    "\n",
    "#Zbiór krytyczny krytyczny (mała próba z rokzładu normalnego n<30)\n",
    "#zb_T<- qt(1-alpha,n-1)\n",
    "#zb_T\n",
    "#dla obustronnego\n",
    "#zb_T1<- qt(1-alpha/2,n-1)\n",
    "#zb_T1\n"
   ]
  },
  {
   "cell_type": "markdown",
   "metadata": {},
   "source": [
    "# Założenia modelu regresji liniowej\n",
    "- Związek między zmiennymi musi być liniowy\n",
    "- Rozkład reszt musi być rozkładem normalnym z wartością oczekiwaną równom 0\n",
    "- Niezależny szum dla wszystkich obserwacji (założenie homoskedastyczności)\n",
    "- Stała wariancja reszt"
   ]
  },
  {
   "cell_type": "markdown",
   "metadata": {},
   "source": [
    "# Sprawdzanie statystycznej istotności modelu regresji liniowej F"
   ]
  },
  {
   "cell_type": "code",
   "execution_count": 71,
   "metadata": {},
   "outputs": [
    {
     "name": "stdout",
     "output_type": "stream",
     "text": [
      "[1] \"współczynnik determinacji\"\n"
     ]
    },
    {
     "data": {
      "text/html": [
       "0.197530864197531"
      ],
      "text/latex": [
       "0.197530864197531"
      ],
      "text/markdown": [
       "0.197530864197531"
      ],
      "text/plain": [
       "[1] 0.1975309"
      ]
     },
     "metadata": {},
     "output_type": "display_data"
    },
    {
     "name": "stdout",
     "output_type": "stream",
     "text": [
      "[1] \"współcznynnik korelacji \"\n"
     ]
    },
    {
     "data": {
      "text/html": [
       "-0.444444444444444"
      ],
      "text/latex": [
       "-0.444444444444444"
      ],
      "text/markdown": [
       "-0.444444444444444"
      ],
      "text/plain": [
       "[1] -0.4444444"
      ]
     },
     "metadata": {},
     "output_type": "display_data"
    },
    {
     "name": "stdout",
     "output_type": "stream",
     "text": [
      "[1] \"Statystyka testowa\"\n"
     ]
    },
    {
     "data": {
      "text/html": [
       "3.2"
      ],
      "text/latex": [
       "3.2"
      ],
      "text/markdown": [
       "3.2"
      ],
      "text/plain": [
       "[1] 3.2"
      ]
     },
     "metadata": {},
     "output_type": "display_data"
    },
    {
     "name": "stdout",
     "output_type": "stream",
     "text": [
      "[1] \"Zbiór krytyczny\"\n"
     ]
    },
    {
     "data": {
      "text/html": [
       "4.66719273182685"
      ],
      "text/latex": [
       "4.66719273182685"
      ],
      "text/markdown": [
       "4.66719273182685"
      ],
      "text/plain": [
       "[1] 4.667193"
      ]
     },
     "metadata": {},
     "output_type": "display_data"
    }
   ],
   "source": [
    "#NP prosta y^=-3x + 7\n",
    "#Całkowita zmienność\n",
    "SST<-810\n",
    "#Zmienność Niewyjaśnione\n",
    "SSE<-650\n",
    "#Zmienność wyjaśniona\n",
    "SSR <- SST-SSE\n",
    "\n",
    "\n",
    "#współcznynnik determinacji\n",
    "R2 <- SSR/SST\n",
    "print('współczynnik determinacji')\n",
    "R2\n",
    "\n",
    "#współcznynnik korelacji (pierwiastek z R^2 pomnożony przez znak przy x (wsp kierunkowy) !!!!)\n",
    "r<- -sqrt(R2)\n",
    "print('współcznynnik korelacji ')\n",
    "r\n",
    "\n",
    "# H_0 model nie istotny (a=0)\n",
    "# H_1 model regresji jest istotny statystycznie\n",
    "n<- 15\n",
    "alpha <- 0.05\n",
    "\n",
    "#Statystyka testowa\n",
    "F<- SSR/SSE * (n-2)\n",
    "print('Statystyka testowa')\n",
    "F\n",
    "\n",
    "#Zbiór krytyczny (TEN TEST SPRAWDZAMY TYLKO W PRAWOOOOOO!)\n",
    "zkr<-qf(1-alpha,1,n-2)\n",
    "print('Zbiór krytyczny')\n",
    "zkr\n"
   ]
  },
  {
   "cell_type": "markdown",
   "metadata": {},
   "source": [
    "# Test na statystyczną istotność korelacji"
   ]
  },
  {
   "cell_type": "code",
   "execution_count": 37,
   "metadata": {},
   "outputs": [
    {
     "data": {
      "text/html": [
       "1.01036297108185"
      ],
      "text/latex": [
       "1.01036297108185"
      ],
      "text/markdown": [
       "1.01036297108185"
      ],
      "text/plain": [
       "[1] 1.010363"
      ]
     },
     "metadata": {},
     "output_type": "display_data"
    },
    {
     "data": {
      "text/html": [
       "3.0545395893929"
      ],
      "text/latex": [
       "3.0545395893929"
      ],
      "text/markdown": [
       "3.0545395893929"
      ],
      "text/plain": [
       "[1] 3.05454"
      ]
     },
     "metadata": {},
     "output_type": "display_data"
    }
   ],
   "source": []
  },
  {
   "cell_type": "markdown",
   "metadata": {},
   "source": [
    "# Test chi kwadrat dla jednej zmiennej.\n",
    "\n",
    "Test chi kwadrat można stosować jeśli każda wartość w TABELI WARTOŚCI OCZEKIWANYCH JEST WIĘKSZA OD 5.\n",
    "Jeśli jest mniejsza można zrobić poprawkę yatesa."
   ]
  },
  {
   "cell_type": "code",
   "execution_count": 70,
   "metadata": {},
   "outputs": [
    {
     "name": "stdout",
     "output_type": "stream",
     "text": [
      "[1] \"Tablica wart oczekiwanych\"\n"
     ]
    },
    {
     "data": {
      "text/html": [
       "<ol class=list-inline>\n",
       "\t<li>198</li>\n",
       "\t<li>19.25</li>\n",
       "\t<li>33</li>\n",
       "\t<li>24.75</li>\n",
       "</ol>\n"
      ],
      "text/latex": [
       "\\begin{enumerate*}\n",
       "\\item 198\n",
       "\\item 19.25\n",
       "\\item 33\n",
       "\\item 24.75\n",
       "\\end{enumerate*}\n"
      ],
      "text/markdown": [
       "1. 198\n",
       "2. 19.25\n",
       "3. 33\n",
       "4. 24.75\n",
       "\n",
       "\n"
      ],
      "text/plain": [
       "[1] 198.00  19.25  33.00  24.75"
      ]
     },
     "metadata": {},
     "output_type": "display_data"
    },
    {
     "name": "stdout",
     "output_type": "stream",
     "text": [
      "[1] \"liczba stopni swobody:\"\n"
     ]
    },
    {
     "data": {
      "text/html": [
       "3"
      ],
      "text/latex": [
       "3"
      ],
      "text/markdown": [
       "3"
      ],
      "text/plain": [
       "[1] 3"
      ]
     },
     "metadata": {},
     "output_type": "display_data"
    },
    {
     "name": "stdout",
     "output_type": "stream",
     "text": [
      "[1] \"Statystyka testowa:\"\n"
     ]
    },
    {
     "data": {
      "text/html": [
       "5.88961038961039"
      ],
      "text/latex": [
       "5.88961038961039"
      ],
      "text/markdown": [
       "5.88961038961039"
      ],
      "text/plain": [
       "[1] 5.88961"
      ]
     },
     "metadata": {},
     "output_type": "display_data"
    },
    {
     "name": "stdout",
     "output_type": "stream",
     "text": [
      "[1] \"Zbiór krytyczny:\"\n"
     ]
    },
    {
     "data": {
      "text/html": [
       "11.3448667301444"
      ],
      "text/latex": [
       "11.3448667301444"
      ],
      "text/markdown": [
       "11.3448667301444"
      ],
      "text/plain": [
       "[1] 11.34487"
      ]
     },
     "metadata": {},
     "output_type": "display_data"
    }
   ],
   "source": [
    "#H_0 : Zmienna X ma rozkład P (Rozkład zmiennej X jest taki sam ja w populacji)\n",
    "#H_1 : Zmienna X ma rozkład różny od P\n",
    "\n",
    "alpha<- 0.01\n",
    "\n",
    "\n",
    "zaobserwowane <- c(205,26,25,19)\n",
    "razem1<- sum(zaobserwowane)\n",
    "rozkł_w_pop <- c(0.72,0.07,0.12,0.09)\n",
    "razem2 <-sum(rozkł_w_pop)\n",
    "\n",
    "#tabela wartości oczekiwanych\n",
    "oczekiwane <- rozkł_w_pop * sum(zaobserwowane)\n",
    "print('Tablica wart oczekiwanych')\n",
    "oczekiwane\n",
    "#liczba stopni swobody (n-1)\n",
    "print('liczba stopni swobody:')\n",
    "df <- length(zaobserwowane)-1\n",
    "df\n",
    "\n",
    "#Statystyka Testowa\n",
    "chi_2 <- sum((zaobserwowane - oczekiwane)^2/ oczekiwane)\n",
    "print('Statystyka testowa:')\n",
    "chi_2\n",
    "#Zbiór krytyczny (obszar krytyczny jest odkładany tylko po prawej!!!)\n",
    "chi_2_kr <- qchisq(1-alpha,df)\n",
    "print('Zbiór krytyczny:')\n",
    "chi_2_kr"
   ]
  },
  {
   "cell_type": "markdown",
   "metadata": {},
   "source": [
    "# Test chi kwadrat dla dwóch zmiennych."
   ]
  },
  {
   "cell_type": "code",
   "execution_count": 76,
   "metadata": {},
   "outputs": [
    {
     "data": {
      "text/html": [
       "<table>\n",
       "<tbody>\n",
       "\t<tr><td>35</td><td> 6</td><td> 4</td></tr>\n",
       "\t<tr><td>45</td><td>14</td><td>11</td></tr>\n",
       "</tbody>\n",
       "</table>\n"
      ],
      "text/latex": [
       "\\begin{tabular}{lll}\n",
       "\t 35 &  6 &  4\\\\\n",
       "\t 45 & 14 & 11\\\\\n",
       "\\end{tabular}\n"
      ],
      "text/markdown": [
       "\n",
       "| 35 |  6 |  4 |\n",
       "| 45 | 14 | 11 |\n",
       "\n"
      ],
      "text/plain": [
       "     [,1] [,2] [,3]\n",
       "[1,] 35    6    4  \n",
       "[2,] 45   14   11  "
      ]
     },
     "metadata": {},
     "output_type": "display_data"
    },
    {
     "name": "stdout",
     "output_type": "stream",
     "text": [
      "[1] \"podsumowanie wierszy:\"\n"
     ]
    },
    {
     "data": {
      "text/html": [
       "<ol class=list-inline>\n",
       "\t<li>45</li>\n",
       "\t<li>70</li>\n",
       "</ol>\n"
      ],
      "text/latex": [
       "\\begin{enumerate*}\n",
       "\\item 45\n",
       "\\item 70\n",
       "\\end{enumerate*}\n"
      ],
      "text/markdown": [
       "1. 45\n",
       "2. 70\n",
       "\n",
       "\n"
      ],
      "text/plain": [
       "[1] 45 70"
      ]
     },
     "metadata": {},
     "output_type": "display_data"
    },
    {
     "name": "stdout",
     "output_type": "stream",
     "text": [
      "[1] \"podsumowanie kolumn:\"\n"
     ]
    },
    {
     "data": {
      "text/html": [
       "<ol class=list-inline>\n",
       "\t<li>80</li>\n",
       "\t<li>20</li>\n",
       "\t<li>15</li>\n",
       "</ol>\n"
      ],
      "text/latex": [
       "\\begin{enumerate*}\n",
       "\\item 80\n",
       "\\item 20\n",
       "\\item 15\n",
       "\\end{enumerate*}\n"
      ],
      "text/markdown": [
       "1. 80\n",
       "2. 20\n",
       "3. 15\n",
       "\n",
       "\n"
      ],
      "text/plain": [
       "[1] 80 20 15"
      ]
     },
     "metadata": {},
     "output_type": "display_data"
    },
    {
     "name": "stdout",
     "output_type": "stream",
     "text": [
      "[1] \"Podsumowanie całej tabeli\"\n"
     ]
    },
    {
     "data": {
      "text/html": [
       "115"
      ],
      "text/latex": [
       "115"
      ],
      "text/markdown": [
       "115"
      ],
      "text/plain": [
       "[1] 115"
      ]
     },
     "metadata": {},
     "output_type": "display_data"
    },
    {
     "name": "stdout",
     "output_type": "stream",
     "text": [
      "[1] \"Tablica wart oczekiwanych\"\n"
     ]
    },
    {
     "data": {
      "text/html": [
       "<table>\n",
       "<tbody>\n",
       "\t<tr><td>31.30435 </td><td> 7.826087</td><td>5.869565 </td></tr>\n",
       "\t<tr><td>48.69565 </td><td>12.173913</td><td>9.130435 </td></tr>\n",
       "</tbody>\n",
       "</table>\n"
      ],
      "text/latex": [
       "\\begin{tabular}{lll}\n",
       "\t 31.30435  &  7.826087 & 5.869565 \\\\\n",
       "\t 48.69565  & 12.173913 & 9.130435 \\\\\n",
       "\\end{tabular}\n"
      ],
      "text/markdown": [
       "\n",
       "| 31.30435  |  7.826087 | 5.869565  |\n",
       "| 48.69565  | 12.173913 | 9.130435  |\n",
       "\n"
      ],
      "text/plain": [
       "     [,1]     [,2]      [,3]    \n",
       "[1,] 31.30435  7.826087 5.869565\n",
       "[2,] 48.69565 12.173913 9.130435"
      ]
     },
     "metadata": {},
     "output_type": "display_data"
    },
    {
     "name": "stdout",
     "output_type": "stream",
     "text": [
      "[1] \"liczba stopni swobody:\"\n"
     ]
    },
    {
     "data": {
      "text/html": [
       "2"
      ],
      "text/latex": [
       "2"
      ],
      "text/markdown": [
       "2"
      ],
      "text/plain": [
       "[1] 2"
      ]
     },
     "metadata": {},
     "output_type": "display_data"
    },
    {
     "name": "stdout",
     "output_type": "stream",
     "text": [
      "[1] \"Statystyka testowa:\"\n"
     ]
    },
    {
     "data": {
      "text/html": [
       "2.39507275132275"
      ],
      "text/latex": [
       "2.39507275132275"
      ],
      "text/markdown": [
       "2.39507275132275"
      ],
      "text/plain": [
       "[1] 2.395073"
      ]
     },
     "metadata": {},
     "output_type": "display_data"
    },
    {
     "name": "stdout",
     "output_type": "stream",
     "text": [
      "[1] \"Zbiór krytyczny:\"\n"
     ]
    },
    {
     "data": {
      "text/html": [
       "9.21034037197618"
      ],
      "text/latex": [
       "9.21034037197618"
      ],
      "text/markdown": [
       "9.21034037197618"
      ],
      "text/plain": [
       "[1] 9.21034"
      ]
     },
     "metadata": {},
     "output_type": "display_data"
    }
   ],
   "source": [
    "# H0 : Zmienne X i Y są niezależne\n",
    "# H1 : Zmienne X i Y są zależne\n",
    "\n",
    "alpha <- 0.01\n",
    "\n",
    "#Tablica wart obserwowanych macierz wart najlpierw liczba wierszy potem kolumn\n",
    "obserwowane<- matrix(c(35,45,6,14,4,11),2,3)\n",
    "obserwowane\n",
    "row_total<- rowSums(obserwowane)\n",
    "print('Podsumowanie wierszy:')\n",
    "row_total\n",
    "\n",
    "col_total<- colSums(obserwowane)\n",
    "print('Podsumowanie kolumn:')col_total\n",
    "\n",
    "print('Podsumowanie całej tabeli')\n",
    "sum(obserwowane)\n",
    "#Tablica wart oczekiwanych\n",
    "oczekiwane <- outer(row_total,col_total) / sum(obserwowane)\n",
    "print('Tablica wart oczekiwanych')\n",
    "oczekiwane\n",
    "#liczba stopni swobody (n-1)*(m-1)\n",
    "df <- (3-1)*(2-1)\n",
    "print('liczba stopni swobody:')\n",
    "df\n",
    "\n",
    "#Statystyka Testowa\n",
    "chi_2 <- sum((obserwowane - oczekiwane)^2/ oczekiwane)\n",
    "print('Statystyka testowa:')\n",
    "chi_2\n",
    "\n",
    "#Zbiór krytyczny (obszar krytyczny jest odkładany tylko po prawej!!!)\n",
    "ch_2_kr <- qchisq(1-alpha,df)\n",
    "print('Zbiór krytyczny:')\n",
    "ch_2_kr\n",
    "\n",
    "#Test chi kwadrat sprawdza czy zależność jest istotna\n",
    "#Współczynniki do testu chi kwadrat służą do sprawdzenia siły zależności\n",
    "\n",
    "#Wsp Yule'a dotyczy tylko tabel 2/2\n"
   ]
  },
  {
   "cell_type": "markdown",
   "metadata": {},
   "source": [
    "# Współczynniki do testu chi_kwadrat\n",
    "\n",
    "Test chi kwadrat sprawdza czy zależność jest istotna.\n",
    "Współczynniki do testu chi kwadrat służą do sprawdzenia siły zależności.\n"
   ]
  },
  {
   "cell_type": "code",
   "execution_count": 79,
   "metadata": {},
   "outputs": [
    {
     "data": {
      "text/html": [
       "0.144314654753838"
      ],
      "text/latex": [
       "0.144314654753838"
      ],
      "text/markdown": [
       "0.144314654753838"
      ],
      "text/plain": [
       "[1] 0.1443147"
      ]
     },
     "metadata": {},
     "output_type": "display_data"
    },
    {
     "data": {
      "text/html": [
       "0.142834928019163"
      ],
      "text/latex": [
       "0.142834928019163"
      ],
      "text/markdown": [
       "0.142834928019163"
      ],
      "text/plain": [
       "[1] 0.1428349"
      ]
     },
     "metadata": {},
     "output_type": "display_data"
    }
   ],
   "source": [
    "# współczynnik Yule'a (dotyczy tabel 2x2) - pierwiastek z testu chi kwadrat/ liczbe obserwacji sum(obserwowane)\n",
    "Yulea <- sqrt(chi_2/sum(obserwowane)\n",
    "Yulea\n",
    "              \n",
    "# współczynnik V-Cramera (uogólnienie wspołczynnika Yule'a dla tabel większych niż 2x2)\n",
    "# pierwiastek z testu chi kwadrat / liczba obserwacji / minimum(l_wierszy-1,l_kolumn -1)\n",
    "# przyjmuje wartości wartości (0;1). Im większy współczynnik tym większa siła zależnoci \n",
    "# przyjmuje wart 1 gdy istnieje idealna zależność\n",
    "Cramer<- sqrt(chi_2/sum(obserwowane) /min(1,2))\n",
    "Cramer\n",
    "\n",
    "# współczynnik Pearsona C\n",
    "# pierwiastek z chi kwadrat/ chi kwadrat + n\n",
    "# raczej nie osiąga 1 nawet, gdy jest idealna zależność\n",
    "c_pearson <- sqrt(chi_2 / (chi_2 + sum(obserwowane)))\n",
    "c_pearson"
   ]
  },
  {
   "cell_type": "markdown",
   "metadata": {},
   "source": [
    "# Test znaków"
   ]
  },
  {
   "cell_type": "code",
   "execution_count": 95,
   "metadata": {},
   "outputs": [
    {
     "data": {
      "text/html": [
       "12"
      ],
      "text/latex": [
       "12"
      ],
      "text/markdown": [
       "12"
      ],
      "text/plain": [
       "[1] 12"
      ]
     },
     "metadata": {},
     "output_type": "display_data"
    },
    {
     "data": {
      "text/html": [
       "8"
      ],
      "text/latex": [
       "8"
      ],
      "text/markdown": [
       "8"
      ],
      "text/plain": [
       "[1] 8"
      ]
     },
     "metadata": {},
     "output_type": "display_data"
    },
    {
     "data": {
      "text/html": [
       "1.15470053837925"
      ],
      "text/latex": [
       "1.15470053837925"
      ],
      "text/markdown": [
       "1.15470053837925"
      ],
      "text/plain": [
       "[1] 1.154701"
      ]
     },
     "metadata": {},
     "output_type": "display_data"
    },
    {
     "data": {
      "text/html": [
       "1.95996398454005"
      ],
      "text/latex": [
       "1.95996398454005"
      ],
      "text/markdown": [
       "1.95996398454005"
      ],
      "text/plain": [
       "[1] 1.959964"
      ]
     },
     "metadata": {},
     "output_type": "display_data"
    }
   ],
   "source": [
    "# H_0 = p0 = 1/2(0.5)  oba tak samo lubiane\n",
    "# H_1 = po != 1/2  jeden jest bardziej lubiany niż drugi\n",
    "\n",
    "alpha<- 0.05\n",
    "o1 <- c(6,7,9,10,4,5,7,9,8,10,10,9,1,7,8)\n",
    "o2 <- c(4,8,10,9,5,4,8,10,9,10,10,10,1,4,9)\n",
    "\n",
    "#różnica (w tym przypadku test jest dwustronny więc nie ma \n",
    "# który odejmujemy ale jeśli jest jednostronny to trzeba na to uważać!)\n",
    "\n",
    "diff<- o2-o1\n",
    "\n",
    "#wyznaczamy różnice znaczące (tj != 0)\n",
    "n_zn <- length(diff[diff != 0])\n",
    "n_zn\n",
    "\n",
    "#Liczba znaków dodatnich (sukcesów)\n",
    "n_z_dod<-length(diff[diff > 0])\n",
    "n_z_dod\n",
    "\n",
    "#Statystyka testowa \n",
    "# Ponieważ np0 = n(1 − p0) = 12 (n_zn) · (1-1/2) = 12*1/2 = 6\n",
    "# 6>5 więc możemy użyć przybliżenia rozkładem normalnym\n",
    "Z <- (n_z_dod - n_zn*0.5)/ sqrt(n_zn*0.5 * (1-0.5))\n",
    "Z\n",
    "\n",
    "#Obszar krytyczny dla testu jednostronnego\n",
    "#z_kr <- qnorm(1-alpha)\n",
    "#z_kr\n",
    "\n",
    "#Obszar krytyczny dla testu obustronnego\n",
    "z_kr <- qnorm(1-alpha/2)\n",
    "z_kr"
   ]
  },
  {
   "cell_type": "markdown",
   "metadata": {},
   "source": [
    "# Test Wilcoxona"
   ]
  },
  {
   "cell_type": "code",
   "execution_count": 107,
   "metadata": {},
   "outputs": [
    {
     "data": {
      "text/html": [
       "<ol class=list-inline>\n",
       "\t<li>2</li>\n",
       "\t<li>1</li>\n",
       "\t<li>1</li>\n",
       "\t<li>1</li>\n",
       "\t<li>1</li>\n",
       "\t<li>1</li>\n",
       "\t<li>1</li>\n",
       "\t<li>1</li>\n",
       "\t<li>1</li>\n",
       "\t<li>1</li>\n",
       "\t<li>3</li>\n",
       "\t<li>1</li>\n",
       "</ol>\n"
      ],
      "text/latex": [
       "\\begin{enumerate*}\n",
       "\\item 2\n",
       "\\item 1\n",
       "\\item 1\n",
       "\\item 1\n",
       "\\item 1\n",
       "\\item 1\n",
       "\\item 1\n",
       "\\item 1\n",
       "\\item 1\n",
       "\\item 1\n",
       "\\item 3\n",
       "\\item 1\n",
       "\\end{enumerate*}\n"
      ],
      "text/markdown": [
       "1. 2\n",
       "2. 1\n",
       "3. 1\n",
       "4. 1\n",
       "5. 1\n",
       "6. 1\n",
       "7. 1\n",
       "8. 1\n",
       "9. 1\n",
       "10. 1\n",
       "11. 3\n",
       "12. 1\n",
       "\n",
       "\n"
      ],
      "text/plain": [
       " [1] 2 1 1 1 1 1 1 1 1 1 3 1"
      ]
     },
     "metadata": {},
     "output_type": "display_data"
    },
    {
     "data": {
      "text/html": [
       "<ol class=list-inline>\n",
       "\t<li>11</li>\n",
       "\t<li>5.5</li>\n",
       "\t<li>5.5</li>\n",
       "\t<li>5.5</li>\n",
       "\t<li>5.5</li>\n",
       "\t<li>5.5</li>\n",
       "\t<li>5.5</li>\n",
       "\t<li>5.5</li>\n",
       "\t<li>5.5</li>\n",
       "\t<li>5.5</li>\n",
       "\t<li>12</li>\n",
       "\t<li>5.5</li>\n",
       "</ol>\n"
      ],
      "text/latex": [
       "\\begin{enumerate*}\n",
       "\\item 11\n",
       "\\item 5.5\n",
       "\\item 5.5\n",
       "\\item 5.5\n",
       "\\item 5.5\n",
       "\\item 5.5\n",
       "\\item 5.5\n",
       "\\item 5.5\n",
       "\\item 5.5\n",
       "\\item 5.5\n",
       "\\item 12\n",
       "\\item 5.5\n",
       "\\end{enumerate*}\n"
      ],
      "text/markdown": [
       "1. 11\n",
       "2. 5.5\n",
       "3. 5.5\n",
       "4. 5.5\n",
       "5. 5.5\n",
       "6. 5.5\n",
       "7. 5.5\n",
       "8. 5.5\n",
       "9. 5.5\n",
       "10. 5.5\n",
       "11. 12\n",
       "12. 5.5\n",
       "\n",
       "\n"
      ],
      "text/plain": [
       " [1] 11.0  5.5  5.5  5.5  5.5  5.5  5.5  5.5  5.5  5.5 12.0  5.5"
      ]
     },
     "metadata": {},
     "output_type": "display_data"
    },
    {
     "data": {
      "text/html": [
       "44"
      ],
      "text/latex": [
       "44"
      ],
      "text/markdown": [
       "44"
      ],
      "text/plain": [
       "[1] 44"
      ]
     },
     "metadata": {},
     "output_type": "display_data"
    },
    {
     "data": {
      "text/html": [
       "34"
      ],
      "text/latex": [
       "34"
      ],
      "text/markdown": [
       "34"
      ],
      "text/plain": [
       "[1] 34"
      ]
     },
     "metadata": {},
     "output_type": "display_data"
    },
    {
     "data": {
      "text/html": [
       "34"
      ],
      "text/latex": [
       "34"
      ],
      "text/markdown": [
       "34"
      ],
      "text/plain": [
       "[1] 34"
      ]
     },
     "metadata": {},
     "output_type": "display_data"
    },
    {
     "data": {
      "text/html": [
       "14"
      ],
      "text/latex": [
       "14"
      ],
      "text/markdown": [
       "14"
      ],
      "text/plain": [
       "[1] 14"
      ]
     },
     "metadata": {},
     "output_type": "display_data"
    }
   ],
   "source": [
    "#H0 : median(Y − X) = 0\n",
    "#H1 : median(Y − X) 6= 0 (lub odpowiednia wersja jednostronna)\n",
    "\n",
    "alpha<- 0.05\n",
    "o1 <- c(6,7,9,10,4,5,7,9,8,10,10,9,1,7,8)\n",
    "o2 <- c(4,8,10,9,5,4,8,10,9,10,10,10,1,4,9)\n",
    "\n",
    "diff<- o2-o1\n",
    "diff_znaczace <- diff[diff != 0]\n",
    "\n",
    "#moduly roznic\n",
    "diff_moduly <- abs(diff_znaczace)\n",
    "diff_moduly\n",
    "\n",
    "#rangi modułów\n",
    "diff_rank<-rank(diff_moduly)\n",
    "diff_rank\n",
    "\n",
    "sum_plus<- sum(diff_rank[diff_znaczace>0])\n",
    "sum_plus\n",
    "sum_minus<- sum(diff_rank[diff_znaczace<0])\n",
    "sum_minus\n",
    "\n",
    "#Statystyka testowa\n",
    "T<-min(sum_plus,sum_minus)\n",
    "T\n",
    "\n",
    "#Zbiór krytyczny Ckr = [0, Tkr] (zawsze =< Tkr)\n",
    "#odczytujemy z tablic \n",
    "#http://users.stat.ufl.edu/~winner/tables/wilcox_signrank.pdf\n",
    "n<- length(diff_znaczace)\n",
    "\n",
    "#lub wart krytyczna dla testu jednostronnego\n",
    "#qsignrank(0.05,n)\n",
    "\n",
    "#lub wart krytyczna dla testu dwustronnego\n",
    "qsignrank(0.05/2,n)\n"
   ]
  },
  {
   "cell_type": "markdown",
   "metadata": {},
   "source": [
    "# Współczynnik Spearmana\n",
    "Gdy zależność jest monotoniczna (gdy X rośnie Y maleje itd) rangi X i rangi Y mają idealną zależność liniową (gdy X ma najwyższą range to Y ma najniższą)"
   ]
  },
  {
   "cell_type": "code",
   "execution_count": 1,
   "metadata": {},
   "outputs": [
    {
     "data": {
      "text/html": [
       "-1"
      ],
      "text/latex": [
       "-1"
      ],
      "text/markdown": [
       "-1"
      ],
      "text/plain": [
       "[1] -1"
      ]
     },
     "metadata": {},
     "output_type": "display_data"
    }
   ],
   "source": [
    "\n",
    "X<-c(-1,2,-6,-2,-1,4,11,-1,2,2,2,5)\n",
    "Y<-c(0.7,0.4,1,0.8,0.7,0.2,0,0.7,0.4,0.4,0.4,0.1)\n",
    "\n",
    "#Zwykły współczynnik korelacji\n",
    "R<-cor(X,Y)\n",
    "\n",
    "#Współczynnik korelacji Spearmana\n",
    "R_spearman<-cor(rank(X),rank(Y))\n",
    "R_spearman2<-cor(X,Y,method=\"spearman\")\n",
    "R_spearman\n",
    "\n",
    "#plot(X,Y)\n",
    "#plot(rank(X),rank(Y))\n",
    "\n",
    "#Do wypełnienia pola dla Rang X i Y\n",
    "rangi_X<- rank(X)\n",
    "rangi_Y<-rank(Y)\n"
   ]
  },
  {
   "cell_type": "code",
   "execution_count": 1,
   "metadata": {},
   "outputs": [
    {
     "data": {
      "text/html": [
       "-0.0183924958616884"
      ],
      "text/latex": [
       "-0.0183924958616884"
      ],
      "text/markdown": [
       "-0.0183924958616884"
      ],
      "text/plain": [
       "[1] -0.0183925"
      ]
     },
     "metadata": {},
     "output_type": "display_data"
    },
    {
     "data": {
      "text/html": [
       "-1"
      ],
      "text/latex": [
       "-1"
      ],
      "text/markdown": [
       "-1"
      ],
      "text/plain": [
       "[1] -1"
      ]
     },
     "metadata": {},
     "output_type": "display_data"
    }
   ],
   "source": [
    "a <- c(5,11,18,18,7,16,13,2,3,1,10,12,9,6,19,7)\n",
    "b <- c(8,3,18,3,5,1,11,10,10,12,19,16,14,4,12,16)\n",
    "\n",
    "Z <- mean(a - b) / var(a - b) * sqrt(length(a))\n",
    "Z\n",
    "\n",
    "x <- 1:50\n",
    "y <- -0.6 * x - 1.4\n",
    "cor(x, y)"
   ]
  },
  {
   "cell_type": "code",
   "execution_count": 16,
   "metadata": {},
   "outputs": [
    {
     "data": {
      "text/html": [
       "1.95996398454005"
      ],
      "text/latex": [
       "1.95996398454005"
      ],
      "text/markdown": [
       "1.95996398454005"
      ],
      "text/plain": [
       "[1] 1.959964"
      ]
     },
     "metadata": {},
     "output_type": "display_data"
    }
   ],
   "source": [
    "qnorm(1 - 0.025)"
   ]
  },
  {
   "cell_type": "code",
   "execution_count": null,
   "metadata": {},
   "outputs": [],
   "source": []
  }
 ],
 "metadata": {
  "kernelspec": {
   "display_name": "R",
   "language": "R",
   "name": "ir"
  },
  "language_info": {
   "codemirror_mode": "r",
   "file_extension": ".r",
   "mimetype": "text/x-r-source",
   "name": "R",
   "pygments_lexer": "r",
   "version": "3.6.1"
  }
 },
 "nbformat": 4,
 "nbformat_minor": 4
}
