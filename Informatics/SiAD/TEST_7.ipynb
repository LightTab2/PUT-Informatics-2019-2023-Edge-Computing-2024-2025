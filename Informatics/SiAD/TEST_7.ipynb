{
 "cells": [
  {
   "cell_type": "code",
   "execution_count": 37,
   "metadata": {},
   "outputs": [
    {
     "data": {
      "text/html": [
       "<span style=white-space:pre-wrap>'Kowariancja:  -0.007'</span>"
      ],
      "text/latex": [
       "'Kowariancja:  -0.007'"
      ],
      "text/markdown": [
       "<span style=white-space:pre-wrap>'Kowariancja:  -0.007'</span>"
      ],
      "text/plain": [
       "[1] \"Kowariancja:  -0.007\""
      ]
     },
     "metadata": {},
     "output_type": "display_data"
    },
    {
     "data": {
      "text/html": [
       "<span style=white-space:pre-wrap>'Korelacja:  -0.213'</span>"
      ],
      "text/latex": [
       "'Korelacja:  -0.213'"
      ],
      "text/markdown": [
       "<span style=white-space:pre-wrap>'Korelacja:  -0.213'</span>"
      ],
      "text/plain": [
       "[1] \"Korelacja:  -0.213\""
      ]
     },
     "metadata": {},
     "output_type": "display_data"
    },
    {
     "data": {
      "text/html": [
       "<span style=white-space:pre-wrap>'Współczynnik kierunkowy a:  -0.082'</span>"
      ],
      "text/latex": [
       "'Współczynnik kierunkowy a:  -0.082'"
      ],
      "text/markdown": [
       "<span style=white-space:pre-wrap>'Współczynnik kierunkowy a:  -0.082'</span>"
      ],
      "text/plain": [
       "[1] \"Współczynnik kierunkowy a:  -0.082\""
      ]
     },
     "metadata": {},
     "output_type": "display_data"
    },
    {
     "data": {
      "text/html": [
       "<span style=white-space:pre-wrap>'Wyraz wolny b:  0.264'</span>"
      ],
      "text/latex": [
       "'Wyraz wolny b:  0.264'"
      ],
      "text/markdown": [
       "<span style=white-space:pre-wrap>'Wyraz wolny b:  0.264'</span>"
      ],
      "text/plain": [
       "[1] \"Wyraz wolny b:  0.264\""
      ]
     },
     "metadata": {},
     "output_type": "display_data"
    },
    {
     "data": {
      "text/html": [
       "'Wartość krytyczna 1.96'"
      ],
      "text/latex": [
       "'Wartość krytyczna 1.96'"
      ],
      "text/markdown": [
       "'Wartość krytyczna 1.96'"
      ],
      "text/plain": [
       "[1] \"Wartość krytyczna 1.96\""
      ]
     },
     "metadata": {},
     "output_type": "display_data"
    },
    {
     "data": {
      "text/html": [
       "'Statystyka testowa -0.899'"
      ],
      "text/latex": [
       "'Statystyka testowa -0.899'"
      ],
      "text/markdown": [
       "'Statystyka testowa -0.899'"
      ],
      "text/plain": [
       "[1] \"Statystyka testowa -0.899\""
      ]
     },
     "metadata": {},
     "output_type": "display_data"
    },
    {
     "name": "stdout",
     "output_type": "stream",
     "text": [
      "[1] \"Wynik statystyczny NIE jest istotny\"\n"
     ]
    }
   ],
   "source": [
    "X <- c(0.028,0.716,0.576,0.238,0.892,0.569,0.63,0.997,0.248,0.308,0.371,0.086,0.187,0.623,0.396,0.095,0.267,0.806,0.137)\n",
    "Y <- c(0.315,0.161,0.047,0.218,0.074,0.191,0.152,0.317,0.34,0.179,0.335,0.367,0.059,0.136,0.437,0.193,0.26,0.337,0.229)\n",
    "\n",
    "alpha=0.05\n",
    "n=length(X)\n",
    "\n",
    "x_sr=mean(X)\n",
    "y_sr=mean(Y)\n",
    "cov1=cov(X,Y)\n",
    "cor1=cor(X,Y)\n",
    "a=cov1/(var(X))\n",
    "b=y_sr-a*x_sr\n",
    "\n",
    "kryt=qnorm(1-alpha/2)\n",
    "t=(cor1/sqrt(1-cor1^2))*sqrt(n-2)\n",
    "\n",
    "paste(\"Kowariancja: \",round(cov1,3))\n",
    "paste(\"Korelacja: \",round(cor1,3))\n",
    "paste(\"Współczynnik kierunkowy a: \",round(a,3))\n",
    "paste(\"Wyraz wolny b: \",round(b,3))\n",
    "paste(\"Wartość krytyczna\",round(kryt,3))\n",
    "paste(\"Statystyka testowa\",round(t,3))\n",
    "if(abs(t)>kryt) {\n",
    "    print(\"Wynik statystyczny jest istotny, odrzuć H0\")\n",
    "} else {\n",
    "    print(\"Wynik statystyczny NIE jest istotny\")\n",
    "}"
   ]
  },
  {
   "cell_type": "code",
   "execution_count": null,
   "metadata": {},
   "outputs": [],
   "source": []
  }
 ],
 "metadata": {
  "kernelspec": {
   "display_name": "R",
   "language": "R",
   "name": "ir"
  },
  "language_info": {
   "codemirror_mode": "r",
   "file_extension": ".r",
   "mimetype": "text/x-r-source",
   "name": "R",
   "pygments_lexer": "r",
   "version": "3.6.1"
  }
 },
 "nbformat": 4,
 "nbformat_minor": 4
}
