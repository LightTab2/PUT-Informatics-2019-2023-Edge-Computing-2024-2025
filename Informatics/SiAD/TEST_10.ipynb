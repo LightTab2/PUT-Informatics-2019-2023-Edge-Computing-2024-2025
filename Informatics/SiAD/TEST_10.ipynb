{
 "cells": [
  {
   "cell_type": "markdown",
   "metadata": {},
   "source": [
    "Test znaków (chyba?)"
   ]
  },
  {
   "cell_type": "code",
   "execution_count": 49,
   "metadata": {},
   "outputs": [
    {
     "name": "stdout",
     "output_type": "stream",
     "text": [
      "Liczba par znaczacych:\t 17 \n",
      "Wartosc krytyczna:\t 1.64 \n",
      "Region krytyczny:\t (-inf,-1.64)U(1.645,inf)\n",
      "Wartosc statystyki:\t 1.698 \n",
      "Odrzucamy H0:\t\t TRUE \n",
      "\n",
      "P-value z binoma:\t 0.1435 \n",
      "Odrzucamy H0 z binoma:\t FALSE \n"
     ]
    }
   ],
   "source": []
  },
  {
   "cell_type": "code",
   "execution_count": 45,
   "metadata": {},
   "outputs": [
    {
     "name": "stdout",
     "output_type": "stream",
     "text": [
      "Liczba par znaczacych:  17 \n",
      "Wartosc krytyczna:      1.645 \n",
      "Wartosc statystyki:     1.698 \n"
     ]
    }
   ],
   "source": [
    "X <- c(1,11,12,10,5,14,6,3,15,8,7,15,14,9,6,1,17)\n",
    "Y <- c(2,4,4,2,10,1,9,9,3,4,5,10,10,2,4,3,10)\n",
    "alpha <- 0.1\n",
    "\n",
    "XmY <- sum(X > Y)\n",
    "XlY <- sum(X < Y)\n",
    "XeY <- sum(X == Y)\n",
    "\n",
    "p0 <- 0.5\n",
    "n <- sum(X != Y)\n",
    "\n",
    "\n",
    "z_cr <- qnorm(1-alpha/2) \n",
    "z <- (XmY-n*p0) / sqrt(n*p0*(1-p0))\n",
    "\n",
    "cat('Liczba par znaczących: ', n, '\\n')\n",
    "cat('Wartość krytyczna:     ', round(z_cr, 3), '\\n') \n",
    "cat('Wartość statystyki:    ', round(z, 3), '\\n')"
   ]
  },
  {
   "cell_type": "markdown",
   "metadata": {},
   "source": [
    "Korelacja"
   ]
  },
  {
   "cell_type": "code",
   "execution_count": 29,
   "metadata": {},
   "outputs": [
    {
     "data": {
      "text/html": [
       "1"
      ],
      "text/latex": [
       "1"
      ],
      "text/markdown": [
       "1"
      ],
      "text/plain": [
       "[1] 1"
      ]
     },
     "metadata": {},
     "output_type": "display_data"
    },
    {
     "data": {
      "text/html": [
       "1"
      ],
      "text/latex": [
       "1"
      ],
      "text/markdown": [
       "1"
      ],
      "text/plain": [
       "[1] 1"
      ]
     },
     "metadata": {},
     "output_type": "display_data"
    }
   ],
   "source": [
    "X<-c(1,2,3,4,5,6,7,8)\n",
    "Y<-c(-9,-6,-3,0,3,6,9,12)\n",
    "cor(X,Y,method='pearson')\n",
    "cor(X,Y,method='spearman')"
   ]
  },
  {
   "cell_type": "code",
   "execution_count": 48,
   "metadata": {},
   "outputs": [
    {
     "data": {
      "text/html": [
       "1.698"
      ],
      "text/latex": [
       "1.698"
      ],
      "text/markdown": [
       "1.698"
      ],
      "text/plain": [
       "[1] 1.698"
      ]
     },
     "metadata": {},
     "output_type": "display_data"
    },
    {
     "data": {
      "text/html": [
       "2"
      ],
      "text/latex": [
       "2"
      ],
      "text/markdown": [
       "2"
      ],
      "text/plain": [
       "[1] 2"
      ]
     },
     "metadata": {},
     "output_type": "display_data"
    }
   ],
   "source": [
    "X <- c(1,11,12,10,5,14,6,3,15,8,7,15,14,9,6,1,17)\n",
    "Y <- c(2,4,4,2,10,1,9,9,3,4,5,10,10,2,4,3,10)\n",
    "\n",
    "n <- length(X)\n",
    "z <- (2*sum(X > Y)-n) / sqrt(n)\n",
    "round(z, 3)\n",
    "n <- 16\n",
    "z <- (2*sum(X > Y)-n) / sqrt(n)\n",
    "round(z, 3)"
   ]
  },
  {
   "cell_type": "code",
   "execution_count": null,
   "metadata": {},
   "outputs": [],
   "source": []
  }
 ],
 "metadata": {
  "kernelspec": {
   "display_name": "R",
   "language": "R",
   "name": "ir"
  },
  "language_info": {
   "codemirror_mode": "r",
   "file_extension": ".r",
   "mimetype": "text/x-r-source",
   "name": "R",
   "pygments_lexer": "r",
   "version": "3.6.1"
  }
 },
 "nbformat": 4,
 "nbformat_minor": 5
}
