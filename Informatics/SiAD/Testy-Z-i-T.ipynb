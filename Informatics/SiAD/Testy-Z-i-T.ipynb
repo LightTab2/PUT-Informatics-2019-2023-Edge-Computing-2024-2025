{
 "cells": [
  {
   "cell_type": "markdown",
   "metadata": {},
   "source": [
    "TEST Z"
   ]
  },
  {
   "cell_type": "code",
   "execution_count": 1,
   "metadata": {},
   "outputs": [
    {
     "data": {
      "text/html": [
       "1.64485362695147"
      ],
      "text/latex": [
       "1.64485362695147"
      ],
      "text/markdown": [
       "1.64485362695147"
      ],
      "text/plain": [
       "[1] 1.644854"
      ]
     },
     "metadata": {},
     "output_type": "display_data"
    },
    {
     "data": {
      "text/html": [
       "-1.64485362695147"
      ],
      "text/latex": [
       "-1.64485362695147"
      ],
      "text/markdown": [
       "-1.64485362695147"
      ],
      "text/plain": [
       "[1] -1.644854"
      ]
     },
     "metadata": {},
     "output_type": "display_data"
    },
    {
     "name": "stdout",
     "output_type": "stream",
     "text": [
      "[1] \"Zkryt prawostronne:  1.645\"\n",
      "[1] \"Zkryt lewostronne:  -1.645\"\n",
      "[1] \"Zkryt dwustronne:  1.96\"\n",
      "[1] \"Z:  1.62\"\n",
      "[1] \"Prawdopodbienstwo uzyskania Z:  0.95\"\n",
      "[1] \"Z<Zkryt prawostronne:  TRUE  H0 prawdziwe\"\n",
      "(Test prawostronny) H0:  TRUE[1] \"Z pomiedzy Zkryt dwustronne:  TRUE  H0 prawdziwe\"\n"
     ]
    }
   ],
   "source": [
    "n <- 81         # liczność próby, powinno być większe od 30\n",
    "u0 <- 0.1       # hipoteza 0\n",
    "u <- 32/81      # rzeczywista wartosc parametru\n",
    "sd <- 1.64      # znane odhcylenie standardowe POPULACJI\n",
    "alfa <- 0.05    # poziom istotności\n",
    "\n",
    "Z<-(u-u0)*sqrt(n)/sd\n",
    "Zkryt<-qnorm(1-alfa)\n",
    "Zkryt\n",
    "Zkryt_dwustronne<-qnorm(1-alfa/2)\n",
    "Zkl<-qnorm(alfa)\n",
    "Zkl\n",
    "\n",
    "print(paste(\"Zkryt prawostronne: \", round(Zkryt,3)))\n",
    "print(paste(\"Zkryt lewostronne: \", round(Zkl,3)))\n",
    "print(paste(\"Zkryt dwustronne: \", round(Zkryt_dwustronne,2)))\n",
    "\n",
    "print(paste(\"Z: \", round(Z,3)))\n",
    "\n",
    "cat(\"Prawdopodbienstwo uzyskania Z: \", round(pnorm(Z),3))\n",
    "\n",
    "cat(\"Test lewostronny (u0 < u), H0: \", Z>=Zkl)\n",
    "cat(\"Test prawostronny (u0 > u), H0: \", Z>=Zkl)\n",
    "\n",
    "if(Z<Zkryt){\n",
    "    print(paste(\"Z<Zkryt prawostronne: \",Z<=Zkryt, \" H0 prawdziwe\"))\n",
    "}else{\n",
    "    print(paste(\"Z<Zkryt prawostronne: \",Z<=Zkryt, \" H0 fałszywe, odrzucamy\"))\n",
    "}\n",
    "\n",
    "if(Z>-Zkryt_dwustronne &&Z<Zkryt_dwustronne){\n",
    "    print(paste(\"Z pomiedzy Zkryt dwustronne: \",Z>-Zkryt_dwustronne &&Z<Zkryt_dwustronne, \" H0 prawdziwe\"))\n",
    "}else{\n",
    "    print(paste(\"Z pomiedzy Zkryt dwustronne: \",Z>-Zkryt_dwustronne &&Z<Zkryt_dwustronne, \" H0 fałszywe, odrzucamy\"))\n",
    "}\n",
    "\n"
   ]
  },
  {
   "cell_type": "markdown",
   "metadata": {},
   "source": [
    "TEST T"
   ]
  },
  {
   "cell_type": "code",
   "execution_count": 3,
   "metadata": {},
   "outputs": [
    {
     "name": "stdout",
     "output_type": "stream",
     "text": [
      "[1] \"T kryt prawostronne:  2.37\"\n",
      "[1] \"T kryt lewostronne:  -2.37\"\n",
      "[1] \"T kryt dwustronne:  2.64\"\n",
      "[1] \"T:  0.27\"\n",
      "[1] \"Prawdopodbienstwo uzyskania T:  0.6\"\n",
      "[1] \"T<=Tkryt prawostronne:  TRUE  H0 prawdziwe\"\n",
      "[1] \"T>=Tkryt lewostronne:  FALSE  H0 prawdziwe\"\n",
      "[1] \"T pomiedzy Tkryt dwustronne:  TRUE  H0 prawdziwe\"\n"
     ]
    }
   ],
   "source": [
    "n<-81            # liczność próby, powinno być większe od 30\n",
    "u0 <- 0.1        # hipoteza 0\n",
    "u<- 32/81          # rzeczywista wartosc parametru\n",
    "alfa<- 0.01      # poziom istotności\n",
    "df<-81-1          # liczba stopni swobody\n",
    "S<- 10           #odchylenie standardowe z POPULACJI\n",
    "T<- (u-u0)/S * sqrt(n)\n",
    "\n",
    "Tkp <- qt(1-alfa, df)\n",
    "Tkl <- qt(alfa, df)\n",
    "Tkd <- qt(1-alfa/2, df)\n",
    "\n",
    "print(paste(\"T kryt prawostronne: \", round(Tkp,2)))\n",
    "print(paste(\"T kryt lewostronne: \", round(Tkl,2)))\n",
    "print(paste(\"T kryt dwustronne: \", round(Tkd,2)))\n",
    "\n",
    "print(paste(\"T: \", round(T,2)))\n",
    "print(paste(\"Prawdopodbienstwo uzyskania T: \", round(pt(T,df),2)))\n",
    "\n",
    "if(T<=Tkp){\n",
    "    print(paste(\"T<=Tkryt prawostronne: \",T<=Tkp, \" H0 prawdziwe\"))\n",
    "}else{\n",
    "    print(paste(\"T<=Tkryt prawostronne: \",T<=Tkp, \" H0 fałszywe, odrzucamy\"))\n",
    "}\n",
    "\n",
    "if(T>=Tkl){\n",
    "    print(paste(\"T>=Tkryt lewostronne: \",T>=Tkp, \" H0 prawdziwe\"))\n",
    "}else{\n",
    "    print(paste(\"T>=Tkryt lewostronne: \",T>=Tkp, \" H0 fałszywe, odrzucamy\"))\n",
    "}\n",
    "\n",
    "if(-Tkd<=T && T<=Tkd){\n",
    "    print(paste(\"T pomiedzy Tkryt dwustronne: \",-Tkd<=T && T<=Tkd, \" H0 prawdziwe\"))\n",
    "}else{\n",
    "    print(paste(\"T pomiedzy Tkryt dwustronne: \",-Tkd<=T && T<=Tkd, \" H0 fałszywe, odrzucamy\"))\n",
    "}"
   ]
  },
  {
   "cell_type": "code",
   "execution_count": null,
   "metadata": {},
   "outputs": [],
   "source": []
  }
 ],
 "metadata": {
  "kernelspec": {
   "display_name": "R",
   "language": "R",
   "name": "ir"
  },
  "language_info": {
   "codemirror_mode": "r",
   "file_extension": ".r",
   "mimetype": "text/x-r-source",
   "name": "R",
   "pygments_lexer": "r",
   "version": "3.6.1"
  }
 },
 "nbformat": 4,
 "nbformat_minor": 5
}
