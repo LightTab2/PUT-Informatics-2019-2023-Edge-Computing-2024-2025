{
 "cells": [
  {
   "cell_type": "code",
   "execution_count": 1,
   "id": "57ab1917",
   "metadata": {
    "colab": {
     "base_uri": "https://localhost:8080/"
    },
    "id": "11527b98",
    "outputId": "48df8826-75e2-43a9-9d20-3e595b1a0ed3"
   },
   "outputs": [
    {
     "name": "stderr",
     "output_type": "stream",
     "text": [
      "2024-05-15 15:00:22.413871: E external/local_xla/xla/stream_executor/cuda/cuda_dnn.cc:9373] Unable to register cuDNN factory: Attempting to register factory for plugin cuDNN when one has already been registered\n",
      "2024-05-15 15:00:22.417500: E external/local_xla/xla/stream_executor/cuda/cuda_fft.cc:607] Unable to register cuFFT factory: Attempting to register factory for plugin cuFFT when one has already been registered\n",
      "2024-05-15 15:00:22.683490: E external/local_xla/xla/stream_executor/cuda/cuda_blas.cc:1534] Unable to register cuBLAS factory: Attempting to register factory for plugin cuBLAS when one has already been registered\n",
      "2024-05-15 15:00:23.831805: I tensorflow/core/platform/cpu_feature_guard.cc:183] This TensorFlow binary is optimized to use available CPU instructions in performance-critical operations.\n",
      "To enable the following instructions: SSE3 SSE4.1 SSE4.2 AVX, in other operations, rebuild TensorFlow with the appropriate compiler flags.\n",
      "/usr/local/lib/python3.10/dist-packages/tqdm/auto.py:21: TqdmWarning: IProgress not found. Please update jupyter and ipywidgets. See https://ipywidgets.readthedocs.io/en/stable/user_install.html\n",
      "  from .autonotebook import tqdm as notebook_tqdm\n",
      "2024-05-15 15:00:36.601524: I external/local_xla/xla/stream_executor/cuda/cuda_executor.cc:887] could not open file to read NUMA node: /sys/bus/pci/devices/0000:01:00.0/numa_node\n",
      "Your kernel may have been built without NUMA support.\n",
      "2024-05-15 15:00:36.611725: I external/local_xla/xla/stream_executor/cuda/cuda_executor.cc:887] could not open file to read NUMA node: /sys/bus/pci/devices/0000:01:00.0/numa_node\n",
      "Your kernel may have been built without NUMA support.\n",
      "2024-05-15 15:00:36.611811: I external/local_xla/xla/stream_executor/cuda/cuda_executor.cc:887] could not open file to read NUMA node: /sys/bus/pci/devices/0000:01:00.0/numa_node\n",
      "Your kernel may have been built without NUMA support.\n"
     ]
    }
   ],
   "source": [
    "import tensorflow as tf\n",
    "import tensorflow_datasets as tfds\n",
    "from sklearn.metrics import confusion_matrix\n",
    "import numpy as np\n",
    "\n",
    "gpus = tf.config.experimental.list_physical_devices('GPU')\n",
    "tf.config.experimental.set_memory_growth(gpus[0], True)\n",
    "if gpus:\n",
    "    try:\n",
    "        tf.config.experimental.set_virtual_device_configuration(\n",
    "            gpus[0],\n",
    "            [tf.config.experimental.VirtualDeviceConfiguration(memory_limit=3830)])\n",
    "    except RuntimeError as e:\n",
    "        print(e)"
   ]
  },
  {
   "cell_type": "code",
   "execution_count": 2,
   "id": "6f00474a",
   "metadata": {
    "colab": {
     "base_uri": "https://localhost:8080/"
    },
    "id": "f4017f70",
    "outputId": "f9a1e0c6-bf10-44bd-fef0-2e40a1191670"
   },
   "outputs": [
    {
     "name": "stderr",
     "output_type": "stream",
     "text": [
      "2024-05-15 15:00:36.653687: I external/local_xla/xla/stream_executor/cuda/cuda_executor.cc:887] could not open file to read NUMA node: /sys/bus/pci/devices/0000:01:00.0/numa_node\n",
      "Your kernel may have been built without NUMA support.\n",
      "2024-05-15 15:00:36.653763: I external/local_xla/xla/stream_executor/cuda/cuda_executor.cc:887] could not open file to read NUMA node: /sys/bus/pci/devices/0000:01:00.0/numa_node\n",
      "Your kernel may have been built without NUMA support.\n",
      "2024-05-15 15:00:36.653789: I external/local_xla/xla/stream_executor/cuda/cuda_executor.cc:887] could not open file to read NUMA node: /sys/bus/pci/devices/0000:01:00.0/numa_node\n",
      "Your kernel may have been built without NUMA support.\n",
      "2024-05-15 15:00:37.194710: I external/local_xla/xla/stream_executor/cuda/cuda_executor.cc:887] could not open file to read NUMA node: /sys/bus/pci/devices/0000:01:00.0/numa_node\n",
      "Your kernel may have been built without NUMA support.\n",
      "2024-05-15 15:00:37.194736: I tensorflow/core/common_runtime/gpu/gpu_device.cc:2019] Could not identify NUMA node of platform GPU id 0, defaulting to 0.  Your kernel may not have been built with NUMA support.\n",
      "2024-05-15 15:00:37.194892: I external/local_xla/xla/stream_executor/cuda/cuda_executor.cc:887] could not open file to read NUMA node: /sys/bus/pci/devices/0000:01:00.0/numa_node\n",
      "Your kernel may have been built without NUMA support.\n",
      "2024-05-15 15:00:37.194956: I external/local_xla/xla/stream_executor/cuda/cuda_executor.cc:887] could not open file to read NUMA node: /sys/bus/pci/devices/0000:01:00.0/numa_node\n",
      "Your kernel may have been built without NUMA support.\n",
      "2024-05-15 15:00:37.194980: I tensorflow/core/common_runtime/gpu/gpu_device.cc:1926] Created device /job:localhost/replica:0/task:0/device:GPU:0 with 3830 MB memory:  -> device: 0, name: NVIDIA GeForce RTX 3050 Laptop GPU, pci bus id: 0000:01:00.0, compute capability: 8.6\n"
     ]
    }
   ],
   "source": [
    "# Load train, validation and test datasets\n",
    "train, train_info = tfds.load(name='beans', split='train', shuffle_files=True, with_info=True, as_supervised=True)\n",
    "valid, valid_info = tfds.load(name='beans', split='validation', shuffle_files=False, with_info=True, as_supervised=True)\n",
    "test, test_info = tfds.load(name='beans', split='test', shuffle_files=False, with_info=True, as_supervised=True)"
   ]
  },
  {
   "cell_type": "code",
   "execution_count": 3,
   "id": "b6dc9408",
   "metadata": {
    "id": "VDkyrRGHipfG"
   },
   "outputs": [],
   "source": [
    "class printCallback(tf.keras.callbacks.Callback):\n",
    "    def __init__(self):\n",
    "        pass\n",
    "\n",
    "    def on_epoch_end(self, epoch, logs=None):\n",
    "                if (int(epoch) % 10) == 0:\n",
    "                    print(\n",
    "                        f\"Epoch: {epoch:>3}\"\n",
    "                        + f\" | Loss: {logs['loss']:.4e}\"\n",
    "                        + f\" | Accuracy: {logs['accuracy']:.4e}\\n\"\n",
    "                        + f\" | Validation loss: {logs['val_loss']:.4e}\"\n",
    "                        + f\" | Validation accuracy: {logs['val_accuracy']:.4e}\")"
   ]
  },
  {
   "cell_type": "code",
   "execution_count": 4,
   "id": "40509502",
   "metadata": {
    "id": "1c23fda9"
   },
   "outputs": [],
   "source": [
    "image_size = (180, 180)\n",
    "\n",
    "resize_and_rescale = tf.keras.Sequential([\n",
    "    tf.keras.layers.Resizing(image_size[0], image_size[1], interpolation='bicubic'),\n",
    "    tf.keras.layers.Normalization()\n",
    "])\n",
    "\n",
    "data_augmentation = tf.keras.Sequential([\n",
    "    tf.keras.layers.RandomFlip(\"horizontal_and_vertical\"),\n",
    "    tf.keras.layers.RandomRotation([-1, 1]),\n",
    "    tf.keras.layers.RandomContrast(0.33),\n",
    "    tf.keras.layers.RandomBrightness(0.2),\n",
    "])"
   ]
  },
  {
   "cell_type": "code",
   "execution_count": 6,
   "id": "77e591cc",
   "metadata": {
    "id": "d9f78926"
   },
   "outputs": [],
   "source": [
    "batch_size = 64\n",
    "\n",
    "def prepare(ds, shuffle=False, augment=False):\n",
    "  # Resize and rescale all datasets.\n",
    "    ds = ds.map(lambda x, y: (resize_and_rescale(x), y))\n",
    "\n",
    "    if shuffle:\n",
    "        ds = ds.shuffle(1000)\n",
    "    ds = ds.batch(batch_size)\n",
    "\n",
    "    if augment:\n",
    "        ds = ds.map(lambda x, y: (data_augmentation(x), y))\n",
    "\n",
    "    return ds.cache().repeat().prefetch(buffer_size=tf.data.AUTOTUNE)"
   ]
  },
  {
   "cell_type": "code",
   "execution_count": 7,
   "id": "244fa217",
   "metadata": {
    "id": "88339c38"
   },
   "outputs": [],
   "source": [
    "train_a = prepare(train, shuffle=False, augment=False)\n",
    "valid_a = prepare(valid)\n",
    "test_a = prepare(test)"
   ]
  },
  {
   "cell_type": "code",
   "execution_count": 7,
   "id": "a157452b",
   "metadata": {
    "id": "08612bb6"
   },
   "outputs": [],
   "source": [
    "resnet = tf.keras.applications.ResNet50(weights='imagenet', include_top=False, input_shape=(image_size[0], image_size[1], 3))\n",
    "resnet.trainable = False\n",
    "\n",
    "model = tf.keras.Sequential([\n",
    "    resnet,\n",
    "    tf.keras.layers.GlobalAveragePooling2D(),\n",
    "    tf.keras.layers.Dense(300, activation='relu'),\n",
    "    tf.keras.layers.Dropout(0.7),\n",
    "    tf.keras.layers.Dense(3, activation='softmax')\n",
    "])\n",
    "\n",
    "model.compile(optimizer=tf.keras.optimizers.Adam(learning_rate=0.001),\n",
    "              loss='sparse_categorical_crossentropy',\n",
    "              metrics=['accuracy'])"
   ]
  },
  {
   "cell_type": "code",
   "execution_count": 8,
   "id": "6694f644",
   "metadata": {
    "colab": {
     "base_uri": "https://localhost:8080/"
    },
    "id": "IcQeeD761jSj",
    "outputId": "c704602c-e03f-42fe-ff38-c47c7ad54828"
   },
   "outputs": [
    {
     "name": "stdout",
     "output_type": "stream",
     "text": [
      "Epoch 1/40\n"
     ]
    },
    {
     "name": "stderr",
     "output_type": "stream",
     "text": [
      "2024-05-08 11:04:43.989034: I external/local_xla/xla/stream_executor/cuda/cuda_dnn.cc:467] Loaded cuDNN version 90100\n",
      "2024-05-08 11:04:49.357441: I external/local_xla/xla/service/service.cc:168] XLA service 0x557f57708310 initialized for platform CUDA (this does not guarantee that XLA will be used). Devices:\n",
      "2024-05-08 11:04:49.357486: I external/local_xla/xla/service/service.cc:176]   StreamExecutor device (0): NVIDIA GeForce RTX 3050 Laptop GPU, Compute Capability 8.6\n",
      "2024-05-08 11:04:49.362427: I tensorflow/compiler/mlir/tensorflow/utils/dump_mlir_util.cc:269] disabling MLIR crash reproducer, set env var `MLIR_CRASH_REPRODUCER_DIRECTORY` to enable.\n",
      "WARNING: All log messages before absl::InitializeLog() is called are written to STDERR\n",
      "I0000 00:00:1715166289.428385    8572 device_compiler.h:186] Compiled cluster using XLA!  This line is logged at most once for the lifetime of the process.\n"
     ]
    },
    {
     "name": "stdout",
     "output_type": "stream",
     "text": [
      "16/16 [==============================] - 19s 704ms/step - loss: 1.2909 - accuracy: 0.5938 - val_loss: 0.6844 - val_accuracy: 0.7734 - lr: 0.0010\n",
      "Epoch 2/40\n",
      "16/16 [==============================] - 3s 143ms/step - loss: 0.6667 - accuracy: 0.7330 - val_loss: 0.4809 - val_accuracy: 0.8281 - lr: 0.0010\n",
      "Epoch 3/40\n",
      "16/16 [==============================] - 2s 151ms/step - loss: 0.5002 - accuracy: 0.8021 - val_loss: 0.4429 - val_accuracy: 0.8359 - lr: 0.0010\n",
      "Epoch 4/40\n",
      "16/16 [==============================] - 2s 136ms/step - loss: 0.4351 - accuracy: 0.8351 - val_loss: 0.3839 - val_accuracy: 0.8594 - lr: 0.0010\n",
      "Epoch 5/40\n",
      "16/16 [==============================] - 2s 137ms/step - loss: 0.3938 - accuracy: 0.8392 - val_loss: 0.3743 - val_accuracy: 0.8359 - lr: 0.0010\n",
      "Epoch 6/40\n",
      "16/16 [==============================] - 2s 137ms/step - loss: 0.3388 - accuracy: 0.8680 - val_loss: 0.3243 - val_accuracy: 0.8750 - lr: 0.0010\n",
      "Epoch 7/40\n",
      "16/16 [==============================] - 2s 136ms/step - loss: 0.3174 - accuracy: 0.8825 - val_loss: 0.3227 - val_accuracy: 0.8750 - lr: 0.0010\n",
      "Epoch 8/40\n",
      "16/16 [==============================] - 2s 136ms/step - loss: 0.2853 - accuracy: 0.8763 - val_loss: 0.3203 - val_accuracy: 0.8281 - lr: 0.0010\n",
      "Epoch 9/40\n",
      "16/16 [==============================] - 2s 136ms/step - loss: 0.2561 - accuracy: 0.9113 - val_loss: 0.3030 - val_accuracy: 0.8906 - lr: 0.0010\n",
      "Epoch 10/40\n",
      "16/16 [==============================] - 2s 137ms/step - loss: 0.2563 - accuracy: 0.9134 - val_loss: 0.3007 - val_accuracy: 0.8906 - lr: 0.0010\n",
      "Epoch 11/40\n",
      "16/16 [==============================] - 2s 137ms/step - loss: 0.2308 - accuracy: 0.9124 - val_loss: 0.2723 - val_accuracy: 0.9141 - lr: 0.0010\n",
      "Epoch 12/40\n",
      "16/16 [==============================] - 2s 137ms/step - loss: 0.2168 - accuracy: 0.9247 - val_loss: 0.2572 - val_accuracy: 0.9141 - lr: 0.0010\n",
      "Epoch 13/40\n",
      "16/16 [==============================] - 2s 136ms/step - loss: 0.1696 - accuracy: 0.9351 - val_loss: 0.2346 - val_accuracy: 0.9141 - lr: 0.0010\n",
      "Epoch 14/40\n",
      "16/16 [==============================] - 2s 137ms/step - loss: 0.1904 - accuracy: 0.9268 - val_loss: 0.2343 - val_accuracy: 0.9062 - lr: 0.0010\n",
      "Epoch 15/40\n",
      "16/16 [==============================] - 2s 136ms/step - loss: 0.1599 - accuracy: 0.9443 - val_loss: 0.2479 - val_accuracy: 0.8984 - lr: 0.0010\n",
      "Epoch 16/40\n",
      "16/16 [==============================] - 2s 136ms/step - loss: 0.1605 - accuracy: 0.9464 - val_loss: 0.2467 - val_accuracy: 0.8984 - lr: 0.0010\n",
      "Epoch 17/40\n",
      "15/16 [===========================>..] - ETA: 0s - loss: 0.1660 - accuracy: 0.9458\n",
      "Epoch 17: ReduceLROnPlateau reducing learning rate to 0.000740000035148114.\n",
      "16/16 [==============================] - 2s 137ms/step - loss: 0.1649 - accuracy: 0.9464 - val_loss: 0.2361 - val_accuracy: 0.9141 - lr: 0.0010\n",
      "Epoch 18/40\n",
      "16/16 [==============================] - 2s 144ms/step - loss: 0.1428 - accuracy: 0.9531 - val_loss: 0.2233 - val_accuracy: 0.9375 - lr: 7.4000e-04\n",
      "Epoch 19/40\n",
      "16/16 [==============================] - 2s 144ms/step - loss: 0.1261 - accuracy: 0.9608 - val_loss: 0.2379 - val_accuracy: 0.9297 - lr: 7.4000e-04\n",
      "Epoch 20/40\n",
      "16/16 [==============================] - 2s 137ms/step - loss: 0.1130 - accuracy: 0.9546 - val_loss: 0.2399 - val_accuracy: 0.9141 - lr: 7.4000e-04\n",
      "Epoch 21/40\n",
      "16/16 [==============================] - ETA: 0s - loss: 0.1131 - accuracy: 0.9536\n",
      "Epoch 21: ReduceLROnPlateau reducing learning rate to 0.0005476000346243381.\n",
      "16/16 [==============================] - 2s 137ms/step - loss: 0.1131 - accuracy: 0.9536 - val_loss: 0.2380 - val_accuracy: 0.9219 - lr: 7.4000e-04\n",
      "Epoch 22/40\n",
      "16/16 [==============================] - 2s 137ms/step - loss: 0.1081 - accuracy: 0.9577 - val_loss: 0.2245 - val_accuracy: 0.9141 - lr: 5.4760e-04\n",
      "Epoch 23/40\n",
      "16/16 [==============================] - 2s 137ms/step - loss: 0.0827 - accuracy: 0.9784 - val_loss: 0.2300 - val_accuracy: 0.9141 - lr: 5.4760e-04\n",
      "Epoch 24/40\n",
      "16/16 [==============================] - ETA: 0s - loss: 0.0751 - accuracy: 0.9763\n",
      "Epoch 24: ReduceLROnPlateau reducing learning rate to 0.000405224027344957.\n",
      "16/16 [==============================] - 2s 137ms/step - loss: 0.0751 - accuracy: 0.9763 - val_loss: 0.2279 - val_accuracy: 0.9219 - lr: 5.4760e-04\n",
      "Epoch 25/40\n",
      "16/16 [==============================] - 2s 137ms/step - loss: 0.0787 - accuracy: 0.9742 - val_loss: 0.2458 - val_accuracy: 0.9219 - lr: 4.0522e-04\n",
      "Epoch 26/40\n",
      "16/16 [==============================] - 2s 137ms/step - loss: 0.0654 - accuracy: 0.9804 - val_loss: 0.2214 - val_accuracy: 0.9297 - lr: 4.0522e-04\n",
      "Epoch 27/40\n",
      "16/16 [==============================] - 2s 137ms/step - loss: 0.0705 - accuracy: 0.9825 - val_loss: 0.2447 - val_accuracy: 0.9219 - lr: 4.0522e-04\n",
      "Epoch 28/40\n",
      "16/16 [==============================] - 2s 137ms/step - loss: 0.0568 - accuracy: 0.9845 - val_loss: 0.2343 - val_accuracy: 0.9375 - lr: 4.0522e-04\n",
      "Epoch 29/40\n",
      "16/16 [==============================] - ETA: 0s - loss: 0.0600 - accuracy: 0.9794\n",
      "Epoch 29: ReduceLROnPlateau reducing learning rate to 0.0002998657897114754.\n",
      "16/16 [==============================] - 2s 137ms/step - loss: 0.0600 - accuracy: 0.9794 - val_loss: 0.2398 - val_accuracy: 0.9297 - lr: 4.0522e-04\n",
      "Epoch 30/40\n",
      "16/16 [==============================] - 2s 137ms/step - loss: 0.0578 - accuracy: 0.9814 - val_loss: 0.2172 - val_accuracy: 0.9297 - lr: 2.9987e-04\n",
      "Epoch 31/40\n",
      "16/16 [==============================] - 2s 137ms/step - loss: 0.0495 - accuracy: 0.9887 - val_loss: 0.2266 - val_accuracy: 0.9375 - lr: 2.9987e-04\n",
      "Epoch 32/40\n",
      "16/16 [==============================] - 2s 137ms/step - loss: 0.0498 - accuracy: 0.9876 - val_loss: 0.2175 - val_accuracy: 0.9375 - lr: 2.9987e-04\n",
      "Epoch 33/40\n",
      "16/16 [==============================] - ETA: 0s - loss: 0.0471 - accuracy: 0.9866\n",
      "Epoch 33: ReduceLROnPlateau reducing learning rate to 0.00022190068266354502.\n",
      "16/16 [==============================] - 2s 137ms/step - loss: 0.0471 - accuracy: 0.9866 - val_loss: 0.2378 - val_accuracy: 0.9297 - lr: 2.9987e-04\n",
      "Epoch 34/40\n",
      "16/16 [==============================] - 2s 137ms/step - loss: 0.0518 - accuracy: 0.9835 - val_loss: 0.2146 - val_accuracy: 0.9375 - lr: 2.2190e-04\n",
      "Epoch 35/40\n",
      "16/16 [==============================] - 2s 144ms/step - loss: 0.0411 - accuracy: 0.9932 - val_loss: 0.2229 - val_accuracy: 0.9219 - lr: 2.2190e-04\n",
      "Epoch 36/40\n",
      "16/16 [==============================] - 2s 143ms/step - loss: 0.0473 - accuracy: 0.9918 - val_loss: 0.2386 - val_accuracy: 0.9141 - lr: 2.2190e-04\n",
      "Epoch 37/40\n",
      "16/16 [==============================] - 2s 137ms/step - loss: 0.0503 - accuracy: 0.9856 - val_loss: 0.2144 - val_accuracy: 0.9375 - lr: 2.2190e-04\n",
      "Epoch 38/40\n",
      "16/16 [==============================] - 2s 137ms/step - loss: 0.0472 - accuracy: 0.9845 - val_loss: 0.2309 - val_accuracy: 0.9297 - lr: 2.2190e-04\n",
      "Epoch 39/40\n",
      "16/16 [==============================] - 2s 137ms/step - loss: 0.0392 - accuracy: 0.9938 - val_loss: 0.2314 - val_accuracy: 0.9297 - lr: 2.2190e-04\n",
      "Epoch 40/40\n",
      "16/16 [==============================] - ETA: 0s - loss: 0.0436 - accuracy: 0.9907\n",
      "Epoch 40: ReduceLROnPlateau reducing learning rate to 0.00016420650732470676.\n",
      "16/16 [==============================] - 2s 137ms/step - loss: 0.0436 - accuracy: 0.9907 - val_loss: 0.2290 - val_accuracy: 0.9219 - lr: 2.2190e-04\n"
     ]
    },
    {
     "data": {
      "text/plain": [
       "<keras.src.callbacks.History at 0x7f8c709a3be0>"
      ]
     },
     "execution_count": 8,
     "metadata": {},
     "output_type": "execute_result"
    }
   ],
   "source": [
    "model.fit(train_a,\n",
    "        epochs=40,\n",
    "        steps_per_epoch=len(train)//batch_size,\n",
    "        validation_data=valid_a,\n",
    "        validation_steps=len(valid)//batch_size,\n",
    "        callbacks=[tf.keras.callbacks.ReduceLROnPlateau(factor=0.74, patience=3, min_lr=0.0001, verbose=True)], #printCallback()],\n",
    "        #verbose=0\n",
    "        )"
   ]
  },
  {
   "cell_type": "code",
   "execution_count": 19,
   "id": "3c21cfee",
   "metadata": {
    "id": "MY4O9yBp1kuZ"
   },
   "outputs": [
    {
     "name": "stdout",
     "output_type": "stream",
     "text": [
      "2/2 [==============================] - 1s 134ms/step - loss: 0.1598 - accuracy: 0.9297\n",
      "10/10 [==============================] - 1s 119ms/step\n",
      "Loss: 0.15984579920768738 Accuracy: 0.9296875\n"
     ]
    }
   ],
   "source": [
    "test_loss, test_accuracy = model.evaluate(test_a, steps=len(test)//batch_size)\n",
    "tested = test_a.take(10)\n",
    "test_labels = np.array([sample[\"label\"] for sample in tested])\n",
    "y_pred = np.argmax(model.predict(tested), axis=-1)\n",
    "print(\"Loss:\", test_loss, \"Accuracy:\", test_accuracy)\n",
    "conf_matrix = confusion_matrix(test_labels, y_pred)\n",
    "print(conf_matrix)"
   ]
  }
 ],
 "metadata": {
  "colab": {
   "provenance": []
  },
  "kernelspec": {
   "display_name": "Python 3 (ipykernel)",
   "language": "python",
   "name": "python3"
  },
  "language_info": {
   "codemirror_mode": {
    "name": "ipython",
    "version": 3
   },
   "file_extension": ".py",
   "mimetype": "text/x-python",
   "name": "python",
   "nbconvert_exporter": "python",
   "pygments_lexer": "ipython3",
   "version": "3.10.12"
  }
 },
 "nbformat": 4,
 "nbformat_minor": 5
}
