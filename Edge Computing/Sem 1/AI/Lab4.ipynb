{
 "cells": [
  {
   "cell_type": "markdown",
   "id": "47c6b979",
   "metadata": {},
   "source": [
    "**Zadanie 1**"
   ]
  },
  {
   "cell_type": "code",
   "execution_count": 1,
   "id": "374cc0bf",
   "metadata": {},
   "outputs": [
    {
     "name": "stderr",
     "output_type": "stream",
     "text": [
      "2024-03-27 11:36:41.640189: E tensorflow/compiler/xla/stream_executor/cuda/cuda_dnn.cc:9360] Unable to register cuDNN factory: Attempting to register factory for plugin cuDNN when one has already been registered\n",
      "2024-03-27 11:36:41.640656: E tensorflow/compiler/xla/stream_executor/cuda/cuda_fft.cc:609] Unable to register cuFFT factory: Attempting to register factory for plugin cuFFT when one has already been registered\n",
      "2024-03-27 11:36:41.643161: E tensorflow/compiler/xla/stream_executor/cuda/cuda_blas.cc:1537] Unable to register cuBLAS factory: Attempting to register factory for plugin cuBLAS when one has already been registered\n",
      "2024-03-27 11:36:41.937649: I tensorflow/core/platform/cpu_feature_guard.cc:183] This TensorFlow binary is optimized to use available CPU instructions in performance-critical operations.\n",
      "To enable the following instructions: SSE3 SSE4.1 SSE4.2 AVX, in other operations, rebuild TensorFlow with the appropriate compiler flags.\n"
     ]
    }
   ],
   "source": [
    "import tensorflow as tf\n",
    "from tensorflow.keras.models import Sequential, Model\n",
    "from tensorflow.keras.layers import Flatten, Dense\n",
    "from sklearn.metrics import accuracy_score, precision_score, recall_score\n",
    "import matplotlib.pyplot as plt"
   ]
  },
  {
   "cell_type": "code",
   "execution_count": 2,
   "id": "dad7f258",
   "metadata": {},
   "outputs": [],
   "source": [
    "(train_x, train_y), (test_x, test_y) = tf.keras.datasets.mnist.load_data()\n",
    "train_x = train_x.astype('float32') / 255.0\n",
    "test_x  = test_x.astype('float32') / 255.0"
   ]
  },
  {
   "cell_type": "code",
   "execution_count": 3,
   "id": "23545b0c",
   "metadata": {},
   "outputs": [
    {
     "name": "stderr",
     "output_type": "stream",
     "text": [
      "2024-03-27 11:36:47.268978: I tensorflow/compiler/xla/stream_executor/cuda/cuda_gpu_executor.cc:880] could not open file to read NUMA node: /sys/bus/pci/devices/0000:01:00.0/numa_node\n",
      "Your kernel may have been built without NUMA support.\n",
      "2024-03-27 11:36:47.353010: I tensorflow/compiler/xla/stream_executor/cuda/cuda_gpu_executor.cc:880] could not open file to read NUMA node: /sys/bus/pci/devices/0000:01:00.0/numa_node\n",
      "Your kernel may have been built without NUMA support.\n",
      "2024-03-27 11:36:47.353057: I tensorflow/compiler/xla/stream_executor/cuda/cuda_gpu_executor.cc:880] could not open file to read NUMA node: /sys/bus/pci/devices/0000:01:00.0/numa_node\n",
      "Your kernel may have been built without NUMA support.\n",
      "2024-03-27 11:36:47.354973: I tensorflow/compiler/xla/stream_executor/cuda/cuda_gpu_executor.cc:880] could not open file to read NUMA node: /sys/bus/pci/devices/0000:01:00.0/numa_node\n",
      "Your kernel may have been built without NUMA support.\n",
      "2024-03-27 11:36:47.355020: I tensorflow/compiler/xla/stream_executor/cuda/cuda_gpu_executor.cc:880] could not open file to read NUMA node: /sys/bus/pci/devices/0000:01:00.0/numa_node\n",
      "Your kernel may have been built without NUMA support.\n",
      "2024-03-27 11:36:47.355049: I tensorflow/compiler/xla/stream_executor/cuda/cuda_gpu_executor.cc:880] could not open file to read NUMA node: /sys/bus/pci/devices/0000:01:00.0/numa_node\n",
      "Your kernel may have been built without NUMA support.\n",
      "2024-03-27 11:36:47.523227: I tensorflow/compiler/xla/stream_executor/cuda/cuda_gpu_executor.cc:880] could not open file to read NUMA node: /sys/bus/pci/devices/0000:01:00.0/numa_node\n",
      "Your kernel may have been built without NUMA support.\n",
      "2024-03-27 11:36:47.523309: I tensorflow/compiler/xla/stream_executor/cuda/cuda_gpu_executor.cc:880] could not open file to read NUMA node: /sys/bus/pci/devices/0000:01:00.0/numa_node\n",
      "Your kernel may have been built without NUMA support.\n",
      "2024-03-27 11:36:47.523320: I tensorflow/core/common_runtime/gpu/gpu_device.cc:1974] Could not identify NUMA node of platform GPU id 0, defaulting to 0.  Your kernel may not have been built with NUMA support.\n",
      "2024-03-27 11:36:47.523359: I tensorflow/compiler/xla/stream_executor/cuda/cuda_gpu_executor.cc:880] could not open file to read NUMA node: /sys/bus/pci/devices/0000:01:00.0/numa_node\n",
      "Your kernel may have been built without NUMA support.\n",
      "2024-03-27 11:36:47.523378: I tensorflow/core/common_runtime/gpu/gpu_device.cc:1883] Created device /job:localhost/replica:0/task:0/device:GPU:0 with 1503 MB memory:  -> device: 0, name: NVIDIA GeForce RTX 3050 Laptop GPU, pci bus id: 0000:01:00.0, compute capability: 8.6\n"
     ]
    }
   ],
   "source": [
    "seqModel = Sequential([\n",
    "                       Flatten(input_shape=(28, 28)),\n",
    "                       Dense(128, activation='relu'),\n",
    "                       Dense(128, activation='relu'),\n",
    "                       Dense(10, activation='softmax')\n",
    "                     ])\n",
    "\n",
    "x = tf.keras.Input(shape=(28, 28))\n",
    "y = Flatten()(x)\n",
    "y = Dense(128, activation='relu')(y)\n",
    "y = Dense(128, activation='relu')(y)\n",
    "y = Dense(10, activation='softmax')(y)\n",
    "funcModel = Model(inputs=x, outputs=y)\n",
    "\n",
    "seqModel.load_weights('model_w.h5')\n",
    "funcModel.load_weights('model_w.h5')"
   ]
  },
  {
   "cell_type": "code",
   "execution_count": 4,
   "id": "e5a25e94",
   "metadata": {},
   "outputs": [
    {
     "name": "stdout",
     "output_type": "stream",
     "text": [
      "313/313 [==============================] - 1s 2ms/step\n",
      "Accuracy: 0.9778\n",
      "Precision: 0.9778581534433096\n",
      "Recall: 0.9775777296255154\n"
     ]
    }
   ],
   "source": [
    "out_y = tf.argmax(seqModel.predict(test_x), axis=1)\n",
    "\n",
    "print(\"Accuracy:\", accuracy_score(test_y, out_y))\n",
    "print(\"Precision:\", precision_score(test_y, out_y, average='macro'))\n",
    "print(\"Recall:\", recall_score(test_y, out_y, average='macro'))"
   ]
  },
  {
   "cell_type": "code",
   "execution_count": 5,
   "id": "a027901e",
   "metadata": {},
   "outputs": [
    {
     "name": "stdout",
     "output_type": "stream",
     "text": [
      "313/313 [==============================] - 1s 1ms/step\n",
      "Accuracy: 0.9778\n",
      "Precision: 0.9778581534433096\n",
      "Recall: 0.9775777296255154\n"
     ]
    }
   ],
   "source": [
    "out_y = tf.argmax(funcModel.predict(test_x), axis=1)\n",
    "print(\"Accuracy:\", accuracy_score(test_y, out_y))\n",
    "print(\"Precision:\", precision_score(test_y, out_y, average='macro'))\n",
    "print(\"Recall:\", recall_score(test_y, out_y, average='macro'))"
   ]
  },
  {
   "cell_type": "markdown",
   "id": "4ada2d6e",
   "metadata": {},
   "source": [
    "**Zadanie 2**"
   ]
  },
  {
   "cell_type": "code",
   "execution_count": 6,
   "id": "e9de8010",
   "metadata": {},
   "outputs": [
    {
     "name": "stdout",
     "output_type": "stream",
     "text": [
      "Zwykle: tf.Tensor(\n",
      "[[2.9017150e-10 9.9631009e-08 9.1427692e-06 8.2642044e-05 2.4783176e-09\n",
      "  1.3760496e-08 2.5339949e-12 9.9990022e-01 8.1127297e-08 7.8429675e-06]\n",
      " [2.0258678e-11 4.6203027e-07 9.9999869e-01 6.8475049e-07 2.3875413e-16\n",
      "  2.0451861e-08 9.4726990e-11 1.1061819e-08 9.8418752e-08 4.8029545e-12]\n",
      " [8.7542776e-07 9.9791926e-01 8.5040643e-05 5.1883435e-06 8.6449552e-05\n",
      "  2.7820215e-06 5.2900166e-05 1.4191850e-03 4.1309578e-04 1.5299296e-05]\n",
      " [9.9987268e-01 1.6905013e-07 9.9806151e-05 1.1384558e-07 5.2204637e-08\n",
      "  3.0985774e-07 4.4615067e-06 8.5699776e-06 2.8328369e-09 1.3971485e-05]\n",
      " [1.1878762e-08 2.2973150e-09 2.3022290e-08 1.4703635e-08 9.9937505e-01\n",
      "  2.6422615e-06 1.1956594e-08 3.0697954e-06 2.3329530e-06 6.1690516e-04]], shape=(5, 10), dtype=float32) \n",
      "Dodane: tf.Tensor(\n",
      "[[5.        5.        5.000009  5.0000825 5.        5.        5.\n",
      "  5.9999003 5.        5.0000076]\n",
      " [5.        5.0000005 5.9999986 5.0000005 5.        5.        5.\n",
      "  5.        5.        5.       ]\n",
      " [5.000001  5.997919  5.000085  5.0000052 5.0000863 5.000003  5.000053\n",
      "  5.001419  5.000413  5.0000153]\n",
      " [5.9998727 5.        5.0000997 5.        5.        5.0000005 5.0000043\n",
      "  5.0000086 5.        5.000014 ]\n",
      " [5.        5.        5.        5.        5.999375  5.000003  5.\n",
      "  5.000003  5.0000024 5.000617 ]], shape=(5, 10), dtype=float32)\n"
     ]
    }
   ],
   "source": [
    "x = tf.keras.Input(shape=(), dtype=tf.float32)\n",
    "x2 = tf.keras.Input(shape=(28, 28), dtype=tf.float32)\n",
    "y = seqModel(x2)\n",
    "y2 = y + x\n",
    "func2Model = tf.keras.Model(inputs=[x, x2], outputs=[y, y2])\n",
    "\n",
    "in1 = tf.constant(5.0, tf.float32)\n",
    "in2 = test_x[:5]\n",
    "\n",
    "out1, out2 = func2Model([in1, in2])\n",
    "\n",
    "print(\"Zwykle:\", out1, \"\\nDodane:\", out2)"
   ]
  },
  {
   "cell_type": "code",
   "execution_count": null,
   "id": "6cc589ba",
   "metadata": {},
   "outputs": [],
   "source": []
  }
 ],
 "metadata": {
  "kernelspec": {
   "display_name": "Python 3 (ipykernel)",
   "language": "python",
   "name": "python3"
  },
  "language_info": {
   "codemirror_mode": {
    "name": "ipython",
    "version": 3
   },
   "file_extension": ".py",
   "mimetype": "text/x-python",
   "name": "python",
   "nbconvert_exporter": "python",
   "pygments_lexer": "ipython3",
   "version": "3.10.12"
  }
 },
 "nbformat": 4,
 "nbformat_minor": 5
}
